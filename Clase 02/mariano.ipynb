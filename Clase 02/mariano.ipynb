{
 "cells": [
  {
   "cell_type": "code",
   "execution_count": 26,
   "metadata": {},
   "outputs": [
    {
     "name": "stdout",
     "output_type": "stream",
     "text": [
      "Número de resultados posibles en el espacio muestral: 1024\n"
     ]
    }
   ],
   "source": [
    "import itertools\n",
    "import math\n",
    "import numpy as np\n",
    "from scipy.stats import chi2_contingency\n",
    "import pandas as pd\n",
    "\n",
    "# 1\n",
    "posibles_resultados = ['Cara', 'Cruz']\n",
    "\n",
    "espacio_muestral = list(itertools.product(posibles_resultados, repeat=10))\n",
    "\n",
    "print(f\"Número de resultados posibles en el espacio muestral: {len(espacio_muestral)}\")\n"
   ]
  },
  {
   "cell_type": "code",
   "execution_count": 27,
   "metadata": {},
   "outputs": [
    {
     "name": "stdout",
     "output_type": "stream",
     "text": [
      "Número de combinaciones posibles: 120\n"
     ]
    }
   ],
   "source": [
    "# 2\n",
    "\n",
    "n = 10  # Número total de pasajeros\n",
    "k = 3   # Número de pasajeros a seleccionar\n",
    "\n",
    "combinaciones = math.comb(n, k)\n",
    "print(f\"Número de combinaciones posibles: {combinaciones}\")\n"
   ]
  },
  {
   "cell_type": "code",
   "execution_count": 28,
   "metadata": {},
   "outputs": [
    {
     "name": "stdout",
     "output_type": "stream",
     "text": [
      "Cuadro de Probabilidades:\n",
      "Región     Cinturón   No Cinturón Prob Cint  Prob No Cint\n",
      "--------------------------------------------------\n",
      "Norte           148.0       52.0       0.14       0.05\n",
      "Noreste         162.0       54.0       0.15       0.05\n",
      "Sur             296.0       74.0       0.27       0.07\n",
      "Centro          252.0       48.0       0.23       0.04\n",
      "--------------------------------------------------\n",
      "p-valor del test de chi-cuadrado: 0.01995122376406221\n"
     ]
    }
   ],
   "source": [
    "# 3\n",
    "\n",
    "# Datos muestrales\n",
    "datos = np.array([\n",
    "    [148, 52],\n",
    "    [162, 54],\n",
    "    [296, 74],\n",
    "    [252, 48]\n",
    "])\n",
    "\n",
    "# Calcular el test de chi-cuadrado y las probabilidades\n",
    "chi2, p, _, _ = chi2_contingency(datos)\n",
    "\n",
    "# Calcular las probabilidades normalizadas\n",
    "probabilidades = datos / datos.sum()\n",
    "\n",
    "# Construir el cuadro con las probabilidades\n",
    "cuadro_probabilidades = np.hstack((datos, probabilidades))\n",
    "\n",
    "print(\"Cuadro de Probabilidades:\")\n",
    "print(\"{:10} {:10} {:10} {:10} {:10}\".format(\"Región\", \"Cinturón\", \"No Cinturón\", \"Prob Cint\", \"Prob No Cint\"))\n",
    "print(\"-\" * 50)\n",
    "for i, row in enumerate(cuadro_probabilidades):\n",
    "    print(\"{:10} {:10} {:10} {:10.2f} {:10.2f}\".format(\n",
    "        [\"Norte\", \"Noreste\", \"Sur\", \"Centro\"][i], row[0], row[1], row[2], row[3]\n",
    "    ))\n",
    "print(\"-\" * 50)\n",
    "print(\"p-valor del test de chi-cuadrado:\", p)\n"
   ]
  },
  {
   "cell_type": "code",
   "execution_count": 29,
   "metadata": {},
   "outputs": [
    {
     "name": "stdout",
     "output_type": "stream",
     "text": [
      "Probabilidad de obtener una carta roja: 0.50\n",
      "Probabilidad de obtener una carta negra: 0.50\n",
      "Probabilidad de obtener una carta pica: 0.25\n",
      "Probabilidad de obtener una carta trébol: 0.25\n",
      "Probabilidad de obtener una carta corazón: 0.25\n",
      "Probabilidad de obtener una carta diamante: 0.25\n"
     ]
    }
   ],
   "source": [
    "def calcular_probabilidades():\n",
    "    total_cartas = 52\n",
    "\n",
    "    # Número de cartas de cada tipo\n",
    "    cartas_por_tipo = {\n",
    "        'roja': 26,\n",
    "        'negra': 26,\n",
    "        'pica': 13,\n",
    "        'trébol': 13,\n",
    "        'corazón': 13,\n",
    "        'diamante': 13\n",
    "    }\n",
    "\n",
    "    probabilidades = {}\n",
    "\n",
    "    for tipo, cantidad in cartas_por_tipo.items():\n",
    "        probabilidad = cantidad / total_cartas\n",
    "        probabilidades[tipo] = probabilidad\n",
    "\n",
    "    return probabilidades\n",
    "\n",
    "# Calcular las probabilidades\n",
    "probabilidades = calcular_probabilidades()\n",
    "\n",
    "# Imprimir las probabilidades\n",
    "for tipo, probabilidad in probabilidades.items():\n",
    "    print(f\"Probabilidad de obtener una carta {tipo}: {probabilidad:.2f}\")\n"
   ]
  },
  {
   "cell_type": "code",
   "execution_count": 30,
   "metadata": {},
   "outputs": [
    {
     "data": {
      "text/plain": [
       "0.15384615384615385"
      ]
     },
     "execution_count": 30,
     "metadata": {},
     "output_type": "execute_result"
    }
   ],
   "source": [
    "# 5\n",
    "4/52 + 4/52"
   ]
  },
  {
   "cell_type": "code",
   "execution_count": 31,
   "metadata": {},
   "outputs": [
    {
     "data": {
      "text/plain": [
       "0.03125"
      ]
     },
     "execution_count": 31,
     "metadata": {},
     "output_type": "execute_result"
    }
   ],
   "source": [
    "#6\n",
    "1/32"
   ]
  },
  {
   "cell_type": "code",
   "execution_count": 32,
   "metadata": {},
   "outputs": [
    {
     "name": "stdout",
     "output_type": "stream",
     "text": [
      "0.4 0.26 0.34\n"
     ]
    }
   ],
   "source": [
    "#7\n",
    "E1 = 20\n",
    "E2 = 13\n",
    "E3 = 17\n",
    "total = 50\n",
    "print(E1 / 50, E2 / 50, E3 / 50)"
   ]
  }
 ],
 "metadata": {
  "kernelspec": {
   "display_name": "Python 3",
   "language": "python",
   "name": "python3"
  },
  "language_info": {
   "codemirror_mode": {
    "name": "ipython",
    "version": 3
   },
   "file_extension": ".py",
   "mimetype": "text/x-python",
   "name": "python",
   "nbconvert_exporter": "python",
   "pygments_lexer": "ipython3",
   "version": "3.11.1"
  },
  "orig_nbformat": 4
 },
 "nbformat": 4,
 "nbformat_minor": 2
}
