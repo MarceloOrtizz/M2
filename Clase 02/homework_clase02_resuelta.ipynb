{
 "cells": [
  {
   "cell_type": "code",
   "execution_count": 6,
   "metadata": {},
   "outputs": [
    {
     "name": "stdout",
     "output_type": "stream",
     "text": [
      "Los resultados posibles son: 1024\n"
     ]
    }
   ],
   "source": [
    "#1\n",
    "nro_tiros = int(input(\"¿Cuántas veces se va a tirar la moneda: \"))\n",
    "resultados = 2 ** nro_tiros\n",
    "print(\"Los resultados posibles son:\", resultados)"
   ]
  },
  {
   "cell_type": "code",
   "execution_count": 7,
   "metadata": {},
   "outputs": [
    {
     "name": "stdout",
     "output_type": "stream",
     "text": [
      "120.0\n",
      "720.0\n"
     ]
    }
   ],
   "source": [
    "#2\n",
    "from math import factorial\n",
    "#Combinación\n",
    "control_aeropuerto = factorial(10) / (factorial(3) * factorial(10-3))\n",
    "print(control_aeropuerto)\n",
    "#Permutación\n",
    "control_aeropuerto = factorial(10) / factorial(10-3)\n",
    "print(control_aeropuerto)\n",
    "#abc   bac   cab\n",
    "#acb   bca   cba"
   ]
  },
  {
   "cell_type": "code",
   "execution_count": 8,
   "metadata": {},
   "outputs": [
    {
     "data": {
      "text/plain": [
       "{'Ana': 33, 'Roberto': 23}"
      ]
     },
     "execution_count": 8,
     "metadata": {},
     "output_type": "execute_result"
    }
   ],
   "source": [
    "#Bonus track\n",
    "#impares = list(range(1, 100, 2))\n",
    "#edades = {'Ana': 33, 'Roberto': 23}                                        \n",
    "edades = dict(Ana = 33, Roberto = 23)\n",
    "edades"
   ]
  },
  {
   "cell_type": "code",
   "execution_count": 17,
   "metadata": {},
   "outputs": [
    {
     "name": "stdout",
     "output_type": "stream",
     "text": [
      "Si    0.790055\n",
      "No    0.209945\n",
      "dtype: float64\n",
      "1.0\n"
     ]
    },
    {
     "data": {
      "text/html": [
       "<div>\n",
       "<style scoped>\n",
       "    .dataframe tbody tr th:only-of-type {\n",
       "        vertical-align: middle;\n",
       "    }\n",
       "\n",
       "    .dataframe tbody tr th {\n",
       "        vertical-align: top;\n",
       "    }\n",
       "\n",
       "    .dataframe thead th {\n",
       "        text-align: right;\n",
       "    }\n",
       "</style>\n",
       "<table border=\"1\" class=\"dataframe\">\n",
       "  <thead>\n",
       "    <tr style=\"text-align: right;\">\n",
       "      <th></th>\n",
       "      <th>Si</th>\n",
       "      <th>No</th>\n",
       "      <th>si+no</th>\n",
       "    </tr>\n",
       "  </thead>\n",
       "  <tbody>\n",
       "    <tr>\n",
       "      <th>Norte</th>\n",
       "      <td>0.136280</td>\n",
       "      <td>0.047882</td>\n",
       "      <td>0.184162</td>\n",
       "    </tr>\n",
       "    <tr>\n",
       "      <th>Noreste</th>\n",
       "      <td>0.149171</td>\n",
       "      <td>0.049724</td>\n",
       "      <td>0.198895</td>\n",
       "    </tr>\n",
       "    <tr>\n",
       "      <th>Sur</th>\n",
       "      <td>0.272560</td>\n",
       "      <td>0.068140</td>\n",
       "      <td>0.340700</td>\n",
       "    </tr>\n",
       "    <tr>\n",
       "      <th>Centro</th>\n",
       "      <td>0.232044</td>\n",
       "      <td>0.044199</td>\n",
       "      <td>0.276243</td>\n",
       "    </tr>\n",
       "    <tr>\n",
       "      <th>total</th>\n",
       "      <td>0.790055</td>\n",
       "      <td>0.209945</td>\n",
       "      <td>1.000000</td>\n",
       "    </tr>\n",
       "  </tbody>\n",
       "</table>\n",
       "</div>"
      ],
      "text/plain": [
       "               Si        No     si+no\n",
       "Norte    0.136280  0.047882  0.184162\n",
       "Noreste  0.149171  0.049724  0.198895\n",
       "Sur      0.272560  0.068140  0.340700\n",
       "Centro   0.232044  0.044199  0.276243\n",
       "total    0.790055  0.209945  1.000000"
      ]
     },
     "execution_count": 17,
     "metadata": {},
     "output_type": "execute_result"
    }
   ],
   "source": [
    "#3\n",
    "# Se usó el método frecuentista\n",
    "import pandas as pd\n",
    "regiones = ['Norte','Noreste','Sur','Centro']\n",
    "valores_si = [148, 162, 296, 252]\n",
    "valores_no = [52, 54, 74, 48]\n",
    "datos = dict(Si = valores_si, No = valores_no)\n",
    "cuadro = pd.DataFrame(datos, index=regiones)\n",
    "\n",
    "cuadro = cuadro / (sum(cuadro.sum()))\n",
    "print((cuadro.sum()))\n",
    "print((sum(cuadro.sum())))\n",
    "cuadro\n",
    "cuadro.loc['total'] = sum(cuadro.Si), sum(cuadro.No)\n",
    "cuadro\n",
    "cuadro['si+no']=cuadro['Si'] + cuadro['No']\n",
    "#cuadro = cuadro.assign(Total = cuadro.Si + cuadro.No)\n",
    " \n",
    "cuadro\n",
    "\n",
    "# El director está satisfecho porque la probabilidad de que sí se us el cinturón es de 0.79\n",
    "# Se usa más en la región sur, con probabilidad 0.27"
   ]
  },
  {
   "cell_type": "code",
   "execution_count": 5,
   "metadata": {},
   "outputs": [
    {
     "data": {
      "text/plain": [
       "0.25"
      ]
     },
     "execution_count": 5,
     "metadata": {},
     "output_type": "execute_result"
    }
   ],
   "source": [
    "#4\n",
    "def probabilidadNaipes(categoria):\n",
    "   cartas_totales = 52\n",
    "   cartas_color = 26\n",
    "   cartas_palo = 13\n",
    "   if categoria == 'rojo' or categoria == 'negro':\n",
    "      return cartas_color / cartas_totales\n",
    "   elif categoria in ('pica', 'trebol', 'corazon', 'diamante'):\n",
    "      return cartas_palo / cartas_totales\n",
    "\n",
    "#probabilidadNaipes('rojo')\n",
    "probabilidadNaipes('pica')"
   ]
  },
  {
   "cell_type": "code",
   "execution_count": null,
   "metadata": {},
   "outputs": [],
   "source": [
    "#5\n",
    "4/52 + 4/52"
   ]
  },
  {
   "cell_type": "code",
   "execution_count": null,
   "metadata": {},
   "outputs": [],
   "source": [
    "#6\n",
    "1/32\n",
    "# No es el modelo equiprobable"
   ]
  },
  {
   "cell_type": "code",
   "execution_count": null,
   "metadata": {},
   "outputs": [],
   "source": [
    "#7\n",
    "E1 = 20\n",
    "E2 = 13\n",
    "E3 = 17\n",
    "total = 50\n",
    "print(E1 / 50, E2 / 50, E3 / 50)"
   ]
  }
 ],
 "metadata": {
  "kernelspec": {
   "display_name": "Python 3.9.7 64-bit",
   "language": "python",
   "name": "python3"
  },
  "language_info": {
   "codemirror_mode": {
    "name": "ipython",
    "version": 3
   },
   "file_extension": ".py",
   "mimetype": "text/x-python",
   "name": "python",
   "nbconvert_exporter": "python",
   "pygments_lexer": "ipython3",
   "version": "3.10.11"
  },
  "orig_nbformat": 4,
  "vscode": {
   "interpreter": {
    "hash": "11938c6bc6919ae2720b4d5011047913343b08a43b18698fd82dedb0d4417594"
   }
  }
 },
 "nbformat": 4,
 "nbformat_minor": 2
}
