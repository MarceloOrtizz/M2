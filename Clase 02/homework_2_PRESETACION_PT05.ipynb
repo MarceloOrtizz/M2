{
 "cells": [
  {
   "cell_type": "markdown",
   "id": "e7bac9ff",
   "metadata": {},
   "source": [
    "# Homework\n",
    "\n",
    "Utilizando Python cálcular las siguientes probabilidades. Para cada uno intenta determinar que método aplicaste.\n",
    "\n",
    "1. Lanza una moneda al aire 10 veces, ¿cuantos resultados posibles forman parte del espacio muestral?."
   ]
  },
  {
   "cell_type": "code",
   "execution_count": 8,
   "id": "67b464b3",
   "metadata": {},
   "outputs": [],
   "source": [
    "import math\n",
    "import numpy as np\n",
    "import pandas as pd"
   ]
  },
  {
   "cell_type": "code",
   "execution_count": 9,
   "id": "9c895fef",
   "metadata": {},
   "outputs": [],
   "source": [
    "moneda = ['H', 'T']"
   ]
  },
  {
   "cell_type": "code",
   "execution_count": 10,
   "id": "689ec9f0",
   "metadata": {},
   "outputs": [],
   "source": [
    "cantidad_de_monedad = 10"
   ]
  },
  {
   "cell_type": "code",
   "execution_count": 11,
   "id": "71df5bb4",
   "metadata": {},
   "outputs": [],
   "source": [
    "def resultados_posibles(moneda, cantidad):\n",
    "    return len(moneda)**cantidad"
   ]
  },
  {
   "cell_type": "code",
   "execution_count": 12,
   "id": "846fb32d",
   "metadata": {},
   "outputs": [
    {
     "data": {
      "text/plain": [
       "1024"
      ]
     },
     "execution_count": 12,
     "metadata": {},
     "output_type": "execute_result"
    }
   ],
   "source": [
    " resultados_posibles(moneda, cantidad_de_monedad)"
   ]
  },
  {
   "cell_type": "code",
   "execution_count": null,
   "id": "3a0602af",
   "metadata": {},
   "outputs": [],
   "source": []
  },
  {
   "cell_type": "code",
   "execution_count": null,
   "id": "0b097dd8",
   "metadata": {},
   "outputs": [],
   "source": []
  },
  {
   "cell_type": "code",
   "execution_count": null,
   "id": "9ceed5b9",
   "metadata": {},
   "outputs": [],
   "source": []
  },
  {
   "cell_type": "markdown",
   "id": "d3a3fe70",
   "metadata": {},
   "source": [
    "2. En un aeropuerto se tiene a 10 pasajeros esperando en la sala de preembarque, la polícia debe controlar a 3 de ellos. ¿Cuantas combinaciones posibles se pueden obtener?."
   ]
  },
  {
   "cell_type": "code",
   "execution_count": 13,
   "id": "c7329e80",
   "metadata": {},
   "outputs": [],
   "source": [
    "personas_en_la_fila = 10"
   ]
  },
  {
   "cell_type": "code",
   "execution_count": 14,
   "id": "75925ae8",
   "metadata": {},
   "outputs": [],
   "source": [
    "personas_a_controlar = 3"
   ]
  },
  {
   "cell_type": "code",
   "execution_count": null,
   "id": "3c4b77f3",
   "metadata": {},
   "outputs": [],
   "source": []
  },
  {
   "cell_type": "code",
   "execution_count": 15,
   "id": "57594a25",
   "metadata": {},
   "outputs": [],
   "source": [
    "def combinaciones(N, k):\n",
    "    return math.factorial(N) // (math.factorial(k) * math.factorial(N - k))"
   ]
  },
  {
   "cell_type": "code",
   "execution_count": 16,
   "id": "5ecbe39c",
   "metadata": {},
   "outputs": [
    {
     "data": {
      "text/plain": [
       "120"
      ]
     },
     "execution_count": 16,
     "metadata": {},
     "output_type": "execute_result"
    }
   ],
   "source": [
    "combinaciones(N=personas_en_la_fila, k=personas_a_controlar)"
   ]
  },
  {
   "cell_type": "code",
   "execution_count": null,
   "id": "a0668e8f",
   "metadata": {},
   "outputs": [],
   "source": []
  },
  {
   "cell_type": "code",
   "execution_count": null,
   "id": "11346f76",
   "metadata": {},
   "outputs": [],
   "source": []
  },
  {
   "cell_type": "code",
   "execution_count": null,
   "id": "9a899844",
   "metadata": {},
   "outputs": [],
   "source": []
  },
  {
   "cell_type": "markdown",
   "id": "df2597fc",
   "metadata": {},
   "source": [
    "3. La Agencia Nacional de Seguridad Vial realizó una investigación para saber si los conductores de están usando sus cinturones de seguridad. Los datos muestrales fueron los siguientes:\n",
    "Conductores que emplean el cinturón\n",
    "![Ejercicio](img/ejercicio3.png)\n",
    "\n",
    "    a) ¿Qué metodo cree que se utilizo para asignar probabilidades?."
   ]
  },
  {
   "cell_type": "markdown",
   "id": "f4ab8860",
   "metadata": {},
   "source": [
    "Frecuentista"
   ]
  },
  {
   "cell_type": "code",
   "execution_count": null,
   "id": "c96e1c25",
   "metadata": {},
   "outputs": [],
   "source": []
  },
  {
   "cell_type": "markdown",
   "id": "6c3fe697",
   "metadata": {},
   "source": [
    "b) Construya un cuadro similar, pero con la asignación de probabilidades."
   ]
  },
  {
   "cell_type": "code",
   "execution_count": 17,
   "id": "c63da7df",
   "metadata": {},
   "outputs": [],
   "source": [
    "df_dict = {\n",
    "    'Región': ['Norte', 'Noreste', 'Sur', 'Centro'],\n",
    "    'Sí': [148, 162, 296, 252],\n",
    "    'No': [52, 54, 74, 48]\n",
    "}"
   ]
  },
  {
   "cell_type": "code",
   "execution_count": 18,
   "id": "353dbe77",
   "metadata": {},
   "outputs": [],
   "source": [
    "df = pd.DataFrame(df_dict)"
   ]
  },
  {
   "cell_type": "code",
   "execution_count": 19,
   "id": "19ff1b84",
   "metadata": {},
   "outputs": [
    {
     "data": {
      "text/html": [
       "<div>\n",
       "<style scoped>\n",
       "    .dataframe tbody tr th:only-of-type {\n",
       "        vertical-align: middle;\n",
       "    }\n",
       "\n",
       "    .dataframe tbody tr th {\n",
       "        vertical-align: top;\n",
       "    }\n",
       "\n",
       "    .dataframe thead th {\n",
       "        text-align: right;\n",
       "    }\n",
       "</style>\n",
       "<table border=\"1\" class=\"dataframe\">\n",
       "  <thead>\n",
       "    <tr style=\"text-align: right;\">\n",
       "      <th></th>\n",
       "      <th>Región</th>\n",
       "      <th>Sí</th>\n",
       "      <th>No</th>\n",
       "    </tr>\n",
       "  </thead>\n",
       "  <tbody>\n",
       "    <tr>\n",
       "      <th>0</th>\n",
       "      <td>Norte</td>\n",
       "      <td>148</td>\n",
       "      <td>52</td>\n",
       "    </tr>\n",
       "    <tr>\n",
       "      <th>1</th>\n",
       "      <td>Noreste</td>\n",
       "      <td>162</td>\n",
       "      <td>54</td>\n",
       "    </tr>\n",
       "    <tr>\n",
       "      <th>2</th>\n",
       "      <td>Sur</td>\n",
       "      <td>296</td>\n",
       "      <td>74</td>\n",
       "    </tr>\n",
       "    <tr>\n",
       "      <th>3</th>\n",
       "      <td>Centro</td>\n",
       "      <td>252</td>\n",
       "      <td>48</td>\n",
       "    </tr>\n",
       "  </tbody>\n",
       "</table>\n",
       "</div>"
      ],
      "text/plain": [
       "    Región   Sí  No\n",
       "0    Norte  148  52\n",
       "1  Noreste  162  54\n",
       "2      Sur  296  74\n",
       "3   Centro  252  48"
      ]
     },
     "execution_count": 19,
     "metadata": {},
     "output_type": "execute_result"
    }
   ],
   "source": [
    "df"
   ]
  },
  {
   "cell_type": "code",
   "execution_count": 20,
   "id": "ba17c3fe",
   "metadata": {},
   "outputs": [],
   "source": [
    "def probabilidades(df):\n",
    "    total = df['Sí'].sum() + df['No'].sum()\n",
    "    df['prob_sí'] = df['Sí'] / total\n",
    "    df['prob_no'] = df['No'] / total\n",
    "    return df"
   ]
  },
  {
   "cell_type": "code",
   "execution_count": 24,
   "id": "62276783",
   "metadata": {},
   "outputs": [],
   "source": [
    "df = probabilidades(df)"
   ]
  },
  {
   "cell_type": "code",
   "execution_count": 25,
   "id": "92fa00de",
   "metadata": {},
   "outputs": [
    {
     "data": {
      "text/html": [
       "<div>\n",
       "<style scoped>\n",
       "    .dataframe tbody tr th:only-of-type {\n",
       "        vertical-align: middle;\n",
       "    }\n",
       "\n",
       "    .dataframe tbody tr th {\n",
       "        vertical-align: top;\n",
       "    }\n",
       "\n",
       "    .dataframe thead th {\n",
       "        text-align: right;\n",
       "    }\n",
       "</style>\n",
       "<table border=\"1\" class=\"dataframe\">\n",
       "  <thead>\n",
       "    <tr style=\"text-align: right;\">\n",
       "      <th></th>\n",
       "      <th>Región</th>\n",
       "      <th>Sí</th>\n",
       "      <th>No</th>\n",
       "      <th>prob_sí</th>\n",
       "      <th>prob_no</th>\n",
       "    </tr>\n",
       "  </thead>\n",
       "  <tbody>\n",
       "    <tr>\n",
       "      <th>0</th>\n",
       "      <td>Norte</td>\n",
       "      <td>148</td>\n",
       "      <td>52</td>\n",
       "      <td>0.136280</td>\n",
       "      <td>0.047882</td>\n",
       "    </tr>\n",
       "    <tr>\n",
       "      <th>1</th>\n",
       "      <td>Noreste</td>\n",
       "      <td>162</td>\n",
       "      <td>54</td>\n",
       "      <td>0.149171</td>\n",
       "      <td>0.049724</td>\n",
       "    </tr>\n",
       "    <tr>\n",
       "      <th>2</th>\n",
       "      <td>Sur</td>\n",
       "      <td>296</td>\n",
       "      <td>74</td>\n",
       "      <td>0.272560</td>\n",
       "      <td>0.068140</td>\n",
       "    </tr>\n",
       "    <tr>\n",
       "      <th>3</th>\n",
       "      <td>Centro</td>\n",
       "      <td>252</td>\n",
       "      <td>48</td>\n",
       "      <td>0.232044</td>\n",
       "      <td>0.044199</td>\n",
       "    </tr>\n",
       "  </tbody>\n",
       "</table>\n",
       "</div>"
      ],
      "text/plain": [
       "    Región   Sí  No   prob_sí   prob_no\n",
       "0    Norte  148  52  0.136280  0.047882\n",
       "1  Noreste  162  54  0.149171  0.049724\n",
       "2      Sur  296  74  0.272560  0.068140\n",
       "3   Centro  252  48  0.232044  0.044199"
      ]
     },
     "execution_count": 25,
     "metadata": {},
     "output_type": "execute_result"
    }
   ],
   "source": [
    "df"
   ]
  },
  {
   "cell_type": "code",
   "execution_count": 23,
   "id": "1f63a335",
   "metadata": {},
   "outputs": [
    {
     "data": {
      "text/plain": [
       "prob_sí    0.790055\n",
       "prob_no    0.209945\n",
       "dtype: float64"
      ]
     },
     "execution_count": 23,
     "metadata": {},
     "output_type": "execute_result"
    }
   ],
   "source": [
    "df[['prob_sí', 'prob_no']].sum()"
   ]
  },
  {
   "cell_type": "code",
   "execution_count": 26,
   "id": "bc01a401",
   "metadata": {},
   "outputs": [
    {
     "data": {
      "text/plain": [
       "1.0"
      ]
     },
     "execution_count": 26,
     "metadata": {},
     "output_type": "execute_result"
    }
   ],
   "source": [
    "np.sum(np.array(df[['prob_sí', 'prob_no']]))"
   ]
  },
  {
   "cell_type": "code",
   "execution_count": 27,
   "id": "56a010fc",
   "metadata": {},
   "outputs": [
    {
     "data": {
      "text/plain": [
       "array([[0.13627993, 0.04788214],\n",
       "       [0.14917127, 0.04972376],\n",
       "       [0.27255985, 0.06813996],\n",
       "       [0.2320442 , 0.0441989 ]])"
      ]
     },
     "execution_count": 27,
     "metadata": {},
     "output_type": "execute_result"
    }
   ],
   "source": [
    "np.array(df[['prob_sí', 'prob_no']])"
   ]
  },
  {
   "cell_type": "code",
   "execution_count": null,
   "id": "8fe94e8b",
   "metadata": {},
   "outputs": [],
   "source": []
  },
  {
   "cell_type": "code",
   "execution_count": null,
   "id": "df19919f",
   "metadata": {},
   "outputs": [],
   "source": []
  },
  {
   "cell_type": "code",
   "execution_count": null,
   "id": "b4c4e324",
   "metadata": {},
   "outputs": [],
   "source": []
  },
  {
   "cell_type": "markdown",
   "id": "8d868661",
   "metadata": {},
   "source": [
    "c) ¿Cuál sería el mejor método pára estimar la probabilidad de que en Estados Unidos un conductor lleve puesto el cinturón?."
   ]
  },
  {
   "cell_type": "markdown",
   "id": "acbabcae",
   "metadata": {},
   "source": [
    "Frecuentista"
   ]
  },
  {
   "cell_type": "code",
   "execution_count": null,
   "id": "be164845",
   "metadata": {},
   "outputs": [],
   "source": []
  },
  {
   "cell_type": "code",
   "execution_count": null,
   "id": "7fb3d7f8",
   "metadata": {},
   "outputs": [],
   "source": []
  },
  {
   "cell_type": "markdown",
   "id": "834243ab",
   "metadata": {},
   "source": [
    "d) Un año antes, la probabilidad en Argentina de que un conductor llevara puesto el cinturón era 0.75. El director de ANSV, se esperaba que la probabilidad llegara a 0.78. ¿Estará satisfecho con los resultados del estudio? (Utilizar tabla adjunta ![Ejercicio](img/ejercicio3.png)"
   ]
  },
  {
   "cell_type": "code",
   "execution_count": 29,
   "id": "e12671ec",
   "metadata": {},
   "outputs": [
    {
     "data": {
      "text/plain": [
       "0.7900552486187845"
      ]
     },
     "execution_count": 29,
     "metadata": {},
     "output_type": "execute_result"
    }
   ],
   "source": [
    "df['prob_sí'].sum() # sí, está satisfecho"
   ]
  },
  {
   "cell_type": "code",
   "execution_count": null,
   "id": "154fd737",
   "metadata": {},
   "outputs": [],
   "source": []
  },
  {
   "cell_type": "code",
   "execution_count": null,
   "id": "9a151f9a",
   "metadata": {},
   "outputs": [],
   "source": []
  },
  {
   "cell_type": "markdown",
   "id": "c236ce83",
   "metadata": {},
   "source": [
    "e) ¿Cuál es la probabilidad de que se use el cinturón en las distintas regiones del país? ¿En qué región se usa más el cinturón?(Utilizar misma tabla que el ejercicio anterior).\n"
   ]
  },
  {
   "cell_type": "code",
   "execution_count": 32,
   "id": "f2a89b0d",
   "metadata": {},
   "outputs": [
    {
     "data": {
      "text/html": [
       "<div>\n",
       "<style scoped>\n",
       "    .dataframe tbody tr th:only-of-type {\n",
       "        vertical-align: middle;\n",
       "    }\n",
       "\n",
       "    .dataframe tbody tr th {\n",
       "        vertical-align: top;\n",
       "    }\n",
       "\n",
       "    .dataframe thead th {\n",
       "        text-align: right;\n",
       "    }\n",
       "</style>\n",
       "<table border=\"1\" class=\"dataframe\">\n",
       "  <thead>\n",
       "    <tr style=\"text-align: right;\">\n",
       "      <th></th>\n",
       "      <th>Región</th>\n",
       "      <th>Sí</th>\n",
       "      <th>No</th>\n",
       "      <th>prob_sí</th>\n",
       "      <th>prob_no</th>\n",
       "    </tr>\n",
       "  </thead>\n",
       "  <tbody>\n",
       "    <tr>\n",
       "      <th>0</th>\n",
       "      <td>Norte</td>\n",
       "      <td>148</td>\n",
       "      <td>52</td>\n",
       "      <td>0.136280</td>\n",
       "      <td>0.047882</td>\n",
       "    </tr>\n",
       "    <tr>\n",
       "      <th>1</th>\n",
       "      <td>Noreste</td>\n",
       "      <td>162</td>\n",
       "      <td>54</td>\n",
       "      <td>0.149171</td>\n",
       "      <td>0.049724</td>\n",
       "    </tr>\n",
       "    <tr>\n",
       "      <th>2</th>\n",
       "      <td>Sur</td>\n",
       "      <td>296</td>\n",
       "      <td>74</td>\n",
       "      <td>0.272560</td>\n",
       "      <td>0.068140</td>\n",
       "    </tr>\n",
       "    <tr>\n",
       "      <th>3</th>\n",
       "      <td>Centro</td>\n",
       "      <td>252</td>\n",
       "      <td>48</td>\n",
       "      <td>0.232044</td>\n",
       "      <td>0.044199</td>\n",
       "    </tr>\n",
       "  </tbody>\n",
       "</table>\n",
       "</div>"
      ],
      "text/plain": [
       "    Región   Sí  No   prob_sí   prob_no\n",
       "0    Norte  148  52  0.136280  0.047882\n",
       "1  Noreste  162  54  0.149171  0.049724\n",
       "2      Sur  296  74  0.272560  0.068140\n",
       "3   Centro  252  48  0.232044  0.044199"
      ]
     },
     "execution_count": 32,
     "metadata": {},
     "output_type": "execute_result"
    }
   ],
   "source": [
    "df"
   ]
  },
  {
   "cell_type": "code",
   "execution_count": 33,
   "id": "43081cc1",
   "metadata": {},
   "outputs": [],
   "source": [
    "total = df['Sí'].sum() + df['No'].sum()"
   ]
  },
  {
   "cell_type": "code",
   "execution_count": 36,
   "id": "9f56417a",
   "metadata": {},
   "outputs": [],
   "source": [
    "df['Total por region'] = df['Sí'] + df['No']"
   ]
  },
  {
   "cell_type": "code",
   "execution_count": 38,
   "id": "8bb3b8cb",
   "metadata": {},
   "outputs": [],
   "source": [
    "df['Sí por región'] = df['Sí'] / df['Total por region']"
   ]
  },
  {
   "cell_type": "code",
   "execution_count": 41,
   "id": "e4553727",
   "metadata": {},
   "outputs": [],
   "source": [
    "df['No por región'] = df['No'] / df['Total por region']"
   ]
  },
  {
   "cell_type": "code",
   "execution_count": 42,
   "id": "51e2af36",
   "metadata": {},
   "outputs": [
    {
     "data": {
      "text/html": [
       "<div>\n",
       "<style scoped>\n",
       "    .dataframe tbody tr th:only-of-type {\n",
       "        vertical-align: middle;\n",
       "    }\n",
       "\n",
       "    .dataframe tbody tr th {\n",
       "        vertical-align: top;\n",
       "    }\n",
       "\n",
       "    .dataframe thead th {\n",
       "        text-align: right;\n",
       "    }\n",
       "</style>\n",
       "<table border=\"1\" class=\"dataframe\">\n",
       "  <thead>\n",
       "    <tr style=\"text-align: right;\">\n",
       "      <th></th>\n",
       "      <th>Región</th>\n",
       "      <th>Sí</th>\n",
       "      <th>No</th>\n",
       "      <th>prob_sí</th>\n",
       "      <th>prob_no</th>\n",
       "      <th>Total por region</th>\n",
       "      <th>Sí por región</th>\n",
       "      <th>No por región</th>\n",
       "    </tr>\n",
       "  </thead>\n",
       "  <tbody>\n",
       "    <tr>\n",
       "      <th>0</th>\n",
       "      <td>Norte</td>\n",
       "      <td>148</td>\n",
       "      <td>52</td>\n",
       "      <td>0.136280</td>\n",
       "      <td>0.047882</td>\n",
       "      <td>200</td>\n",
       "      <td>0.74</td>\n",
       "      <td>0.26</td>\n",
       "    </tr>\n",
       "    <tr>\n",
       "      <th>1</th>\n",
       "      <td>Noreste</td>\n",
       "      <td>162</td>\n",
       "      <td>54</td>\n",
       "      <td>0.149171</td>\n",
       "      <td>0.049724</td>\n",
       "      <td>216</td>\n",
       "      <td>0.75</td>\n",
       "      <td>0.25</td>\n",
       "    </tr>\n",
       "    <tr>\n",
       "      <th>2</th>\n",
       "      <td>Sur</td>\n",
       "      <td>296</td>\n",
       "      <td>74</td>\n",
       "      <td>0.272560</td>\n",
       "      <td>0.068140</td>\n",
       "      <td>370</td>\n",
       "      <td>0.80</td>\n",
       "      <td>0.20</td>\n",
       "    </tr>\n",
       "    <tr>\n",
       "      <th>3</th>\n",
       "      <td>Centro</td>\n",
       "      <td>252</td>\n",
       "      <td>48</td>\n",
       "      <td>0.232044</td>\n",
       "      <td>0.044199</td>\n",
       "      <td>300</td>\n",
       "      <td>0.84</td>\n",
       "      <td>0.16</td>\n",
       "    </tr>\n",
       "  </tbody>\n",
       "</table>\n",
       "</div>"
      ],
      "text/plain": [
       "    Región   Sí  No   prob_sí   prob_no  Total por region  Sí por región  \\\n",
       "0    Norte  148  52  0.136280  0.047882               200           0.74   \n",
       "1  Noreste  162  54  0.149171  0.049724               216           0.75   \n",
       "2      Sur  296  74  0.272560  0.068140               370           0.80   \n",
       "3   Centro  252  48  0.232044  0.044199               300           0.84   \n",
       "\n",
       "   No por región  \n",
       "0           0.26  \n",
       "1           0.25  \n",
       "2           0.20  \n",
       "3           0.16  "
      ]
     },
     "execution_count": 42,
     "metadata": {},
     "output_type": "execute_result"
    }
   ],
   "source": [
    "df"
   ]
  },
  {
   "cell_type": "code",
   "execution_count": 43,
   "id": "ac789b79",
   "metadata": {},
   "outputs": [
    {
     "data": {
      "text/plain": [
       "1086"
      ]
     },
     "execution_count": 43,
     "metadata": {},
     "output_type": "execute_result"
    }
   ],
   "source": [
    "df['Total por region'].sum()"
   ]
  },
  {
   "cell_type": "code",
   "execution_count": null,
   "id": "6b5fbf22",
   "metadata": {},
   "outputs": [],
   "source": []
  },
  {
   "cell_type": "code",
   "execution_count": null,
   "id": "7c55c783",
   "metadata": {},
   "outputs": [],
   "source": []
  },
  {
   "cell_type": "code",
   "execution_count": null,
   "id": "18e873d1",
   "metadata": {},
   "outputs": [],
   "source": []
  },
  {
   "cell_type": "markdown",
   "id": "f18be1c4",
   "metadata": {},
   "source": [
    "4. Crear una funcion que permita calcular a probabilidad de los siguientes eventos en un baraja de 52 cartas.\n",
    "    - Obtener una carta roja.\n",
    "    - Obtener una carta negra.\n",
    "    - Obtener una pica.\n",
    "    - Obtener un trébol.\n",
    "    - Obtener un corazón.\n",
    "    - Obtener un diamante.\n"
   ]
  },
  {
   "cell_type": "code",
   "execution_count": 2,
   "id": "d8e81d9b",
   "metadata": {},
   "outputs": [],
   "source": [
    "valores = ['2', '3', '4', '5', '6', '7', '8', '9', '10', 'J', 'Q', 'K', 'A']"
   ]
  },
  {
   "cell_type": "code",
   "execution_count": 3,
   "id": "2d8d52bc",
   "metadata": {},
   "outputs": [],
   "source": [
    "palos = ['trébol', 'pica', 'diamante', 'corazón']"
   ]
  },
  {
   "cell_type": "code",
   "execution_count": 5,
   "id": "daf82398",
   "metadata": {},
   "outputs": [],
   "source": [
    "mazo  = [(i, j, 'rojo') if j in ['corazón', 'diamante'] else (i, j, 'negro') for j in palos for i in valores]"
   ]
  },
  {
   "cell_type": "code",
   "execution_count": 7,
   "id": "e452fe23",
   "metadata": {},
   "outputs": [],
   "source": [
    "colores = ['negro', 'rojo']"
   ]
  },
  {
   "cell_type": "code",
   "execution_count": 46,
   "id": "ea045328",
   "metadata": {},
   "outputs": [],
   "source": [
    "def prob_cartas(valor=None, palo=None, color=None):\n",
    "    valores = ['2', '3', '4', '5', '6', '7', '8', '9', '10', 'J', 'Q', 'K', 'A']\n",
    "    palos = ['trébol', 'pica', 'diamante', 'corazón']\n",
    "    mazo  = [(i, j, 'rojo') if j in ['corazón', 'diamante'] else (i, j, 'negro') for j in palos for i in valores]\n",
    "    colores = ['negro', 'rojo']\n",
    "    prob = 1\n",
    "    \n",
    "    if valor in valores:\n",
    "        frecuencia = sum([i[0].count(valor) for i in mazo])\n",
    "        prob *= frecuencia / len(mazo)\n",
    "    if palo in palos:\n",
    "        frecuencia = sum([i[1].count(palo) for i in mazo])\n",
    "        prob *= frecuencia / len(mazo)\n",
    "    if color in colores:\n",
    "        frecuencia = sum([i[2].count(color) for i in mazo])\n",
    "        prob *= frecuencia / len(mazo)\n",
    "    return prob"
   ]
  },
  {
   "cell_type": "code",
   "execution_count": 48,
   "id": "b2cb73a4",
   "metadata": {},
   "outputs": [
    {
     "data": {
      "text/plain": [
       "0.5"
      ]
     },
     "execution_count": 48,
     "metadata": {},
     "output_type": "execute_result"
    }
   ],
   "source": [
    "prob_cartas(color='rojo')"
   ]
  },
  {
   "cell_type": "code",
   "execution_count": 50,
   "id": "1a4eefd6",
   "metadata": {},
   "outputs": [
    {
     "data": {
      "text/plain": [
       "0.5"
      ]
     },
     "execution_count": 50,
     "metadata": {},
     "output_type": "execute_result"
    }
   ],
   "source": [
    "prob_cartas(color='negro')"
   ]
  },
  {
   "cell_type": "code",
   "execution_count": 51,
   "id": "1e061f88",
   "metadata": {},
   "outputs": [
    {
     "data": {
      "text/plain": [
       "0.25"
      ]
     },
     "execution_count": 51,
     "metadata": {},
     "output_type": "execute_result"
    }
   ],
   "source": [
    "prob_cartas(palo='pica')"
   ]
  },
  {
   "cell_type": "code",
   "execution_count": 52,
   "id": "8f7a56c3",
   "metadata": {},
   "outputs": [
    {
     "data": {
      "text/plain": [
       "0.25"
      ]
     },
     "execution_count": 52,
     "metadata": {},
     "output_type": "execute_result"
    }
   ],
   "source": [
    "prob_cartas(palo='trébol')"
   ]
  },
  {
   "cell_type": "code",
   "execution_count": 53,
   "id": "e3090d53",
   "metadata": {},
   "outputs": [
    {
     "data": {
      "text/plain": [
       "0.25"
      ]
     },
     "execution_count": 53,
     "metadata": {},
     "output_type": "execute_result"
    }
   ],
   "source": [
    "prob_cartas(palo='corazón')"
   ]
  },
  {
   "cell_type": "code",
   "execution_count": 55,
   "id": "9bb59a0c",
   "metadata": {},
   "outputs": [
    {
     "data": {
      "text/plain": [
       "0.25"
      ]
     },
     "execution_count": 55,
     "metadata": {},
     "output_type": "execute_result"
    }
   ],
   "source": [
    "prob_cartas(palo='diamante')"
   ]
  },
  {
   "cell_type": "code",
   "execution_count": null,
   "id": "16576d12",
   "metadata": {},
   "outputs": [],
   "source": []
  },
  {
   "cell_type": "code",
   "execution_count": null,
   "id": "2570648d",
   "metadata": {},
   "outputs": [],
   "source": []
  },
  {
   "cell_type": "markdown",
   "id": "5e48cd4f",
   "metadata": {},
   "source": [
    "5. La probabilidad de que salga un 7 o un 8 al seleccionar una carta de una baraja de las 52 cartas que contiene el mazo."
   ]
  },
  {
   "cell_type": "code",
   "execution_count": 56,
   "id": "80340510",
   "metadata": {},
   "outputs": [
    {
     "data": {
      "text/plain": [
       "0.07692307692307693"
      ]
     },
     "execution_count": 56,
     "metadata": {},
     "output_type": "execute_result"
    }
   ],
   "source": [
    "prob_cartas(valor='7')"
   ]
  },
  {
   "cell_type": "code",
   "execution_count": 58,
   "id": "052ed0ea",
   "metadata": {},
   "outputs": [
    {
     "data": {
      "text/plain": [
       "0.07692307692307693"
      ]
     },
     "execution_count": 58,
     "metadata": {},
     "output_type": "execute_result"
    }
   ],
   "source": [
    "prob_cartas(valor='8')"
   ]
  },
  {
   "cell_type": "code",
   "execution_count": 59,
   "id": "64f8449c",
   "metadata": {},
   "outputs": [
    {
     "data": {
      "text/plain": [
       "0.15384615384615385"
      ]
     },
     "execution_count": 59,
     "metadata": {},
     "output_type": "execute_result"
    }
   ],
   "source": [
    "prob_cartas(valor='7') + prob_cartas(valor='8')"
   ]
  },
  {
   "cell_type": "code",
   "execution_count": null,
   "id": "53d30440",
   "metadata": {},
   "outputs": [],
   "source": []
  },
  {
   "cell_type": "markdown",
   "id": "a00599d0",
   "metadata": {},
   "source": [
    "6. La probabilidad de que tu país gane el mundial de fútbol."
   ]
  },
  {
   "cell_type": "markdown",
   "id": "64d7f84b",
   "metadata": {},
   "source": [
    "Ni idea"
   ]
  },
  {
   "cell_type": "code",
   "execution_count": null,
   "id": "40a72935",
   "metadata": {},
   "outputs": [],
   "source": []
  },
  {
   "cell_type": "code",
   "execution_count": null,
   "id": "461c4a13",
   "metadata": {},
   "outputs": [],
   "source": []
  },
  {
   "cell_type": "markdown",
   "id": "2bebee0a",
   "metadata": {},
   "source": [
    "7. Un experimento que tiene tres resultados es repetido 50 veces y se ve que E1 aparece 20 veces, E2 13 veces y E3 17 veces. Asigne probabilidades a los resultados."
   ]
  },
  {
   "cell_type": "code",
   "execution_count": 60,
   "id": "7a8e9c69",
   "metadata": {},
   "outputs": [],
   "source": [
    "e1 = 20\n",
    "e2 = 13\n",
    "e3 = 17\n",
    "\n",
    "total = 50"
   ]
  },
  {
   "cell_type": "code",
   "execution_count": 61,
   "id": "a9766c58",
   "metadata": {},
   "outputs": [
    {
     "data": {
      "text/plain": [
       "0.4"
      ]
     },
     "execution_count": 61,
     "metadata": {},
     "output_type": "execute_result"
    }
   ],
   "source": [
    "e1/total"
   ]
  },
  {
   "cell_type": "code",
   "execution_count": 62,
   "id": "647f267e",
   "metadata": {},
   "outputs": [
    {
     "data": {
      "text/plain": [
       "0.26"
      ]
     },
     "execution_count": 62,
     "metadata": {},
     "output_type": "execute_result"
    }
   ],
   "source": [
    "e2/total"
   ]
  },
  {
   "cell_type": "code",
   "execution_count": 63,
   "id": "b377c616",
   "metadata": {},
   "outputs": [
    {
     "data": {
      "text/plain": [
       "0.34"
      ]
     },
     "execution_count": 63,
     "metadata": {},
     "output_type": "execute_result"
    }
   ],
   "source": [
    "e3/total"
   ]
  },
  {
   "cell_type": "markdown",
   "id": "9cab2946",
   "metadata": {},
   "source": [
    "\n",
    "## Desafíos complementarios\n",
    "\n",
    "### Investiga e intenta resolver los siguientes ejercicios\n",
    "\n",
    "Si la probabilidad de que un cliente pague en efectivo (E) es 6/15, con tarjeta de crédito (TC) es 7/15 y con tarjeta de débito (TD) es 2/15. Hallar la probabilidad de que dos clientes sucesivos que pagan sus cuentas lo hagan:\n",
    "\n",
    "a) el primero en efectivo y el segundo con tarjeta de crédito."
   ]
  },
  {
   "cell_type": "code",
   "execution_count": 64,
   "id": "96fe9722",
   "metadata": {},
   "outputs": [],
   "source": [
    "e = 6/15\n",
    "c = 7/15\n",
    "d = 2/15"
   ]
  },
  {
   "cell_type": "code",
   "execution_count": 66,
   "id": "1debb143",
   "metadata": {},
   "outputs": [
    {
     "data": {
      "text/plain": [
       "0.4"
      ]
     },
     "execution_count": 66,
     "metadata": {},
     "output_type": "execute_result"
    }
   ],
   "source": [
    "e"
   ]
  },
  {
   "cell_type": "code",
   "execution_count": 67,
   "id": "61b6e7a4",
   "metadata": {},
   "outputs": [
    {
     "data": {
      "text/plain": [
       "0.4666666666666667"
      ]
     },
     "execution_count": 67,
     "metadata": {},
     "output_type": "execute_result"
    }
   ],
   "source": [
    "c"
   ]
  },
  {
   "cell_type": "code",
   "execution_count": 68,
   "id": "8ec6946e",
   "metadata": {},
   "outputs": [
    {
     "data": {
      "text/plain": [
       "0.18666666666666668"
      ]
     },
     "execution_count": 68,
     "metadata": {},
     "output_type": "execute_result"
    }
   ],
   "source": [
    "e * c"
   ]
  },
  {
   "cell_type": "markdown",
   "id": "76796990",
   "metadata": {},
   "source": [
    "b) Los dos clientes en efectivo"
   ]
  },
  {
   "cell_type": "code",
   "execution_count": 69,
   "id": "3ee45125",
   "metadata": {},
   "outputs": [
    {
     "data": {
      "text/plain": [
       "0.16000000000000003"
      ]
     },
     "execution_count": 69,
     "metadata": {},
     "output_type": "execute_result"
    }
   ],
   "source": [
    "e * e"
   ]
  },
  {
   "cell_type": "code",
   "execution_count": null,
   "id": "4811b099",
   "metadata": {},
   "outputs": [],
   "source": []
  },
  {
   "cell_type": "code",
   "execution_count": null,
   "id": "b922f965",
   "metadata": {},
   "outputs": [],
   "source": []
  },
  {
   "cell_type": "markdown",
   "id": "57305c2b",
   "metadata": {},
   "source": [
    "La probabilidad de que un Henry repruebe el M1 de 0.8, de que apruebe M2 es 0.5 y de que repruebe el M3 es de 0.4.\n",
    "(Los eventos no interfieren entre si)\n",
    "\n",
    "![Tabla](img/probhenry.png)\n",
    "\n",
    "Determinar la probabilidad de que:\n",
    "\n",
    "a) Apruebe un módulo."
   ]
  },
  {
   "cell_type": "code",
   "execution_count": 70,
   "id": "de1c8059",
   "metadata": {},
   "outputs": [
    {
     "data": {
      "text/plain": [
       "0.44"
      ]
     },
     "execution_count": 70,
     "metadata": {},
     "output_type": "execute_result"
    }
   ],
   "source": [
    "0.44"
   ]
  },
  {
   "cell_type": "code",
   "execution_count": null,
   "id": "08517c3a",
   "metadata": {},
   "outputs": [],
   "source": []
  },
  {
   "cell_type": "code",
   "execution_count": null,
   "id": "ea52f6ce",
   "metadata": {},
   "outputs": [],
   "source": []
  },
  {
   "cell_type": "code",
   "execution_count": null,
   "id": "815e55a9",
   "metadata": {},
   "outputs": [],
   "source": []
  },
  {
   "cell_type": "markdown",
   "id": "4ab96206",
   "metadata": {},
   "source": [
    "b) Repruebe las tres materias."
   ]
  },
  {
   "cell_type": "code",
   "execution_count": 71,
   "id": "2a0d68b7",
   "metadata": {},
   "outputs": [
    {
     "data": {
      "text/plain": [
       "0.16"
      ]
     },
     "execution_count": 71,
     "metadata": {},
     "output_type": "execute_result"
    }
   ],
   "source": [
    "0.16"
   ]
  },
  {
   "cell_type": "code",
   "execution_count": null,
   "id": "5d16cbab",
   "metadata": {},
   "outputs": [],
   "source": []
  },
  {
   "cell_type": "code",
   "execution_count": null,
   "id": "750c8e86",
   "metadata": {},
   "outputs": [],
   "source": []
  }
 ],
 "metadata": {
  "kernelspec": {
   "display_name": "Python 3 (ipykernel)",
   "language": "python",
   "name": "python3"
  },
  "language_info": {
   "codemirror_mode": {
    "name": "ipython",
    "version": 3
   },
   "file_extension": ".py",
   "mimetype": "text/x-python",
   "name": "python",
   "nbconvert_exporter": "python",
   "pygments_lexer": "ipython3",
   "version": "3.9.15"
  }
 },
 "nbformat": 4,
 "nbformat_minor": 5
}
