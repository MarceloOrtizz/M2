{
 "cells": [
  {
   "cell_type": "markdown",
   "metadata": {},
   "source": [
    "1. Lanza una moneda al aire 10 veces, ¿cuantos resultados posibles forman parte del espacio muestral?."
   ]
  },
  {
   "cell_type": "code",
   "execution_count": 1,
   "metadata": {},
   "outputs": [
    {
     "data": {
      "text/plain": [
       "1024"
      ]
     },
     "execution_count": 1,
     "metadata": {},
     "output_type": "execute_result"
    }
   ],
   "source": [
    "cantidad_veces=10\n",
    "Resultados_posible=2**cantidad_veces\n",
    "Resultados_posible"
   ]
  },
  {
   "cell_type": "markdown",
   "metadata": {},
   "source": [
    "2. En un aeropuerto se tiene a 10 pasajeros esperando en la sala de preembarque, la polícia debe controlar a 3 de ellos. ¿Cuantas combinaciones posibles se pueden obtener?"
   ]
  },
  {
   "cell_type": "code",
   "execution_count": 2,
   "metadata": {},
   "outputs": [
    {
     "data": {
      "text/plain": [
       "120.0"
      ]
     },
     "execution_count": 2,
     "metadata": {},
     "output_type": "execute_result"
    }
   ],
   "source": [
    "import math\n",
    "#Combinación\n",
    "\n",
    "pasajeros=10\n",
    "control=3\n",
    "\n",
    "combinaciones=math.factorial(pasajeros)/(math.factorial(control) * math.factorial(pasajeros-control))\n",
    "combinaciones\n"
   ]
  },
  {
   "cell_type": "markdown",
   "metadata": {},
   "source": [
    "3. La Agencia Nacional de Seguridad Vial realizó una investigación para saber si los conductores de están usando sus cinturones de seguridad. Los datos muestrales fueron los siguientes:<br>\n",
    "Conductores que emplean el cinturón <br>"
   ]
  },
  {
   "cell_type": "code",
   "execution_count": 3,
   "metadata": {},
   "outputs": [
    {
     "name": "stdout",
     "output_type": "stream",
     "text": [
      "  Regiones        Si        No\n",
      "0    Norte  0.136280  0.047882\n",
      "1  Noreste  0.149171  0.049724\n",
      "2      Sur  0.272560  0.068140\n",
      "3   Centro  0.232044  0.044199\n"
     ]
    }
   ],
   "source": [
    "import pandas as pd\n",
    "\n",
    "regiones = ['Norte', 'Noreste', 'Sur', 'Centro']\n",
    "valores_si = [148, 162, 296, 252]\n",
    "valores_no = [52, 54, 74, 48]\n",
    "\n",
    "total_personas = sum(valores_si) + sum(valores_no)\n",
    "probabilidades_si = [valor_si / total_personas for valor_si in valores_si]\n",
    "probabilidades_no = [valor_no / total_personas for valor_no in valores_no]\n",
    "\n",
    "data = {'Regiones': regiones, 'Si': probabilidades_si, 'No': probabilidades_no}\n",
    "df = pd.DataFrame(data)\n",
    "\n",
    "print(df)\n"
   ]
  },
  {
   "cell_type": "code",
   "execution_count": 4,
   "metadata": {},
   "outputs": [
    {
     "data": {
      "text/plain": [
       "0.7900552486187845"
      ]
     },
     "execution_count": 4,
     "metadata": {},
     "output_type": "execute_result"
    }
   ],
   "source": [
    "Personas_si=858\n",
    "Total_personas=858+228\n",
    "Probabilidad = (Personas_si) / (Total_personas)\n",
    "Probabilidad \n",
    "\n",
    "#La probabilidad es de 0.79%."
   ]
  },
  {
   "cell_type": "markdown",
   "metadata": {},
   "source": [
    "4. Crear una funcion que permita calcular a probabilidad de los siguientes eventos en un baraja de 52 cartas.<br>\n",
    "- Obtener una carta roja.<br>\n",
    "- Obtener una carta negra.<br>\n",
    "- Obtener una pica.<br>\n",
    "- Obtener un trébol.<br>\n",
    "- Obtener un corazón.<br>\n",
    "- Obtener un diamante.<br>"
   ]
  },
  {
   "cell_type": "code",
   "execution_count": 5,
   "metadata": {},
   "outputs": [
    {
     "name": "stdout",
     "output_type": "stream",
     "text": [
      "0.5\n"
     ]
    }
   ],
   "source": [
    "def calcular_probabilidad(carta, total_cartas=52):\n",
    "    if carta == \"roja\":\n",
    "        cartas_rojas = 26  \n",
    "        probabilidad = cartas_rojas / total_cartas\n",
    "    elif carta == \"negra\":\n",
    "        cartas_negras = 26  \n",
    "        probabilidad = cartas_negras / total_cartas\n",
    "    elif carta == \"pica\":\n",
    "        cartas_picas = 13  \n",
    "        probabilidad = cartas_picas / total_cartas\n",
    "    elif carta == \"trebol\":\n",
    "        cartas_treboles = 13  \n",
    "        probabilidad = cartas_treboles / total_cartas\n",
    "    elif carta == \"corazon\":\n",
    "        cartas_corazones = 13  \n",
    "        probabilidad = cartas_corazones / total_cartas\n",
    "    elif carta == \"diamante\":\n",
    "        cartas_diamantes = 13 \n",
    "        probabilidad = cartas_diamantes / total_cartas\n",
    "    else:\n",
    "        raise ValueError(\"Evento no válido\")\n",
    "    \n",
    "    return probabilidad\n",
    "\n",
    "print(calcular_probabilidad(\"roja\"))"
   ]
  },
  {
   "cell_type": "markdown",
   "metadata": {},
   "source": [
    "5. La probabilidad de que salga un 7 o un 8 al seleccionar una carta de una baraja de las 52 cartas que contiene el mazo."
   ]
  },
  {
   "cell_type": "code",
   "execution_count": 6,
   "metadata": {},
   "outputs": [
    {
     "data": {
      "text/plain": [
       "0.15384615384615385"
      ]
     },
     "execution_count": 6,
     "metadata": {},
     "output_type": "execute_result"
    }
   ],
   "source": [
    "Salga_siete=4/52\n",
    "Salga_ocho=4/52\n",
    "SieteUOcho=Salga_siete+Salga_ocho\n",
    "SieteUOcho\n"
   ]
  },
  {
   "cell_type": "markdown",
   "metadata": {},
   "source": [
    "6. La probabilidad de tu país gane el mundial de fútbol."
   ]
  },
  {
   "cell_type": "code",
   "execution_count": 7,
   "metadata": {},
   "outputs": [
    {
     "data": {
      "text/plain": [
       "0.03125"
      ]
     },
     "execution_count": 7,
     "metadata": {},
     "output_type": "execute_result"
    }
   ],
   "source": [
    "Mundial=1/32\n",
    "Mundial\n"
   ]
  },
  {
   "cell_type": "markdown",
   "metadata": {},
   "source": [
    "7. Un experimento que tiene tres resultados es repetido 50 veces y se ve que E1 aparece 20 veces, E2 13 veces y E3 17 veces. Asigne probabilidades a los resultados."
   ]
  },
  {
   "cell_type": "code",
   "execution_count": 9,
   "metadata": {},
   "outputs": [
    {
     "name": "stdout",
     "output_type": "stream",
     "text": [
      "0.4\n",
      "0.26\n",
      "0.34\n"
     ]
    }
   ],
   "source": [
    "e1=20\n",
    "e2=13\n",
    "e3=17\n",
    "Total=50\n",
    "\n",
    "Prob1=e1/Total\n",
    "print(Prob1)\n",
    "\n",
    "Prob2=e2/Total\n",
    "print(Prob2)\n",
    "\n",
    "Prob3=e3/Total\n",
    "print(Prob3)\n"
   ]
  },
  {
   "cell_type": "markdown",
   "metadata": {},
   "source": [
    "\n",
    "1. Si la probabilidad de que un cliente pague en efectivo (E) es 6/15, con tarjeta de crédito (TD) es 7/15 y con tarjeta de débito (TD) es 2/15. Hallar la probabilidad de que dos clientes sucesivos que pagan sus cuentas lo hagan:<br>\n",
    " a) el primero en efectivo y el segundo con tarjeta de crédito.<br>\n",
    " b) Los dos clientes en efectivo<br\n"
   ]
  },
  {
   "cell_type": "code",
   "execution_count": 10,
   "metadata": {},
   "outputs": [
    {
     "name": "stdout",
     "output_type": "stream",
     "text": [
      "0.18666666666666668\n",
      "0.16000000000000003\n"
     ]
    }
   ],
   "source": [
    "#a)\n",
    "PE=6/15\n",
    "PTC=7/15\n",
    "PTD=2/15\n",
    "\n",
    "Prob_a= PE*PTC\n",
    "print(Prob_a)\n",
    "\n",
    "#b)\n",
    "Prob_b =PE*PE\n",
    "print(Prob_b)"
   ]
  },
  {
   "cell_type": "markdown",
   "metadata": {},
   "source": [
    "2. La probabilidad de que un Henry repruebe el M1 de 0.8, de que apruebe M2 es 0.5 y de que repruebe el M3 es de 0.4.\n",
    "a) Apruebe un módulo.\n",
    "b) Repruebe las tres materias.\n"
   ]
  },
  {
   "cell_type": "code",
   "execution_count": 12,
   "metadata": {},
   "outputs": [
    {
     "name": "stdout",
     "output_type": "stream",
     "text": [
      "0.16000000000000003\n",
      "0.84\n"
     ]
    }
   ],
   "source": [
    "Aprobar_m1=0.2\n",
    "Aprobar_m2=0.5\n",
    "Aprobar_m3=0.6\n",
    "\n",
    "Reprobar_m1=0.8\n",
    "Reprobar_m2=0.5\n",
    "Reprobar_m3=0.4\n",
    "\n",
    "#b)\n",
    "Reprobar_todo=Reprobar_m1*Reprobar_m2*Reprobar_m3\n",
    "print(Reprobar_todo)\n",
    "\n",
    "#a)\n",
    "Aprobar_1= 1-Reprobar_todo\n",
    "print(Aprobar_1)\n"
   ]
  }
 ],
 "metadata": {
  "kernelspec": {
   "display_name": "Python 3",
   "language": "python",
   "name": "python3"
  },
  "language_info": {
   "codemirror_mode": {
    "name": "ipython",
    "version": 3
   },
   "file_extension": ".py",
   "mimetype": "text/x-python",
   "name": "python",
   "nbconvert_exporter": "python",
   "pygments_lexer": "ipython3",
   "version": "3.11.1"
  },
  "orig_nbformat": 4
 },
 "nbformat": 4,
 "nbformat_minor": 2
}
