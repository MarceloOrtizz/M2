{
 "cells": [
  {
   "cell_type": "markdown",
   "metadata": {},
   "source": [
    "1. Suponga dos eventos, A y B, y que P(A) = 0.50, P(B) = 0.60 y P(A ∩ B) = 0.40.<br>\n",
    "- a. Halle P(A | B).\n",
    "- b. Halle P(B | A).\n",
    "- c. ¿A y B son independientes? ¿Por qué sí o por qué no?\n"
   ]
  },
  {
   "cell_type": "code",
   "execution_count": 1,
   "metadata": {},
   "outputs": [
    {
     "name": "stdout",
     "output_type": "stream",
     "text": [
      "0.3\n",
      "0.6666666666666667\n",
      "0.8\n"
     ]
    }
   ],
   "source": [
    "PA=0.50\n",
    "PB=0.60\n",
    "PAB=0.40\n",
    "\n",
    "#c)no son independientes\n",
    "print(PA*PB)\n",
    "#a)\n",
    "prob_a_b = (PAB/PB)\n",
    "print(prob_a_b)\n",
    "prob_b_a= (PAB/PA)\n",
    "print(prob_b_a)\n"
   ]
  },
  {
   "cell_type": "markdown",
   "metadata": {},
   "source": [
    "2. Suponga dos eventos, A y B, que son mutuamente excluyentes. Admita, además, que P(A) = 0.30 y P(B) = 0.40.<br>\n",
    "- a. Obtenga P(A ∩ B). ¿Existe intersección entre los dos conjuntos?.\n",
    "- b. Calcule P(A | B).\n",
    "- c. Un estudiante de estadística argumenta que los conceptos de eventos mutuamente excluyentes y eventos independientes son en realidad lo mismo y que si los eventos son mutuamente excluyentes deben ser también independientes. ¿Está usted de acuerdo? Use la información sobre las probabilidades para justificar su respuesta."
   ]
  },
  {
   "cell_type": "code",
   "execution_count": 2,
   "metadata": {},
   "outputs": [
    {
     "name": "stdout",
     "output_type": "stream",
     "text": [
      "0.12\n"
     ]
    }
   ],
   "source": [
    "#a)No se puede obtener la intersección\n",
    "PA_int_PB=0\n",
    "#b)\n",
    "PA2=0.30\n",
    "PB2=0.40\n",
    "PAB2=PA2*PB2\n",
    "print(PAB2)\n",
    "\n",
    "#c) No es lo mismo, dos eventos son excluyentes si no pueden ocurrir al mismo tiempo. \n",
    "#En cambio dos eventos son independientes si la ocurrencia de uno no afecta la probabilidad de ocurrencia del otro.\n",
    "#Es posible que eventos sean mutuamente excluyentes pero no independientes, y también es posible que sean \n",
    "# independientes pero no mutuamente excluyentes. No hay una relación directa entre estos dos conceptos.\n"
   ]
  },
  {
   "cell_type": "markdown",
   "metadata": {},
   "source": [
    "3. Si en la concesionaria se seleccionan dos ventas con reposición (Los sucesos son independientes.). Hallar la probabilidad de que las ventas sean:<br>\n",
    " \n",
    "  - a. La primera de un comprador de “menos de 40 años” y la segunda de uno de \"entre 40 y 50 años\". \n",
    "  \n",
    "  - b. las dos sean de autos \"nacionales\".\n"
   ]
  },
  {
   "cell_type": "code",
   "execution_count": 3,
   "metadata": {},
   "outputs": [
    {
     "name": "stdout",
     "output_type": "stream",
     "text": [
      "0.159375\n",
      "0.390625\n"
     ]
    }
   ],
   "source": [
    "#a)\n",
    "menos40=30/80\n",
    "entre_40_50=34/80\n",
    "Posib=menos40*entre_40_50\n",
    "print(Posib)\n",
    "\n",
    "#b)\n",
    "print((50/80)*(50/80))"
   ]
  },
  {
   "cell_type": "markdown",
   "metadata": {},
   "source": [
    "4. Si la selección de las dos ventas se realiza sin reposición. Hallar la probabilidad de que las ventas sean:<br>\n",
    "  Los sucesos son condicionales.\n",
    "\n",
    " - a. la primera de un comprador de “menos de 40 años” y la segunda de uno de \"entre 40 y 50 años\".\n",
    "\n",
    " - b. las dos sean de autos \"nacionales\".\n"
   ]
  },
  {
   "cell_type": "code",
   "execution_count": 4,
   "metadata": {},
   "outputs": [
    {
     "name": "stdout",
     "output_type": "stream",
     "text": [
      "0.16139240506329114\n",
      "0.3876582278481012\n"
     ]
    }
   ],
   "source": [
    "#a)\n",
    "segunda=34/79\n",
    "Posib2=menos40*segunda\n",
    "print(Posib2)\n",
    "\n",
    "#b)\n",
    "print((50/80)*(49/79))"
   ]
  },
  {
   "cell_type": "markdown",
   "metadata": {},
   "source": [
    "5. Si la selección de las dos ventas se realiza sin reposición. Hallar la probabilidad de que las ventas sean:<br>\n",
    "  Los sucesos son condicionales.\n",
    "  \n",
    " - a. De un comprador de “menos de 40 años” y de uno de \"entre 40 y 50 años\". Sin importar el orden.\n"
   ]
  },
  {
   "cell_type": "code",
   "execution_count": 5,
   "metadata": {},
   "outputs": [
    {
     "name": "stdout",
     "output_type": "stream",
     "text": [
      "0.3227848101265823\n"
     ]
    }
   ],
   "source": [
    "sinrepo40=30/79\n",
    "Posib3=(menos40*segunda) + (entre_40_50*sinrepo40)\n",
    "print(Posib3)"
   ]
  },
  {
   "cell_type": "markdown",
   "metadata": {},
   "source": [
    "6. Debido al aumento de los costos de los seguros, en un país 43 millones de personas, hay personas que no cuentan con un seguro médico. En la tabla siguiente se muestran datos muestrales representativos de la cantidad de personas que cuentan con seguro médico:<br>\n",
    "\n",
    "- a. Con estos datos elabore una tabla de probabilidad conjunta y úsela para responder las preguntas restantes.\n",
    "- b. ¿Qué indican las probabilidades marginales acerca de la edad de la población?\n",
    "- c. ¿Cuál es la probabilidad de que una persona tomada en forma aleatoria no tenga seguro médico?\n",
    "- d. Si la persona tiene entre 18 y 34 años, ¿cuál es la probabilidad de que no tenga seguro médico?\n",
    "- e. Si la persona tiene 35 años o más ¿cuál es la probabilidad de que no tenga seguro médico?\n",
    "- f. Si la persona no tiene seguro médico, ¿cuál es la probabilidad de que tenga entre 18 y 34 años?"
   ]
  },
  {
   "cell_type": "code",
   "execution_count": 6,
   "metadata": {},
   "outputs": [
    {
     "data": {
      "text/html": [
       "<div>\n",
       "<style scoped>\n",
       "    .dataframe tbody tr th:only-of-type {\n",
       "        vertical-align: middle;\n",
       "    }\n",
       "\n",
       "    .dataframe tbody tr th {\n",
       "        vertical-align: top;\n",
       "    }\n",
       "\n",
       "    .dataframe thead th {\n",
       "        text-align: right;\n",
       "    }\n",
       "</style>\n",
       "<table border=\"1\" class=\"dataframe\">\n",
       "  <thead>\n",
       "    <tr style=\"text-align: right;\">\n",
       "      <th></th>\n",
       "      <th>Si</th>\n",
       "      <th>No</th>\n",
       "      <th>Total</th>\n",
       "    </tr>\n",
       "  </thead>\n",
       "  <tbody>\n",
       "    <tr>\n",
       "      <th>18 a 34</th>\n",
       "      <td>0.375</td>\n",
       "      <td>0.085</td>\n",
       "      <td>0.46</td>\n",
       "    </tr>\n",
       "    <tr>\n",
       "      <th>35 o mayor</th>\n",
       "      <td>0.475</td>\n",
       "      <td>0.065</td>\n",
       "      <td>0.54</td>\n",
       "    </tr>\n",
       "    <tr>\n",
       "      <th>total</th>\n",
       "      <td>0.850</td>\n",
       "      <td>0.150</td>\n",
       "      <td>1.00</td>\n",
       "    </tr>\n",
       "  </tbody>\n",
       "</table>\n",
       "</div>"
      ],
      "text/plain": [
       "               Si     No  Total\n",
       "18 a 34     0.375  0.085   0.46\n",
       "35 o mayor  0.475  0.065   0.54\n",
       "total       0.850  0.150   1.00"
      ]
     },
     "execution_count": 6,
     "metadata": {},
     "output_type": "execute_result"
    }
   ],
   "source": [
    "#a)\n",
    "import pandas as pd\n",
    "Edad = ['18 a 34', '35 o mayor']\n",
    "Val_si = [750,  950]\n",
    "Val_no = [170, 130]\n",
    "Cuadro = dict(Si = Val_si, No = Val_no)\n",
    "Seguro_medico = pd.DataFrame(Cuadro, index=Edad)\n",
    "Seguro_medico = Seguro_medico / (sum(Seguro_medico.sum()))\n",
    "Seguro_medico.loc[3] = sum(Seguro_medico.Si), sum(Seguro_medico.No)\n",
    "Seguro_medico = Seguro_medico.rename(index={3: 'total'})\n",
    "Seguro_medico['Total'] = Seguro_medico.Si + Seguro_medico.No\n",
    " \n",
    "Seguro_medico"
   ]
  },
  {
   "cell_type": "code",
   "execution_count": 7,
   "metadata": {},
   "outputs": [
    {
     "name": "stdout",
     "output_type": "stream",
     "text": [
      "0.15\n",
      "0.18478260869565216\n",
      "0.12037037037037036\n",
      "0.5666666666666667\n"
     ]
    }
   ],
   "source": [
    "#c)\n",
    "NO_total=300\n",
    "Total_poblacion=2000\n",
    "print(NO_total/Total_poblacion)\n",
    "\n",
    "#d)\n",
    "No_18_34=170\n",
    "Total_18_34=920\n",
    "print(No_18_34/Total_18_34)\n",
    "\n",
    "#e)\n",
    "NO_35_mayor=130\n",
    "Total_35_mayor=1080\n",
    "print(NO_35_mayor/Total_35_mayor)\n",
    "\n",
    "#f)\n",
    "No_18_34=170\n",
    "Total_NO=300\n",
    "print(No_18_34/Total_NO)\n"
   ]
  }
 ],
 "metadata": {
  "kernelspec": {
   "display_name": "Python 3",
   "language": "python",
   "name": "python3"
  },
  "language_info": {
   "codemirror_mode": {
    "name": "ipython",
    "version": 3
   },
   "file_extension": ".py",
   "mimetype": "text/x-python",
   "name": "python",
   "nbconvert_exporter": "python",
   "pygments_lexer": "ipython3",
   "version": "3.11.1"
  },
  "orig_nbformat": 4
 },
 "nbformat": 4,
 "nbformat_minor": 2
}
