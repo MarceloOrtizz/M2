{
 "cells": [
  {
   "cell_type": "markdown",
   "metadata": {},
   "source": [
    "1. Suponga dos eventos, A y B, y que P(A) = 0.50, P(B) = 0.60 y P(A ∩ B) = 0.40.\n",
    "- Halle P(A | B).\n",
    "- Halle P(B | A).\n",
    "- ¿A y B son independientes? ¿Por qué sí o por qué no?"
   ]
  },
  {
   "cell_type": "code",
   "execution_count": 11,
   "metadata": {},
   "outputs": [
    {
     "name": "stdout",
     "output_type": "stream",
     "text": [
      "P(A | B) = 0.6666666666666667\n",
      "P(B | A) = 0.8\n",
      "Los eventos A y B no son independientes.\n"
     ]
    }
   ],
   "source": [
    "p_A = 0.50\n",
    "p_B = 0.60\n",
    "P_AnB = 0.40\n",
    "\n",
    "# Probabilidad condicional P(A | B)\n",
    "P_A_SOBRE_B = P_AnB / p_B\n",
    "print(\"P(A | B) =\", P_A_SOBRE_B)\n",
    "\n",
    "# Probabilidad condicional P(B | A)\n",
    "P_B_SOBRE_A = P_AnB / p_A\n",
    "print(\"P(B | A) =\", P_B_SOBRE_A)\n",
    "\n",
    "# Verificar independencia\n",
    "indepentiente = P_AnB == p_A * p_B\n",
    "if indepentiente:\n",
    "    print(\"Los eventos A y B son independientes.\")\n",
    "else:\n",
    "    print(\"Los eventos A y B no son independientes.\")\n"
   ]
  },
  {
   "cell_type": "markdown",
   "metadata": {},
   "source": [
    "2. Suponga dos eventos, A y B, que son mutuamente excluyentes. Admita, además, que P(A) = 0.30 y P(B) = 0.40.<br>\n",
    "- a. Obtenga P(A ∩ B). ¿Existe intersección entre los dos conjuntos?.\n",
    "- b. Calcule P(A | B).\n",
    "- c. Un estudiante de estadística argumenta que los conceptos de eventos mutuamente excluyentes y eventos independientes son en realidad lo mismo y que si los eventos son mutuamente excluyentes deben ser también independientes. ¿Está usted de acuerdo? Use la información sobre las probabilidades para justificar su respuesta.\n",
    "\n",
    "Dada la siguiente tabla:<br>\n",
    "![Sucesos](../_src/assets/sucesos.PNG)<br>"
   ]
  },
  {
   "cell_type": "code",
   "execution_count": 5,
   "metadata": {},
   "outputs": [
    {
     "name": "stdout",
     "output_type": "stream",
     "text": [
      "a. P(A ∩ B) = 0\n",
      "b. No se puede calcular P(A | B) debido a que P(A ∩ B) es 0\n",
      "c. Los eventos son mutuamente excluyentes y no son independientes: True\n"
     ]
    }
   ],
   "source": [
    "total_nacional = 50\n",
    "total_importado = 30\n",
    "total_menor_40 = 30\n",
    "total_entre_40_50 = 34\n",
    "total_mas_50 = 16\n",
    "total_personas = 80\n",
    "\n",
    "# Probabilidades P(A) y P(B)\n",
    "p_A = total_nacional / total_personas\n",
    "p_B = total_importado / total_personas\n",
    "\n",
    "# a. Probabilidad de intersección P(A ∩ B)\n",
    "p_A_interseccion_B = 0  # Dado que los eventos son mutuamente excluyentes\n",
    "\n",
    "# b. No se puede calcular P(A | B) ya que P(A ∩ B) es 0 (mutuamente excluyentes)\n",
    "\n",
    "# c. Verificar independencia\n",
    "p_A_interseccion_B_calculada = p_A * p_B\n",
    "\n",
    "if p_A_interseccion_B == p_A_interseccion_B_calculada:\n",
    "    independencia_check = True\n",
    "else:\n",
    "    independencia_check = False\n",
    "\n",
    "# Imprimir resultados\n",
    "print(\"a. P(A ∩ B) =\", p_A_interseccion_B)\n",
    "print(\"b. No se puede calcular P(A | B) debido a que P(A ∩ B) es 0\")\n",
    "print(\"c. Los eventos son mutuamente excluyentes y no son independientes:\", not independencia_check)\n"
   ]
  },
  {
   "cell_type": "markdown",
   "metadata": {},
   "source": [
    "3. Si en la concesionaria se seleccionan dos ventas con reposición (Los sucesos son independientes.). Hallar la probabilidad de que las ventas sean:<br>\n",
    " \n",
    "  - a. La primera de un comprador de “menos de 40 años” y la segunda de uno de \"entre 40 y 50 años\". \n",
    "  \n",
    "  - b. las dos sean de autos \"nacionales\".\n",
    "\n"
   ]
  },
  {
   "cell_type": "code",
   "execution_count": 6,
   "metadata": {},
   "outputs": [
    {
     "name": "stdout",
     "output_type": "stream",
     "text": [
      "a. P(Primera: Menor de 40, Segunda: Entre 40 y 50) = 0.159375\n",
      "b. P(Ambas ventas: Nacionales) = 0.390625\n"
     ]
    }
   ],
   "source": [
    "# Probabilidades de edades y origen de productos\n",
    "p_menor_40 = total_menor_40 / total_personas\n",
    "p_entre_40_50 = total_entre_40_50 / total_personas\n",
    "p_nacional = total_nacional / total_personas\n",
    "\n",
    "# a. Probabilidad de que la primera venta sea de \"menos de 40 años\" y la segunda de \"entre 40 y 50 años\"\n",
    "p_primera_menor_40_segunda_entre_40_50 = p_menor_40 * p_entre_40_50\n",
    "print(\"a. P(Primera: Menor de 40, Segunda: Entre 40 y 50) =\", p_primera_menor_40_segunda_entre_40_50)\n",
    "\n",
    "# b. Probabilidad de que ambas ventas sean de autos \"nacionales\"\n",
    "p_ambas_nacionales = p_nacional * p_nacional\n",
    "print(\"b. P(Ambas ventas: Nacionales) =\", p_ambas_nacionales)\n"
   ]
  },
  {
   "cell_type": "markdown",
   "metadata": {},
   "source": [
    "4. Si la selección de las dos ventas se realiza sin reposición. Hallar la probabilidad de que las ventas sean:<br>\n",
    "  Los sucesos son condicionales.\n",
    "\n",
    " - a. la primera de un comprador de “menos de 40 años” y la segunda de uno de \"entre 40 y 50 años\".\n",
    "\n",
    " - b. las dos sean de autos \"nacionales\"."
   ]
  },
  {
   "cell_type": "code",
   "execution_count": 7,
   "metadata": {},
   "outputs": [
    {
     "name": "stdout",
     "output_type": "stream",
     "text": [
      "a. P(Primera: Menor de 40, Segunda: Entre 40 y 50) = 0.15664556962025317\n",
      "b. P(Ambas ventas: Nacionales) = 0.3876582278481012\n"
     ]
    }
   ],
   "source": [
    "# a. Probabilidad de que la primera venta sea de \"menos de 40 años\" y la segunda de \"entre 40 y 50 años\"\n",
    "p_primera_menor_40 = total_menor_40 / total_personas\n",
    "p_segunda_entre_40_50_dado_primera_menor_40 = (total_entre_40_50 - 1) / (total_personas - 1)  # Se resta 1 por la selección sin reposición\n",
    "p_primera_menor_40_segunda_entre_40_50 = p_primera_menor_40 * p_segunda_entre_40_50_dado_primera_menor_40\n",
    "print(\"a. P(Primera: Menor de 40, Segunda: Entre 40 y 50) =\", p_primera_menor_40_segunda_entre_40_50)\n",
    "\n",
    "# b. Probabilidad de que ambas ventas sean de autos \"nacionales\"\n",
    "p_primera_nacional = total_nacional / total_personas\n",
    "p_segunda_nacional_dado_primera_nacional = (total_nacional - 1) / (total_personas - 1)  # Se resta 1 por la selección sin reposición\n",
    "p_ambas_nacionales = p_primera_nacional * p_segunda_nacional_dado_primera_nacional\n",
    "print(\"b. P(Ambas ventas: Nacionales) =\", p_ambas_nacionales)\n"
   ]
  },
  {
   "cell_type": "markdown",
   "metadata": {},
   "source": [
    "5. Si la selección de las dos ventas se realiza sin reposición. Hallar la probabilidad de que las ventas sean:<br>\n",
    "  Los sucesos son condicionales.\n",
    "  \n",
    " - a. De un comprador de “menos de 40 años” y de uno de \"entre 40 y 50 años\". Sin importar el orden.\n"
   ]
  },
  {
   "cell_type": "code",
   "execution_count": 8,
   "metadata": {},
   "outputs": [
    {
     "name": "stdout",
     "output_type": "stream",
     "text": [
      "a. P(De un comprador de menos de 40 y uno de entre 40 y 50 años) = 0.3227848101265823\n"
     ]
    }
   ],
   "source": [
    "# Probabilidad de que la primera venta sea de \"menos de 40 años\" y la segunda de \"entre 40 y 50 años\"\n",
    "p_primera_menor_40 = total_menor_40 / total_personas\n",
    "p_segunda_entre_40_50_dado_primera_menor_40 = (total_entre_40_50) / (total_personas - 1)  # Se resta 1 por la selección sin reposición\n",
    "p_menor_40_segunda_entre_40_50 = p_primera_menor_40 * p_segunda_entre_40_50_dado_primera_menor_40\n",
    "\n",
    "# Probabilidad de que la primera venta sea de \"entre 40 y 50 años\" y la segunda de \"menos de 40 años\"\n",
    "p_primera_entre_40_50 = total_entre_40_50 / total_personas\n",
    "p_segunda_menor_40_dado_primera_entre_40_50 = (total_menor_40) / (total_personas - 1)  # Se resta 1 por la selección sin reposición\n",
    "p_entre_40_50_segunda_menor_40 = p_primera_entre_40_50 * p_segunda_menor_40_dado_primera_entre_40_50\n",
    "\n",
    "# Sumar las probabilidades de ambos órdenes\n",
    "p_ambos_ordenes = p_menor_40_segunda_entre_40_50 + p_entre_40_50_segunda_menor_40\n",
    "\n",
    "print(\"a. P(De un comprador de menos de 40 y uno de entre 40 y 50 años) =\", p_ambos_ordenes)\n"
   ]
  },
  {
   "cell_type": "markdown",
   "metadata": {},
   "source": [
    "\n",
    " 6. Debido al aumento de los costos de los seguros, en un país 43 millones de personas, hay personas que no cuentan con un seguro médico. En la tabla siguiente se muestran datos muestrales representativos de la cantidad de personas que cuentan con seguro médico:<br>\n",
    " ![Seguro](../_src/assets/seguro.PNG)"
   ]
  },
  {
   "cell_type": "code",
   "execution_count": 10,
   "metadata": {},
   "outputs": [
    {
     "name": "stdout",
     "output_type": "stream",
     "text": [
      "a. Tabla de probabilidad conjunta:\n",
      "          | Seguro Médico Sí | Seguro Médico No\n",
      "18 a 34   | 1.7441860465116278e-05     | 3.953488372093023e-06\n",
      "35 o mayor | 2.2093023255813955e-05     | 3.0232558139534885e-06\n",
      "b. Probabilidad de tener seguro médico en grupo de 18 a 34 años: 3.953488372093023e-05\n",
      "   Probabilidad de tener seguro médico en grupo de 35 o mayor: 2.5116279069767442e-05\n",
      "c. Probabilidad de no tener seguro médico en la población: 2.4770146024878312e-11\n",
      "d. Probabilidad de no tener seguro médico si la persona tiene entre 18 y 34 años: 3.953488372093023e-06\n",
      "e. Probabilidad de no tener seguro médico si la persona tiene 35 años o más: 3.0232558139534885e-06\n",
      "f. Probabilidad de tener entre 18 y 34 años si la persona no tiene seguro médico: 159606.98689956332\n"
     ]
    }
   ],
   "source": [
    "total_personas = 43_000_000  \n",
    "seguro_si_18_34 = 750\n",
    "seguro_no_18_34 = 170\n",
    "seguro_si_35_mayor = 950\n",
    "seguro_no_35_mayor = 130\n",
    "\n",
    "# a. \n",
    "p_si_18_34 = seguro_si_18_34 / total_personas\n",
    "p_no_18_34 = seguro_no_18_34 / total_personas\n",
    "p_si_35_mayor = seguro_si_35_mayor / total_personas\n",
    "p_no_35_mayor = seguro_no_35_mayor / total_personas\n",
    "\n",
    "# b. \n",
    "p_tener_seguro_18_34 = p_si_18_34 + p_si_35_mayor\n",
    "p_tener_seguro_35_mayor = p_si_35_mayor + p_no_35_mayor\n",
    "\n",
    "# c. \n",
    "p_no_seguro_medico = (p_no_18_34 * (seguro_no_18_34 / total_personas)) + (p_no_35_mayor * (seguro_no_35_mayor / total_personas))\n",
    "\n",
    "# d. \n",
    "p_no_seguro_medico_18_34 = seguro_no_18_34 / total_personas\n",
    "\n",
    "# e. \n",
    "p_no_seguro_medico_35_mayor = seguro_no_35_mayor / total_personas\n",
    "\n",
    "# f. \n",
    "p_18_34_si_no_seguro = (seguro_no_18_34 / total_personas) / p_no_seguro_medico\n",
    "\n",
    "print(\"a. Tabla de probabilidad conjunta:\")\n",
    "print(\"          | Seguro Médico Sí | Seguro Médico No\")\n",
    "print(\"18 a 34   |\", p_si_18_34, \"    |\", p_no_18_34)\n",
    "print(\"35 o mayor |\", p_si_35_mayor, \"    |\", p_no_35_mayor)\n",
    "print(\"b. Probabilidad de tener seguro médico en grupo de 18 a 34 años:\", p_tener_seguro_18_34)\n",
    "print(\"   Probabilidad de tener seguro médico en grupo de 35 o mayor:\", p_tener_seguro_35_mayor)\n",
    "print(\"c. Probabilidad de no tener seguro médico en la población:\", p_no_seguro_medico)\n",
    "print(\"d. Probabilidad de no tener seguro médico si la persona tiene entre 18 y 34 años:\", p_no_seguro_medico_18_34)\n",
    "print(\"e. Probabilidad de no tener seguro médico si la persona tiene 35 años o más:\", p_no_seguro_medico_35_mayor)\n",
    "print(\"f. Probabilidad de tener entre 18 y 34 años si la persona no tiene seguro médico:\", p_18_34_si_no_seguro)\n"
   ]
  }
 ],
 "metadata": {
  "kernelspec": {
   "display_name": "Python 3",
   "language": "python",
   "name": "python3"
  },
  "language_info": {
   "codemirror_mode": {
    "name": "ipython",
    "version": 3
   },
   "file_extension": ".py",
   "mimetype": "text/x-python",
   "name": "python",
   "nbconvert_exporter": "python",
   "pygments_lexer": "ipython3",
   "version": "3.11.1"
  },
  "orig_nbformat": 4
 },
 "nbformat": 4,
 "nbformat_minor": 2
}
