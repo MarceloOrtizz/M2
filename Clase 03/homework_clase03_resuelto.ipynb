{
 "cells": [
  {
   "cell_type": "code",
   "execution_count": null,
   "metadata": {},
   "outputs": [],
   "source": [
    "# 1. Suponga dos eventos, A y B, y que P(A) = 0.50, P(B) = 0.60 y P(A ∩ B) = 0.40.<br>\n",
    "# - a. Halle P(A | B).\n",
    "# - b. Halle P(B | A).\n",
    "# - c. ¿A y B son independientes? ¿Por qué sí o por qué no?\n",
    "\n",
    "print(0.4 / 0.6)\n",
    "print(0.4 /  0.5)\n",
    "#P(AyB) = P(A) *  P(B)\n",
    "print(0.5 * 0.6)\n",
    "#No son independientes"
   ]
  },
  {
   "cell_type": "code",
   "execution_count": null,
   "metadata": {},
   "outputs": [],
   "source": [
    "# 2. Suponga dos eventos, A y B, que son mutuamente excluyentes. Admita, además, que P(A) = 0.30 y P(B) = 0.40.<br>\n",
    "# - a. Obtenga P(A ∩ B). ¿Existe intersección entre los dos conjuntos?.\n",
    "# - b. Calcule P(A | B).\n",
    "# - c. Un estudiante de estadística argumenta que los conceptos de eventos mutuamente excluyentes y eventos independientes son en realidad lo mismo y que si los eventos son mutuamente excluyentes deben ser también independientes. ¿Está usted de acuerdo? Use la información sobre las probabilidades para justificar su respuesta.\n",
    "\n",
    "# P(A ∩ B) = 0\n",
    "# P(A | B) = P(A) = 0.3\n",
    "# Se equivoca, porque no son lo mismo "
   ]
  },
  {
   "cell_type": "code",
   "execution_count": null,
   "metadata": {},
   "outputs": [],
   "source": [
    "# 3. Si en la concesionaria se seleccionan dos ventas con reposición (Los sucesos son independientes.). Hallar la probabilidad de que las ventas sean:<br>\n",
    " \n",
    "#   - a. La primera de un comprador de “menos de 40 años” y la segunda de uno de \"entre 40 y 50 años\". \n",
    "  \n",
    "#   - b. las dos sean de autos \"nacionales\".\n",
    "\n",
    "# P(<40 y entre 40 y 50) = p(<40) * p(entre 40 y 50)\n",
    "print((30/80) * (34/80))\n",
    "\n",
    "# P(N y N) = p(N) * p(N) \n",
    "print((50/80) ** 2)"
   ]
  },
  {
   "cell_type": "code",
   "execution_count": null,
   "metadata": {},
   "outputs": [],
   "source": [
    "# 4. Si la selección de las dos ventas se realiza sin reposición. Hallar la probabilidad de que las ventas sean:<br>\n",
    "#   Los sucesos son condicionales.\n",
    "\n",
    "#  - a. la primera de un comprador de “menos de 40 años” y la segunda de uno de \"entre 40 y 50 años\".\n",
    "\n",
    "#  - b. las dos sean de autos \"nacionales\".\n",
    "\n",
    "# P(<40 y entre 40 y 50) = p(<40) * p(entre 40 y 50 | <40)\n",
    "print((30/80) * (34/79))\n",
    "\n",
    "# P(N y N) = p(N) * p(N | N) \n",
    "print(round((50/80) * (49/79),2))"
   ]
  },
  {
   "cell_type": "code",
   "execution_count": null,
   "metadata": {},
   "outputs": [],
   "source": [
    "# 5. Si la selección de las dos ventas se realiza sin reposición. Hallar la probabilidad de que las ventas sean:<br>\n",
    "#   Los sucesos son condicionales.\n",
    "  \n",
    "#  - a. De un comprador de “menos de 40 años” y de uno de \"entre 40 y 50 años\". Sin importar el orden.\n",
    "\n",
    "print((30/80) * (34/79) + (34/80) * (30/79))"
   ]
  }
 ],
 "metadata": {
  "kernelspec": {
   "display_name": "Python 3.9.7 64-bit",
   "language": "python",
   "name": "python3"
  },
  "language_info": {
   "codemirror_mode": {
    "name": "ipython",
    "version": 3
   },
   "file_extension": ".py",
   "mimetype": "text/x-python",
   "name": "python",
   "nbconvert_exporter": "python",
   "pygments_lexer": "ipython3",
   "version": "3.9.7"
  },
  "orig_nbformat": 4,
  "vscode": {
   "interpreter": {
    "hash": "11938c6bc6919ae2720b4d5011047913343b08a43b18698fd82dedb0d4417594"
   }
  }
 },
 "nbformat": 4,
 "nbformat_minor": 2
}
