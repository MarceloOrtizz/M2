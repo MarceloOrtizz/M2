{
 "cells": [
  {
   "cell_type": "markdown",
   "metadata": {},
   "source": [
    "1. Suponga dos eventos, A y B, y que P(A) = 0.50, P(B) = 0.60 y P(A ∩ B) = 0.40.<br>\n",
    "- a. Halle P(A | B).\n",
    "- b. Halle P(B | A).\n",
    "- c. ¿A y B son independientes? ¿Por qué sí o por qué no?"
   ]
  },
  {
   "cell_type": "markdown",
   "metadata": {},
   "source": [
    "![aca que va???](../_src/assets/marcelo03.PNG)<br>"
   ]
  },
  {
   "cell_type": "code",
   "execution_count": 6,
   "metadata": {},
   "outputs": [
    {
     "name": "stdout",
     "output_type": "stream",
     "text": [
      "P(A | B) 0.6666666666666666\n",
      "P(B | A) 0.8\n",
      "P(A) * P(B):  0.3\n",
      "¿A y B son independientes?:  False\n"
     ]
    }
   ],
   "source": [
    "# a. Halle P(A | B).\n",
    "print(\"P(A | B)\", 40 / 60)\n",
    "# b. Halle P(B | A).\n",
    "print(\"P(B | A)\", 40 / 50)\n",
    "# c. ¿A y B son independientes? ¿Por qué sí o por qué no?\n",
    "pa, pb, paipb = 0.5, 0.6, 0.4\n",
    "print(\"P(A) * P(B): \", pa * pb)\n",
    "print(\"¿A y B son independientes?: \", pa * pb == paipb)"
   ]
  },
  {
   "cell_type": "markdown",
   "metadata": {},
   "source": [
    "2. Suponga dos eventos, A y B, que son mutuamente excluyentes. Admita, además, que P(A) = 0.30 y P(B) = 0.40.<br>\n",
    "- a. Obtenga P(A ∩ B). ¿Existe intersección entre los dos conjuntos?.\n",
    "- b. Calcule P(A | B).\n",
    "- c. Un estudiante de estadística argumenta que los conceptos de eventos mutuamente excluyentes y eventos independientes son en realidad lo mismo y que si los eventos son mutuamente excluyentes deben ser también independientes. ¿Está usted de acuerdo? Use la información sobre las probabilidades para justificar su respuesta."
   ]
  },
  {
   "cell_type": "code",
   "execution_count": 7,
   "metadata": {},
   "outputs": [
    {
     "name": "stdout",
     "output_type": "stream",
     "text": [
      "P(A | B) 0.0\n"
     ]
    }
   ],
   "source": [
    "# a. Obtenga P(A ∩ B). ¿Existe intersección entre los dos conjuntos?.\n",
    "# P(A ∩ B)=0   no tiene intersección\n",
    "\n",
    "# b. Calcule P(A | B).\n",
    "print(\"P(A | B)\", 0 / 0.4)\n",
    "\n",
    "# c:"
   ]
  },
  {
   "cell_type": "markdown",
   "metadata": {},
   "source": [
    "### ChatGPT\n",
    "* Eventos Mutuamente Excluyentes:\n",
    "Dos eventos son mutuamente excluyentes si no pueden ocurrir simultáneamente. Esto significa que si uno de los eventos ocurre, el otro no puede ocurrir al mismo tiempo. Por ejemplo, lanzar una moneda y obtener cara (C) y lanzar la misma moneda y obtener cruz (X) son eventos mutuamente excluyentes. No es posible obtener cara y cruz al mismo tiempo en un solo lanzamiento.\n",
    "\n",
    "* Eventos Independientes:\n",
    "Dos eventos son independientes si la ocurrencia (o no ocurrencia) de uno no afecta la probabilidad de ocurrencia del otro. En otras palabras, la probabilidad de que ocurra uno de los eventos no se ve afectada por la ocurrencia o no ocurrencia del otro. Por ejemplo, lanzar un dado y obtener un número par (P) y lanzar una moneda y obtener cara (C) son eventos independientes, ya que la ocurrencia de obtener un número par en el dado no afecta la probabilidad de obtener cara en la moneda.\n",
    "\n",
    "La relación entre eventos mutuamente excluyentes y eventos independientes es la siguiente:\n",
    "\n",
    "* Si dos eventos son mutuamente excluyentes, no pueden ser independientes. Esto se debe a que si uno de los eventos ocurre, el otro no puede ocurrir, lo que significa que hay una relación entre ellos, lo que va en contra de la independencia.\n",
    "\n",
    "* Dos eventos pueden ser independientes sin ser mutuamente excluyentes. La independencia se refiere a la influencia de un evento en otro, mientras que la mutua exclusión se refiere a la posibilidad de que ambos eventos ocurran juntos. Por ejemplo, lanzar un dado y obtener un número impar (I) y lanzar la misma moneda y obtener cruz (X) son eventos que no son mutuamente excluyentes (puede obtener un número impar y luego lanzar una cruz), pero aún podrían ser independientes si se cumplen ciertas condiciones.\n",
    "\n",
    "* En resumen, los conceptos de eventos mutuamente excluyentes y eventos independientes son distintos y no deben ser confundidos. La mutua exclusión se refiere a la posibilidad de que dos eventos ocurran simultáneamente, mientras que la independencia se refiere a la influencia de un evento en otro."
   ]
  },
  {
   "cell_type": "markdown",
   "metadata": {},
   "source": [
    "3. Si en la concesionaria se seleccionan dos ventas con reposición (Los sucesos son independientes.). Hallar la probabilidad de que las ventas sean:<br>\n",
    " \n",
    "  - a. La primera de un comprador de “menos de 40 años” y la segunda de uno de \"entre 40 y 50 años\". \n",
    "  "
   ]
  },
  {
   "cell_type": "code",
   "execution_count": 8,
   "metadata": {},
   "outputs": [
    {
     "data": {
      "text/plain": [
       "0.159375"
      ]
     },
     "execution_count": 8,
     "metadata": {},
     "output_type": "execute_result"
    }
   ],
   "source": [
    "(30 / 80) * (34 / 80)"
   ]
  },
  {
   "cell_type": "markdown",
   "metadata": {},
   "source": [
    "  - b. las dos sean de autos \"nacionales\"."
   ]
  },
  {
   "cell_type": "code",
   "execution_count": 9,
   "metadata": {},
   "outputs": [
    {
     "data": {
      "text/plain": [
       "0.390625"
      ]
     },
     "execution_count": 9,
     "metadata": {},
     "output_type": "execute_result"
    }
   ],
   "source": [
    "(50 / 80) * (50 / 80)"
   ]
  },
  {
   "cell_type": "markdown",
   "metadata": {},
   "source": [
    "4. Si la selección de las dos ventas se realiza sin reposición. Hallar la probabilidad de que las ventas sean:<br>\n",
    "  Los sucesos son condicionales.\n",
    "\n",
    " - a. la primera de un comprador de “menos de 40 años” y la segunda de uno de \"entre 40 y 50 años\".\n"
   ]
  },
  {
   "cell_type": "code",
   "execution_count": 10,
   "metadata": {},
   "outputs": [
    {
     "data": {
      "text/plain": [
       "0.16139240506329114"
      ]
     },
     "execution_count": 10,
     "metadata": {},
     "output_type": "execute_result"
    }
   ],
   "source": [
    "(30 / 80) * (34 / 79)"
   ]
  },
  {
   "cell_type": "markdown",
   "metadata": {},
   "source": [
    " - b. las dos sean de autos \"nacionales\"."
   ]
  },
  {
   "cell_type": "code",
   "execution_count": 11,
   "metadata": {},
   "outputs": [
    {
     "data": {
      "text/plain": [
       "0.3876582278481012"
      ]
     },
     "execution_count": 11,
     "metadata": {},
     "output_type": "execute_result"
    }
   ],
   "source": [
    "(50 / 80) * (49 / 79)"
   ]
  },
  {
   "cell_type": "markdown",
   "metadata": {},
   "source": [
    "5. Si la selección de las dos ventas se realiza sin reposición. Hallar la probabilidad de que las ventas sean:<br>\n",
    "  Los sucesos son condicionales.\n",
    "  \n",
    " - a. De un comprador de “menos de 40 años” y de uno de \"entre 40 y 50 años\". Sin importar el orden."
   ]
  },
  {
   "cell_type": "code",
   "execution_count": 12,
   "metadata": {},
   "outputs": [
    {
     "data": {
      "text/plain": [
       "0.3227848101265823"
      ]
     },
     "execution_count": 12,
     "metadata": {},
     "output_type": "execute_result"
    }
   ],
   "source": [
    "(30 / 80) * (34 / 79) + (34 / 80) * (30 / 79)"
   ]
  },
  {
   "cell_type": "markdown",
   "metadata": {},
   "source": [
    " 6. Debido al aumento de los costos de los seguros, en un país 43 millones de personas, hay personas que no cuentan con un seguro médico. En la tabla siguiente se muestran datos muestrales representativos de la cantidad de personas que cuentan con seguro médico:<br>\n",
    " ![Seguro](../_src/assets/seguro.PNG)\n",
    "\n",
    "- a. Con estos datos elabore una tabla de probabilidad conjunta y úsela para responder las preguntas restantes."
   ]
  },
  {
   "cell_type": "code",
   "execution_count": 13,
   "metadata": {},
   "outputs": [
    {
     "data": {
      "text/html": [
       "<div>\n",
       "<style scoped>\n",
       "    .dataframe tbody tr th:only-of-type {\n",
       "        vertical-align: middle;\n",
       "    }\n",
       "\n",
       "    .dataframe tbody tr th {\n",
       "        vertical-align: top;\n",
       "    }\n",
       "\n",
       "    .dataframe thead th {\n",
       "        text-align: right;\n",
       "    }\n",
       "</style>\n",
       "<table border=\"1\" class=\"dataframe\">\n",
       "  <thead>\n",
       "    <tr style=\"text-align: right;\">\n",
       "      <th></th>\n",
       "      <th>si</th>\n",
       "      <th>no</th>\n",
       "    </tr>\n",
       "  </thead>\n",
       "  <tbody>\n",
       "    <tr>\n",
       "      <th>18-34</th>\n",
       "      <td>750</td>\n",
       "      <td>170</td>\n",
       "    </tr>\n",
       "    <tr>\n",
       "      <th>35+</th>\n",
       "      <td>950</td>\n",
       "      <td>130</td>\n",
       "    </tr>\n",
       "  </tbody>\n",
       "</table>\n",
       "</div>"
      ],
      "text/plain": [
       "        si   no\n",
       "18-34  750  170\n",
       "35+    950  130"
      ]
     },
     "metadata": {},
     "output_type": "display_data"
    },
    {
     "data": {
      "text/html": [
       "<div>\n",
       "<style scoped>\n",
       "    .dataframe tbody tr th:only-of-type {\n",
       "        vertical-align: middle;\n",
       "    }\n",
       "\n",
       "    .dataframe tbody tr th {\n",
       "        vertical-align: top;\n",
       "    }\n",
       "\n",
       "    .dataframe thead th {\n",
       "        text-align: right;\n",
       "    }\n",
       "</style>\n",
       "<table border=\"1\" class=\"dataframe\">\n",
       "  <thead>\n",
       "    <tr style=\"text-align: right;\">\n",
       "      <th></th>\n",
       "      <th>si</th>\n",
       "      <th>no</th>\n",
       "      <th>por si</th>\n",
       "      <th>por no</th>\n",
       "      <th>total %</th>\n",
       "    </tr>\n",
       "  </thead>\n",
       "  <tbody>\n",
       "    <tr>\n",
       "      <th>18-34</th>\n",
       "      <td>750</td>\n",
       "      <td>170</td>\n",
       "      <td>0.375</td>\n",
       "      <td>0.085</td>\n",
       "      <td>0.46</td>\n",
       "    </tr>\n",
       "    <tr>\n",
       "      <th>35+</th>\n",
       "      <td>950</td>\n",
       "      <td>130</td>\n",
       "      <td>0.475</td>\n",
       "      <td>0.065</td>\n",
       "      <td>0.54</td>\n",
       "    </tr>\n",
       "  </tbody>\n",
       "</table>\n",
       "</div>"
      ],
      "text/plain": [
       "        si   no  por si  por no  total %\n",
       "18-34  750  170   0.375   0.085     0.46\n",
       "35+    950  130   0.475   0.065     0.54"
      ]
     },
     "execution_count": 13,
     "metadata": {},
     "output_type": "execute_result"
    }
   ],
   "source": [
    "import pandas as pd\n",
    "\n",
    "datos = {\"si\": [750, 950], \"no\": [170, 130]}\n",
    "df = pd.DataFrame(datos, index=[\"18-34\", \"35+\"])\n",
    "display(df)\n",
    "df[\"por si\"], df[\"por no\"] = df[\"si\"] / (sum(df.sum())), df[\"no\"] / (sum(df.sum()))\n",
    "df['total %']=df[\"por si\"] + df[\"por no\"]\n",
    "#df.loc['total']=df.sum()\n",
    "df"
   ]
  },
  {
   "cell_type": "markdown",
   "metadata": {},
   "source": [
    "- b. ¿Qué indican las probabilidades marginales acerca de la edad de la población?"
   ]
  },
  {
   "cell_type": "code",
   "execution_count": 14,
   "metadata": {},
   "outputs": [],
   "source": [
    "#Indica que es mas probable tener 35 años o mas (54% > 46%)"
   ]
  },
  {
   "cell_type": "markdown",
   "metadata": {},
   "source": [
    "- c. ¿Cuál es la probabilidad de que una persona tomada en forma aleatoria no tenga seguro médico?"
   ]
  },
  {
   "cell_type": "code",
   "execution_count": 15,
   "metadata": {},
   "outputs": [
    {
     "data": {
      "text/plain": [
       "0.15"
      ]
     },
     "execution_count": 15,
     "metadata": {},
     "output_type": "execute_result"
    }
   ],
   "source": [
    "df['por no'].sum().round(4)"
   ]
  },
  {
   "cell_type": "markdown",
   "metadata": {},
   "source": [
    "- d. Si la persona tiene entre 18 y 34 años, ¿cuál es la probabilidad de que no tenga seguro médico?"
   ]
  },
  {
   "cell_type": "code",
   "execution_count": 16,
   "metadata": {},
   "outputs": [
    {
     "data": {
      "text/plain": [
       "0.1848"
      ]
     },
     "execution_count": 16,
     "metadata": {},
     "output_type": "execute_result"
    }
   ],
   "source": [
    "round(df.loc['18-34']['por no']/df.loc['18-34']['total %'],4)"
   ]
  },
  {
   "cell_type": "markdown",
   "metadata": {},
   "source": [
    "- e. Si la persona tiene 35 años o más ¿cuál es la probabilidad de que no tenga seguro médico?"
   ]
  },
  {
   "cell_type": "code",
   "execution_count": 17,
   "metadata": {},
   "outputs": [
    {
     "data": {
      "text/plain": [
       "0.1204"
      ]
     },
     "execution_count": 17,
     "metadata": {},
     "output_type": "execute_result"
    }
   ],
   "source": [
    "round(df.loc['35+']['por no']/df.loc['35+']['total %'],4)"
   ]
  },
  {
   "cell_type": "markdown",
   "metadata": {},
   "source": [
    "- f. Si la persona no tiene seguro médico, ¿cuál es la probabilidad de que tenga entre 18 y 34 años?"
   ]
  },
  {
   "cell_type": "code",
   "execution_count": 18,
   "metadata": {},
   "outputs": [
    {
     "data": {
      "text/plain": [
       "0.5667"
      ]
     },
     "execution_count": 18,
     "metadata": {},
     "output_type": "execute_result"
    }
   ],
   "source": [
    "round(df.loc['18-34']['no']/df['no'].sum(),4)\n"
   ]
  },
  {
   "cell_type": "markdown",
   "metadata": {},
   "source": [
    "### Puedes complementar con los ejercicios del 33 al 40 del Capitula 4 del libro \"ESTADÍSTICA PARA ADMINISTRACIÓN Y ECONOMÍA\""
   ]
  },
  {
   "cell_type": "markdown",
   "metadata": {},
   "source": [
    "33. Una muestra de estudiantes de la maestría en administración de negocios, arrojó la siguiente información sobre la principal razón que tuvieron los estudiantes para elegir la escuela en donde\n",
    "hacen sus estudios.<br><br>\n",
    " ![aca que va????](../_src/assets/ejrepaso_33.PNG)<br><br>\n",
    "a. Con estos datos elabore una tabla de probabilidad conjunta.<br>"
   ]
  },
  {
   "cell_type": "code",
   "execution_count": 19,
   "metadata": {},
   "outputs": [
    {
     "data": {
      "text/html": [
       "<div>\n",
       "<style scoped>\n",
       "    .dataframe tbody tr th:only-of-type {\n",
       "        vertical-align: middle;\n",
       "    }\n",
       "\n",
       "    .dataframe tbody tr th {\n",
       "        vertical-align: top;\n",
       "    }\n",
       "\n",
       "    .dataframe thead th {\n",
       "        text-align: right;\n",
       "    }\n",
       "</style>\n",
       "<table border=\"1\" class=\"dataframe\">\n",
       "  <thead>\n",
       "    <tr style=\"text-align: right;\">\n",
       "      <th></th>\n",
       "      <th>calidad</th>\n",
       "      <th>costo</th>\n",
       "      <th>otras</th>\n",
       "      <th>totales</th>\n",
       "    </tr>\n",
       "  </thead>\n",
       "  <tbody>\n",
       "    <tr>\n",
       "      <th>tiempo completo</th>\n",
       "      <td>421</td>\n",
       "      <td>393</td>\n",
       "      <td>76</td>\n",
       "      <td>890</td>\n",
       "    </tr>\n",
       "    <tr>\n",
       "      <th>medio tiempo</th>\n",
       "      <td>400</td>\n",
       "      <td>593</td>\n",
       "      <td>46</td>\n",
       "      <td>1039</td>\n",
       "    </tr>\n",
       "    <tr>\n",
       "      <th>totales</th>\n",
       "      <td>821</td>\n",
       "      <td>986</td>\n",
       "      <td>122</td>\n",
       "      <td>1929</td>\n",
       "    </tr>\n",
       "  </tbody>\n",
       "</table>\n",
       "</div>"
      ],
      "text/plain": [
       "                 calidad  costo  otras  totales\n",
       "tiempo completo      421    393     76      890\n",
       "medio tiempo         400    593     46     1039\n",
       "totales              821    986    122     1929"
      ]
     },
     "metadata": {},
     "output_type": "display_data"
    },
    {
     "data": {
      "text/html": [
       "<div>\n",
       "<style scoped>\n",
       "    .dataframe tbody tr th:only-of-type {\n",
       "        vertical-align: middle;\n",
       "    }\n",
       "\n",
       "    .dataframe tbody tr th {\n",
       "        vertical-align: top;\n",
       "    }\n",
       "\n",
       "    .dataframe thead th {\n",
       "        text-align: right;\n",
       "    }\n",
       "</style>\n",
       "<table border=\"1\" class=\"dataframe\">\n",
       "  <thead>\n",
       "    <tr style=\"text-align: right;\">\n",
       "      <th></th>\n",
       "      <th>calidad</th>\n",
       "      <th>costo</th>\n",
       "      <th>otras</th>\n",
       "      <th>totales</th>\n",
       "    </tr>\n",
       "  </thead>\n",
       "  <tbody>\n",
       "    <tr>\n",
       "      <th>tiempo completo</th>\n",
       "      <td>0.218248</td>\n",
       "      <td>0.203733</td>\n",
       "      <td>0.039399</td>\n",
       "      <td>0.461379</td>\n",
       "    </tr>\n",
       "    <tr>\n",
       "      <th>medio tiempo</th>\n",
       "      <td>0.207361</td>\n",
       "      <td>0.307413</td>\n",
       "      <td>0.023847</td>\n",
       "      <td>0.538621</td>\n",
       "    </tr>\n",
       "  </tbody>\n",
       "</table>\n",
       "</div>"
      ],
      "text/plain": [
       "                  calidad     costo     otras   totales\n",
       "tiempo completo  0.218248  0.203733  0.039399  0.461379\n",
       "medio tiempo     0.207361  0.307413  0.023847  0.538621"
      ]
     },
     "metadata": {},
     "output_type": "display_data"
    }
   ],
   "source": [
    "indices=['tiempo completo','medio tiempo']\n",
    "calidad=[421,400]\n",
    "costo=[393,593]\n",
    "otras=[76,46]\n",
    "data={'calidad':calidad, 'costo':costo, 'otras':otras}\n",
    "df=pd.DataFrame(data, index=indices)\n",
    "df_por=df.copy()\n",
    "df['totales']=df.sum(axis=1)\n",
    "df.loc['totales']=df.sum(axis=0)\n",
    "display(df)\n",
    "df_por=df_por/sum(df_por.sum())\n",
    "df_por['totales']=df_por.sum(axis=1)\n",
    "display(df_por)"
   ]
  },
  {
   "cell_type": "markdown",
   "metadata": {},
   "source": [
    "b. Use las probabilidades marginales: calidad de la escuela, costo de la escuela y otras para comentar cuál es la principal razón por la que eligen una escuela."
   ]
  },
  {
   "cell_type": "code",
   "execution_count": 20,
   "metadata": {},
   "outputs": [
    {
     "name": "stdout",
     "output_type": "stream",
     "text": [
      "El 57.07% elige medio tiempo por cuestiones de costo \n",
      "Mientras que el 38.5% elige por calidad\n",
      "El resto (4.43%) es por otras razones\n"
     ]
    }
   ],
   "source": [
    "pa=df_por.loc['medio tiempo']['costo']/df_por.loc['medio tiempo']['totales']\n",
    "pb=df_por.loc['medio tiempo']['calidad']/df_por.loc['medio tiempo']['totales']\n",
    "# La mayoria que elige medio tiempo es principalmente por el costo\n",
    "print(f\"El {round(pa*100,2)}% elige medio tiempo por cuestiones de costo \")\n",
    "print(f\"Mientras que el {round(pb*100,2)}% elige por calidad\")\n",
    "print(f\"El resto ({round((1-pb-pa)*100,2)}%) es por otras razones\")"
   ]
  },
  {
   "cell_type": "code",
   "execution_count": 21,
   "metadata": {},
   "outputs": [
    {
     "name": "stdout",
     "output_type": "stream",
     "text": [
      "La eleccion de tiempo completo esta mas balanceado:\n",
      "el 47.3% es por calidad y el 44.16% es por costo\n",
      "8.54% es por otras razones\n"
     ]
    }
   ],
   "source": [
    "pa=df_por.loc['tiempo completo']['calidad']/df_por.loc['tiempo completo']['totales']\n",
    "pb=df_por.loc['tiempo completo']['costo']/df_por.loc['tiempo completo']['totales']\n",
    "# La mayoria que elige medio tiempo es principalmente por el costo\n",
    "print(f\"La eleccion de tiempo completo esta mas balanceado:\")\n",
    "print(f\"el {round(pa*100,2)}% es por calidad y el {round(pb*100,2)}% es por costo\")\n",
    "print(f\"{round((1-pa-pb)*100,2)}% es por otras razones\")"
   ]
  },
  {
   "cell_type": "markdown",
   "metadata": {},
   "source": [
    "c. Si es un estudiante de tiempo completo, ¿cuál es la probabilidad de que la principal razón\n",
    "para su elección de la escuela haya sido la calidad de la escuela?"
   ]
  },
  {
   "cell_type": "code",
   "execution_count": 22,
   "metadata": {},
   "outputs": [
    {
     "data": {
      "text/plain": [
       "0.4730337078651685"
      ]
     },
     "execution_count": 22,
     "metadata": {},
     "output_type": "execute_result"
    }
   ],
   "source": [
    "df.loc['tiempo completo']['calidad']/df.loc['tiempo completo']['totales']"
   ]
  },
  {
   "cell_type": "markdown",
   "metadata": {},
   "source": [
    "d. Si es un estudiante de medio tiempo, ¿cuál es la probabilidad de que la principal razón para\n",
    "su elección de la escuela haya sido la calidad de la escuela?\n"
   ]
  },
  {
   "cell_type": "code",
   "execution_count": 23,
   "metadata": {},
   "outputs": [
    {
     "data": {
      "text/plain": [
       "0.3849855630413859"
      ]
     },
     "execution_count": 23,
     "metadata": {},
     "output_type": "execute_result"
    }
   ],
   "source": [
    "df.loc['medio tiempo']['calidad']/df.loc['medio tiempo']['totales']"
   ]
  },
  {
   "cell_type": "markdown",
   "metadata": {},
   "source": [
    "e. Si A denota el evento es estudiante de tiempo completo y B denota el evento la calidad de\n",
    "la escuela fue la primera razón para su elección, ¿son independientes los eventos A y B? Justifique su respuesta"
   ]
  },
  {
   "cell_type": "markdown",
   "metadata": {},
   "source": [
    "Si:  P(A ∩ B) = P(A) * P(B)    =>  son independientes"
   ]
  },
  {
   "cell_type": "code",
   "execution_count": 24,
   "metadata": {},
   "outputs": [
    {
     "name": "stdout",
     "output_type": "stream",
     "text": [
      "0.21824779678589942\n",
      "0.19636709189713308\n",
      "False\n"
     ]
    }
   ],
   "source": [
    "pa=890/1929\n",
    "pb=821/1929\n",
    "paib=421/1929\n",
    "print(paib)\n",
    "print(pa*pb)\n",
    "print(paib==pa*pb)"
   ]
  },
  {
   "cell_type": "markdown",
   "metadata": {},
   "source": [
    "34. La tabla siguiente muestra las probabilidades de los distintos tipos sanguíneo en la población.\n",
    "170 Capítulo 4 Introducción a la probabilidad<br><br>\n",
    "a. ¿Cuál es la probabilidad de que una persona tenga sangre tipo O?<br>\n",
    "b. ¿De que tenga sangre Rh-?<br>\n",
    "c. ¿Cuál es la probabilidad de que una persona sea Rh- dado que la persona tiene sangre\n",
    "tipo O?<br>\n",
    "d. ¿Cuál es la probabilidad de que una persona tenga sangre tipo B dado que es Rh+?<br>\n",
    "e. ¿Cuál es la probabilidad de que en un matrimonio, los dos sean Rh-?<br>\n",
    "f. ¿Cuál es la probabilidad de que en un matrimonio, los dos tengan sangre AB?"
   ]
  },
  {
   "cell_type": "markdown",
   "metadata": {},
   "source": [
    " ![aca que va????](../_src/assets/ejrepaso_34.PNG)<br><br>"
   ]
  },
  {
   "cell_type": "code",
   "execution_count": 25,
   "metadata": {},
   "outputs": [
    {
     "data": {
      "text/html": [
       "<div>\n",
       "<style scoped>\n",
       "    .dataframe tbody tr th:only-of-type {\n",
       "        vertical-align: middle;\n",
       "    }\n",
       "\n",
       "    .dataframe tbody tr th {\n",
       "        vertical-align: top;\n",
       "    }\n",
       "\n",
       "    .dataframe thead th {\n",
       "        text-align: right;\n",
       "    }\n",
       "</style>\n",
       "<table border=\"1\" class=\"dataframe\">\n",
       "  <thead>\n",
       "    <tr style=\"text-align: right;\">\n",
       "      <th></th>\n",
       "      <th>A</th>\n",
       "      <th>B</th>\n",
       "      <th>AB</th>\n",
       "      <th>O</th>\n",
       "    </tr>\n",
       "  </thead>\n",
       "  <tbody>\n",
       "    <tr>\n",
       "      <th>Rh+</th>\n",
       "      <td>0.34</td>\n",
       "      <td>0.09</td>\n",
       "      <td>0.04</td>\n",
       "      <td>0.38</td>\n",
       "    </tr>\n",
       "    <tr>\n",
       "      <th>Rh-</th>\n",
       "      <td>0.06</td>\n",
       "      <td>0.02</td>\n",
       "      <td>0.01</td>\n",
       "      <td>0.06</td>\n",
       "    </tr>\n",
       "  </tbody>\n",
       "</table>\n",
       "</div>"
      ],
      "text/plain": [
       "        A     B    AB     O\n",
       "Rh+  0.34  0.09  0.04  0.38\n",
       "Rh-  0.06  0.02  0.01  0.06"
      ]
     },
     "execution_count": 25,
     "metadata": {},
     "output_type": "execute_result"
    }
   ],
   "source": [
    "indices=['Rh+','Rh-']\n",
    "a=[0.34,0.06]\n",
    "b=[0.09,0.02]\n",
    "ab=[0.04,0.01]\n",
    "o=[0.38,0.06]\n",
    "datos={'A':a,'B':b,'AB':ab,'O':o}\n",
    "sangre=pd.DataFrame(datos, index=indices)\n",
    "sangre"
   ]
  },
  {
   "cell_type": "code",
   "execution_count": 30,
   "metadata": {},
   "outputs": [
    {
     "data": {
      "text/plain": [
       "0.44"
      ]
     },
     "execution_count": 30,
     "metadata": {},
     "output_type": "execute_result"
    }
   ],
   "source": [
    "#a. ¿Cuál es la probabilidad de que una persona tenga sangre tipo O?<br>\n",
    "sangre['O'].sum()/sum(sangre.sum())"
   ]
  },
  {
   "cell_type": "code",
   "execution_count": 35,
   "metadata": {},
   "outputs": [
    {
     "data": {
      "text/plain": [
       "0.15"
      ]
     },
     "execution_count": 35,
     "metadata": {},
     "output_type": "execute_result"
    }
   ],
   "source": [
    "#b. ¿De que tenga sangre Rh-?<br>\n",
    "sangre.loc['Rh-'].sum()"
   ]
  },
  {
   "cell_type": "code",
   "execution_count": 36,
   "metadata": {},
   "outputs": [
    {
     "data": {
      "text/plain": [
       "0.13636363636363635"
      ]
     },
     "execution_count": 36,
     "metadata": {},
     "output_type": "execute_result"
    }
   ],
   "source": [
    "#c. ¿Cuál es la probabilidad de que una persona sea Rh- dado que la persona tiene sangre tipo O?\n",
    "sangre.loc['Rh-']['O']/sangre['O'].sum()"
   ]
  },
  {
   "cell_type": "code",
   "execution_count": 37,
   "metadata": {},
   "outputs": [
    {
     "data": {
      "text/plain": [
       "0.10588235294117646"
      ]
     },
     "execution_count": 37,
     "metadata": {},
     "output_type": "execute_result"
    }
   ],
   "source": [
    "#d. ¿Cuál es la probabilidad de que una persona tenga sangre tipo B dado que es Rh+?\n",
    "sangre.loc['Rh+']['B']/sangre.loc['Rh+'].sum()"
   ]
  },
  {
   "cell_type": "code",
   "execution_count": 39,
   "metadata": {},
   "outputs": [
    {
     "data": {
      "text/plain": [
       "0.0225"
      ]
     },
     "execution_count": 39,
     "metadata": {},
     "output_type": "execute_result"
    }
   ],
   "source": [
    "#e. ¿Cuál es la probabilidad de que en un matrimonio, los dos sean Rh-?\n",
    "sangre.loc['Rh-'].sum()**2"
   ]
  },
  {
   "cell_type": "code",
   "execution_count": 44,
   "metadata": {},
   "outputs": [
    {
     "data": {
      "text/plain": [
       "0.0025000000000000005"
      ]
     },
     "execution_count": 44,
     "metadata": {},
     "output_type": "execute_result"
    }
   ],
   "source": [
    "#f. ¿Cuál es la probabilidad de que en un matrimonio, los dos tengan sangre AB?\n",
    "sangre['AB'].sum()**2"
   ]
  },
  {
   "cell_type": "markdown",
   "metadata": {},
   "source": [
    "35. El Departamento de Estadística Laboral de Estados Unidos reúne datos sobre las ocupaciones de\n",
    "las personas entre 25 y 64 años. La tabla siguiente presenta el número de hombres y mujeres (en\n",
    "millones) en cada una de las categorías ocupacionales.<br><br>\n",
    " ![aca que va????](../_src/assets/ejrepaso_35.PNG)<br><br>\n",
    "a. Desarrolle una tabla de probabilidad conjunta.<br>\n",
    "b. ¿Cuál es la probabilidad de que un trabajador mujer sea directivo o profesional?<br>\n",
    "c. ¿Cuál es la probabilidad de que un trabajador hombre esté en producción con precisión?<br>\n",
    "d. ¿Es la ocupación independiente del género? Justifique su respuesta con el cálculo de la probabilidad"
   ]
  },
  {
   "cell_type": "code",
   "execution_count": 46,
   "metadata": {},
   "outputs": [
    {
     "data": {
      "text/html": [
       "<div>\n",
       "<style scoped>\n",
       "    .dataframe tbody tr th:only-of-type {\n",
       "        vertical-align: middle;\n",
       "    }\n",
       "\n",
       "    .dataframe tbody tr th {\n",
       "        vertical-align: top;\n",
       "    }\n",
       "\n",
       "    .dataframe thead th {\n",
       "        text-align: right;\n",
       "    }\n",
       "</style>\n",
       "<table border=\"1\" class=\"dataframe\">\n",
       "  <thead>\n",
       "    <tr style=\"text-align: right;\">\n",
       "      <th></th>\n",
       "      <th>men</th>\n",
       "      <th>women</th>\n",
       "    </tr>\n",
       "  </thead>\n",
       "  <tbody>\n",
       "    <tr>\n",
       "      <th>dir/pro</th>\n",
       "      <td>19079</td>\n",
       "      <td>19021</td>\n",
       "    </tr>\n",
       "    <tr>\n",
       "      <th>ens/vtas/admin</th>\n",
       "      <td>11079</td>\n",
       "      <td>19315</td>\n",
       "    </tr>\n",
       "    <tr>\n",
       "      <th>servicio</th>\n",
       "      <td>4977</td>\n",
       "      <td>7947</td>\n",
       "    </tr>\n",
       "    <tr>\n",
       "      <th>prod</th>\n",
       "      <td>11682</td>\n",
       "      <td>1138</td>\n",
       "    </tr>\n",
       "    <tr>\n",
       "      <th>oper/obrero</th>\n",
       "      <td>10576</td>\n",
       "      <td>3482</td>\n",
       "    </tr>\n",
       "    <tr>\n",
       "      <th>agr/gana/etc</th>\n",
       "      <td>1838</td>\n",
       "      <td>514</td>\n",
       "    </tr>\n",
       "  </tbody>\n",
       "</table>\n",
       "</div>"
      ],
      "text/plain": [
       "                  men  women\n",
       "dir/pro         19079  19021\n",
       "ens/vtas/admin  11079  19315\n",
       "servicio         4977   7947\n",
       "prod            11682   1138\n",
       "oper/obrero     10576   3482\n",
       "agr/gana/etc     1838    514"
      ]
     },
     "metadata": {},
     "output_type": "display_data"
    }
   ],
   "source": [
    "indices=['dir/pro','ens/vtas/admin','servicio', 'prod', 'oper/obrero', 'agr/gana/etc']\n",
    "men=[19079,11079,4977,11682,10576,1838]\n",
    "women=[19021,19315,7947,1138,3482,514]\n",
    "datos={'men':men, 'women':women}\n",
    "ocupa=pd.DataFrame(datos, index=indices)\n",
    "display(ocupa)"
   ]
  },
  {
   "cell_type": "code",
   "execution_count": 54,
   "metadata": {},
   "outputs": [
    {
     "data": {
      "text/html": [
       "<div>\n",
       "<style scoped>\n",
       "    .dataframe tbody tr th:only-of-type {\n",
       "        vertical-align: middle;\n",
       "    }\n",
       "\n",
       "    .dataframe tbody tr th {\n",
       "        vertical-align: top;\n",
       "    }\n",
       "\n",
       "    .dataframe thead th {\n",
       "        text-align: right;\n",
       "    }\n",
       "</style>\n",
       "<table border=\"1\" class=\"dataframe\">\n",
       "  <thead>\n",
       "    <tr style=\"text-align: right;\">\n",
       "      <th></th>\n",
       "      <th>men</th>\n",
       "      <th>women</th>\n",
       "      <th>total</th>\n",
       "    </tr>\n",
       "  </thead>\n",
       "  <tbody>\n",
       "    <tr>\n",
       "      <th>dir/pro</th>\n",
       "      <td>0.172430</td>\n",
       "      <td>0.171906</td>\n",
       "      <td>0.344335</td>\n",
       "    </tr>\n",
       "    <tr>\n",
       "      <th>ens/vtas/admin</th>\n",
       "      <td>0.100128</td>\n",
       "      <td>0.174563</td>\n",
       "      <td>0.274691</td>\n",
       "    </tr>\n",
       "    <tr>\n",
       "      <th>servicio</th>\n",
       "      <td>0.044980</td>\n",
       "      <td>0.071822</td>\n",
       "      <td>0.116803</td>\n",
       "    </tr>\n",
       "    <tr>\n",
       "      <th>prod</th>\n",
       "      <td>0.105578</td>\n",
       "      <td>0.010285</td>\n",
       "      <td>0.115863</td>\n",
       "    </tr>\n",
       "    <tr>\n",
       "      <th>oper/obrero</th>\n",
       "      <td>0.095582</td>\n",
       "      <td>0.031469</td>\n",
       "      <td>0.127052</td>\n",
       "    </tr>\n",
       "    <tr>\n",
       "      <th>agr/gana/etc</th>\n",
       "      <td>0.016611</td>\n",
       "      <td>0.004645</td>\n",
       "      <td>0.021257</td>\n",
       "    </tr>\n",
       "    <tr>\n",
       "      <th>total</th>\n",
       "      <td>0.535310</td>\n",
       "      <td>0.464690</td>\n",
       "      <td>1.000000</td>\n",
       "    </tr>\n",
       "  </tbody>\n",
       "</table>\n",
       "</div>"
      ],
      "text/plain": [
       "                     men     women     total\n",
       "dir/pro         0.172430  0.171906  0.344335\n",
       "ens/vtas/admin  0.100128  0.174563  0.274691\n",
       "servicio        0.044980  0.071822  0.116803\n",
       "prod            0.105578  0.010285  0.115863\n",
       "oper/obrero     0.095582  0.031469  0.127052\n",
       "agr/gana/etc    0.016611  0.004645  0.021257\n",
       "total           0.535310  0.464690  1.000000"
      ]
     },
     "execution_count": 54,
     "metadata": {},
     "output_type": "execute_result"
    }
   ],
   "source": [
    "ocupa_por=ocupa/sum(ocupa.sum())\n",
    "ocupa_por['total']=ocupa_por.sum(axis=1)\n",
    "ocupa_por.loc['total']=ocupa_por.sum(axis=0)\n",
    "ocupa_por"
   ]
  },
  {
   "cell_type": "code",
   "execution_count": 56,
   "metadata": {},
   "outputs": [
    {
     "name": "stdout",
     "output_type": "stream",
     "text": [
      "0.3699360133807885\n",
      "0.36993601338078846\n"
     ]
    }
   ],
   "source": [
    "#b. ¿Cuál es la probabilidad de que un trabajador mujer sea directivo o profesional?\n",
    "print(ocupa_por.loc['dir/pro']['women']/ocupa_por.loc['total']['women'])\n",
    "print(ocupa.loc['dir/pro']['women']/ocupa['women'].sum())"
   ]
  },
  {
   "cell_type": "code",
   "execution_count": 58,
   "metadata": {},
   "outputs": [
    {
     "name": "stdout",
     "output_type": "stream",
     "text": [
      "0.19722780300855972\n",
      "0.19722780300855972\n"
     ]
    }
   ],
   "source": [
    "#c. ¿Cuál es la probabilidad de que un trabajador hombre esté en producción con precisión?\n",
    "print(ocupa_por.loc['prod']['men']/ocupa_por.loc['total']['men'])\n",
    "print(ocupa.loc['prod']['men']/ocupa['men'].sum())\n"
   ]
  },
  {
   "cell_type": "code",
   "execution_count": 66,
   "metadata": {},
   "outputs": [
    {
     "name": "stdout",
     "output_type": "stream",
     "text": [
      "son independientes?:  False\n"
     ]
    }
   ],
   "source": [
    "#d. ¿Es la ocupación independiente del género? Justifique su respuesta con el cálculo de la probabilidad\n",
    "# Si:  P(A ∩ B) = P(A) * P(B)    =>  son independientes\n",
    "pa=ocupa_por.loc['dir/pro']['total']\n",
    "pb=ocupa_por.loc['total']['men']\n",
    "paib=ocupa_por.loc['dir/pro']['men']\n",
    "print(\"son independientes?: \", pa*pb==paib)"
   ]
  },
  {
   "cell_type": "markdown",
   "metadata": {},
   "source": [
    "36. Reggie Miller de los Indiana Pacers tiene el record de la National Basketball Association de más\n",
    "canastas de 3 puntos anotadas en toda una carrera, acertando en 85% de sus tiros (USA Today, 22\n",
    "de enero de 2004). Suponga que ya casi al final de un juego cometen una falta contra él y le conceden dos tiros.<br><br>\n",
    "a. ¿Cuál es la probabilidad de que acierte en los dos tiros?<br>\n",
    "b. ¿De que acierte en por lo menos uno de los dos tiros?<br>\n",
    "c. ¿De que no acierte en ninguno de los dos tiros?<br>\n",
    "d. Al final de un juego de básquetbol suele ocurrir que cometan faltas contra un jugador del equipo\n",
    "opuesto para detener el reloj del juego. La estrategia usual es cometer una falta contra el peor\n",
    "tirador del otro equipo. Suponga que el centro de los Indiana Pacers acierta 58% de sus tiros.\n",
    "Calcule para él las probabilidades calculadas en los incisos a, b y c y muestre que hacer una falta\n",
    "intencional contra el centro de los Indiana Pacers es mejor que hacerlo contra Reggie Miller"
   ]
  },
  {
   "cell_type": "code",
   "execution_count": 77,
   "metadata": {},
   "outputs": [
    {
     "name": "stdout",
     "output_type": "stream",
     "text": [
      "Reggie Miller 85.0 %\n",
      "0.7224999999999999\n",
      "0.9775\n",
      "0.022500000000000006\n",
      "centro de los Indiana Pacers 58.0 %\n",
      "0.3364\n",
      "0.8236\n",
      "0.17640000000000003\n"
     ]
    }
   ],
   "source": [
    "p=0.85\n",
    "print(\"Reggie Miller\",100*p,\"%\")\n",
    "#a. ¿Cuál es la probabilidad de que acierte en los dos tiros?<br>\n",
    "print(p**2)\n",
    "#b. ¿De que acierte en por lo menos uno de los dos tiros?<br>\n",
    "print(1-(1-p)**2)\n",
    "#c. ¿De que no acierte en ninguno de los dos tiros?<br>\n",
    "print((1-p)**2)\n",
    "\n",
    "# Suponga que el centro de los Indiana Pacers acierta 58% de sus tiros.\n",
    "p=0.58\n",
    "print(\"centro de los Indiana Pacers\",round(p*100,2),\"%\")\n",
    "#a. ¿Cuál es la probabilidad de que acierte en los dos tiros?<br>\n",
    "print(p**2)\n",
    "#b. ¿De que acierte en por lo menos uno de los dos tiros?<br>\n",
    "print(1-(1-p)**2)\n",
    "#c. ¿De que no acierte en ninguno de los dos tiros?<br>\n",
    "print((1-p)**2)"
   ]
  },
  {
   "cell_type": "markdown",
   "metadata": {},
   "source": [
    "37. Visa Card de Estados Unidos estudia con qué frecuencia usan sus tarjetas (de débito y de crédito) los consumidores jóvenes, entre 18 y 24 años. Los resultados del estudio proporcionan las probabilidades siguientes.<br><br>\n",
    "• La probabilidad de que un consumidor use su tarjeta al hacer una compra es 0.37.<br>\n",
    "• Dado que un consumidor usa su tarjeta, la probabilidad de que tenga entre 18 y 24 años es\n",
    "0.19.<br>\n",
    "• Puesto que un consumidor usa su tarjeta, la probabilidad de que sea mayor de 24 años es\n",
    "0.81.<br><br>\n",
    "Datos de la Oficina de Censos de Estados Unidos indican que 14% de los consumidores tienen\n",
    "entre 18 y 24 años.<br>\n",
    "a. Ya que un consumidor tiene entre 18 y 24 años, ¿cuál es la probabilidad de que use su tarjeta?<br>\n",
    "b. Dado que un consumidor tiene más de 24 años, ¿cuál es la probabilidad de que use su tarjeta?<br>\n",
    "c. ¿Qué interpretación se le da a las probabilidades de los incisos a y b?<br>\n",
    "d. ¿Empresas como Visa, Master Card y Discover deben proporcionar tarjetas a los consumidores entre 18 y 24 años, antes de que tengan una historia crediticia? Si no, explique. Si sí,\n",
    "¿qué restricciones deben poner las empresas a estos consumidores?"
   ]
  },
  {
   "cell_type": "markdown",
   "metadata": {},
   "source": [
    "P(A | B)  =  P(A ∩ B)  / P(B)<br>\n",
    "P(B | A)  =  P(A ∩ B)  / P(A)"
   ]
  },
  {
   "cell_type": "code",
   "execution_count": 85,
   "metadata": {},
   "outputs": [
    {
     "name": "stdout",
     "output_type": "stream",
     "text": [
      "50.21 %\n"
     ]
    }
   ],
   "source": [
    "# P(A) = usar tarjeta   (37%)\n",
    "# P(B) = de 18 a 24  (14%)\n",
    "# P(B|A) = dado que A probabilidad de B  (19%)\n",
    "pb=0.14\n",
    "pa=0.37\n",
    "# P(B|A)  =  P(A ∩ B)  / P(A) => P(A ∩ B) = P(B|A)*P(A)\n",
    "paib=0.19*0.37\n",
    "#a. Ya que un consumidor tiene entre 18 y 24 años, ¿cuál es la probabilidad de que use su tarjeta?\n",
    "#P(A|B)\n",
    "print(round(100*paib/pb,2),\"%\")\n"
   ]
  },
  {
   "cell_type": "code",
   "execution_count": 88,
   "metadata": {},
   "outputs": [
    {
     "name": "stdout",
     "output_type": "stream",
     "text": [
      "34.85 %\n"
     ]
    }
   ],
   "source": [
    "#b. Dado que un consumidor tiene más de 24 años, ¿cuál es la probabilidad de que use su tarjeta?\n",
    "# P(A) = usar tarjeta   (37%)\n",
    "# P(B) = 25+  (86%)\n",
    "#P(A|B')  =  P(A ∩ B')  / P(B') = P(B'|A) * P(A) / P(B')\n",
    "print(round(100*(1-0.19)*pa/(1-pb),2),\"%\")"
   ]
  },
  {
   "cell_type": "code",
   "execution_count": null,
   "metadata": {},
   "outputs": [],
   "source": [
    "#c. ¿Qué interpretación se le da a las probabilidades de los incisos a y b?\n",
    "\n",
    "#La gente joven es mas propensa a usar la tarjeta  (1 de cada 2 ), mientras que los mayores de 24 \n",
    "# solo usan tarjeta 1 de cada 3"
   ]
  },
  {
   "cell_type": "code",
   "execution_count": null,
   "metadata": {},
   "outputs": [],
   "source": [
    "#d. ¿Empresas como Visa, Master Card y Discover deben proporcionar tarjetas a los \n",
    "#consumidores entre 18 y 24 años, antes de que tengan una historia crediticia? Si no, explique. \n",
    "#Si sí, ¿qué restricciones deben poner las empresas a estos consumidores?\n",
    "\n",
    "# no se a que se refiere, muy subjetiva (es como querer contratar jovenes pero solo con experiencia)"
   ]
  },
  {
   "cell_type": "markdown",
   "metadata": {},
   "source": [
    "38. En un estudio de Morgan Stanley Consumer Research se muestrearon hombres y mujeres y se les\n",
    "preguntó qué preferían tomar: agua de botella o una bebida deportiva como Gatorade o Propel\n",
    "Fitness (The Atlanta Journal-Constitution, 28 de diciembre de 2005). Suponga que en el estudio\n",
    "hayan participado 200 hombres y 200 mujeres y que de todos 280 hayan preferido el agua de botella. En el grupo de los que preferían bebidas deportivas, 80 eran hombres y 40 eran mujeres.<br>\n",
    "Sea<br>\n",
    "M = el evento el consumidor es hombre<br>\n",
    "W = el evento el consumidor es mujer<br>\n",
    "B = el evento el consumidor prefiere agua de botella<br>\n",
    "S = el evento el consumidor prefiere una bebida deportiva<br>\n",
    "a. ¿Cuál es la probabilidad de que en este estudio una persona prefiera agua de botella?<br>\n",
    "b. ¿De que en este estudio una persona prefiera una bebida deportiva?<br>\n",
    "c. ¿Cuáles son las probabilidades condicionales P(M | S) y P(W | S)?<br>\n",
    "d. ¿Cuáles son las probabilidades conjuntas P(M ∩ S) y P(W ∩ S)?<br>\n",
    "e. Dado que un consumidor es hombre, ¿cuál es la probabilidad de que prefiera una bebida deportiva?<br>\n",
    "f. Ya que un consumidor es mujer, ¿cuál es la probabilidad de que prefiera una bebida deportiva?<br>\n",
    "g. ¿Depende la preferencia por una bebida deportiva de que el consumidor sea hombre o mujer? Explique usando la información sobre las probabilidades.<br>"
   ]
  },
  {
   "cell_type": "code",
   "execution_count": 102,
   "metadata": {},
   "outputs": [
    {
     "name": "stdout",
     "output_type": "stream",
     "text": [
      "0.5 0.5 0.7 0.3 0.2 0.1\n"
     ]
    }
   ],
   "source": [
    "m=200/400\n",
    "w=200/400\n",
    "b=280/400\n",
    "s=120/400\n",
    "mis=80/400\n",
    "wis=40/400\n",
    "print(m,w,b,s,mis,wis)"
   ]
  },
  {
   "cell_type": "code",
   "execution_count": 91,
   "metadata": {},
   "outputs": [
    {
     "name": "stdout",
     "output_type": "stream",
     "text": [
      "0.7\n"
     ]
    }
   ],
   "source": [
    "#a. ¿Cuál es la probabilidad de que en este estudio una persona prefiera agua de botella?<br>\n",
    "print(b)"
   ]
  },
  {
   "cell_type": "code",
   "execution_count": 92,
   "metadata": {},
   "outputs": [
    {
     "name": "stdout",
     "output_type": "stream",
     "text": [
      "0.3\n"
     ]
    }
   ],
   "source": [
    "#b. ¿De que en este estudio una persona prefiera una bebida deportiva?<br>\n",
    "print(s)"
   ]
  },
  {
   "cell_type": "code",
   "execution_count": 94,
   "metadata": {},
   "outputs": [
    {
     "name": "stdout",
     "output_type": "stream",
     "text": [
      "0.6666666666666667\n",
      "0.33333333333333337\n"
     ]
    }
   ],
   "source": [
    "#c. ¿Cuáles son las probabilidades condicionales P(M | S) y P(W | S)?\n",
    "#P(M | S) = P(M ∩ S) / P(S)\n",
    "print(mis/s)\n",
    "#P(W | S) = P(W ∩ S) / P(S)\n",
    "print(wis/s)"
   ]
  },
  {
   "cell_type": "code",
   "execution_count": 95,
   "metadata": {},
   "outputs": [
    {
     "name": "stdout",
     "output_type": "stream",
     "text": [
      "0.2 0.1\n"
     ]
    }
   ],
   "source": [
    "#d. ¿Cuáles son las probabilidades conjuntas P(M ∩ S) y P(W ∩ S)?\n",
    "print(mis,wis)"
   ]
  },
  {
   "cell_type": "code",
   "execution_count": 97,
   "metadata": {},
   "outputs": [
    {
     "name": "stdout",
     "output_type": "stream",
     "text": [
      "0.4\n"
     ]
    }
   ],
   "source": [
    "#e. Dado que un consumidor es hombre, ¿cuál es la probabilidad de que prefiera una bebida deportiva?\n",
    "#P(S | M) = P(M ∩ S) / P(M)\n",
    "print(mis/m)"
   ]
  },
  {
   "cell_type": "code",
   "execution_count": 99,
   "metadata": {},
   "outputs": [
    {
     "name": "stdout",
     "output_type": "stream",
     "text": [
      "0.2\n"
     ]
    }
   ],
   "source": [
    "#f. Ya que un consumidor es mujer, ¿cuál es la probabilidad de que prefiera una bebida deportiva?\n",
    "#P(S | W) = P(W ∩ S) / P(W)\n",
    "print(wis/w)"
   ]
  },
  {
   "cell_type": "code",
   "execution_count": 105,
   "metadata": {},
   "outputs": [
    {
     "name": "stdout",
     "output_type": "stream",
     "text": [
      "False\n"
     ]
    }
   ],
   "source": [
    "#g. ¿Depende la preferencia por una bebida deportiva de que el consumidor sea hombre o mujer?\n",
    "# Explique usando la información sobre las probabilidades\n",
    "\n",
    "print(m*s==mis)\n"
   ]
  }
 ],
 "metadata": {
  "kernelspec": {
   "display_name": "Python 3",
   "language": "python",
   "name": "python3"
  },
  "language_info": {
   "codemirror_mode": {
    "name": "ipython",
    "version": 3
   },
   "file_extension": ".py",
   "mimetype": "text/x-python",
   "name": "python",
   "nbconvert_exporter": "python",
   "pygments_lexer": "ipython3",
   "version": "3.10.11"
  },
  "orig_nbformat": 4
 },
 "nbformat": 4,
 "nbformat_minor": 2
}
