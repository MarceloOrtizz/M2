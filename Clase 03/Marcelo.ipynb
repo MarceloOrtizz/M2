{
 "cells": [
  {
   "cell_type": "markdown",
   "metadata": {},
   "source": [
    "1. Suponga dos eventos, A y B, y que P(A) = 0.50, P(B) = 0.60 y P(A ∩ B) = 0.40.<br>\n",
    "- a. Halle P(A | B).\n",
    "- b. Halle P(B | A).\n",
    "- c. ¿A y B son independientes? ¿Por qué sí o por qué no?"
   ]
  },
  {
   "cell_type": "markdown",
   "metadata": {},
   "source": [
    "![aca que va???](../_src/assets/marcelo03.PNG)<br>"
   ]
  },
  {
   "cell_type": "code",
   "execution_count": 10,
   "metadata": {},
   "outputs": [
    {
     "name": "stdout",
     "output_type": "stream",
     "text": [
      "P(A | B) 0.6666666666666666\n",
      "P(B | A) 0.8\n",
      "P(A) * P(B):  0.3\n",
      "¿A y B son independientes?:  False\n"
     ]
    }
   ],
   "source": [
    "# a. Halle P(A | B).\n",
    "print(\"P(A | B)\", 40/60)\n",
    "# b. Halle P(B | A).\n",
    "print(\"P(B | A)\", 40/50)\n",
    "# c. ¿A y B son independientes? ¿Por qué sí o por qué no?\n",
    "pa, pb, paipb = 0.5, 0.6, 0.4\n",
    "print(\"P(A) * P(B): \", pa*pb)\n",
    "print(\"¿A y B son independientes?: \", pa*pb == paipb)"
   ]
  },
  {
   "cell_type": "markdown",
   "metadata": {},
   "source": [
    "2. Suponga dos eventos, A y B, que son mutuamente excluyentes. Admita, además, que P(A) = 0.30 y P(B) = 0.40.<br>\n",
    "- a. Obtenga P(A ∩ B). ¿Existe intersección entre los dos conjuntos?.\n",
    "- b. Calcule P(A | B).\n",
    "- c. Un estudiante de estadística argumenta que los conceptos de eventos mutuamente excluyentes y eventos independientes son en realidad lo mismo y que si los eventos son mutuamente excluyentes deben ser también independientes. ¿Está usted de acuerdo? Use la información sobre las probabilidades para justificar su respuesta."
   ]
  },
  {
   "cell_type": "code",
   "execution_count": 11,
   "metadata": {},
   "outputs": [
    {
     "name": "stdout",
     "output_type": "stream",
     "text": [
      "P(A | B) 0.0\n"
     ]
    }
   ],
   "source": [
    "#a. Obtenga P(A ∩ B). ¿Existe intersección entre los dos conjuntos?.\n",
    "#P(A ∩ B)=0   no tiene intersección\n",
    "\n",
    "#b. Calcule P(A | B).\n",
    "print(\"P(A | B)\", 0/0.4)\n",
    "\n",
    "#c: si son excluyentes entonces \n"
   ]
  },
  {
   "cell_type": "markdown",
   "metadata": {},
   "source": [
    "### ChatGPT\n",
    "* Eventos Mutuamente Excluyentes:\n",
    "Dos eventos son mutuamente excluyentes si no pueden ocurrir simultáneamente. Esto significa que si uno de los eventos ocurre, el otro no puede ocurrir al mismo tiempo. Por ejemplo, lanzar una moneda y obtener cara (C) y lanzar la misma moneda y obtener cruz (X) son eventos mutuamente excluyentes. No es posible obtener cara y cruz al mismo tiempo en un solo lanzamiento.\n",
    "\n",
    "* Eventos Independientes:\n",
    "Dos eventos son independientes si la ocurrencia (o no ocurrencia) de uno no afecta la probabilidad de ocurrencia del otro. En otras palabras, la probabilidad de que ocurra uno de los eventos no se ve afectada por la ocurrencia o no ocurrencia del otro. Por ejemplo, lanzar un dado y obtener un número par (P) y lanzar una moneda y obtener cara (C) son eventos independientes, ya que la ocurrencia de obtener un número par en el dado no afecta la probabilidad de obtener cara en la moneda.\n",
    "\n",
    "La relación entre eventos mutuamente excluyentes y eventos independientes es la siguiente:\n",
    "\n",
    "* Si dos eventos son mutuamente excluyentes, no pueden ser independientes. Esto se debe a que si uno de los eventos ocurre, el otro no puede ocurrir, lo que significa que hay una relación entre ellos, lo que va en contra de la independencia.\n",
    "\n",
    "* Dos eventos pueden ser independientes sin ser mutuamente excluyentes. La independencia se refiere a la influencia de un evento en otro, mientras que la mutua exclusión se refiere a la posibilidad de que ambos eventos ocurran juntos. Por ejemplo, lanzar un dado y obtener un número impar (I) y lanzar la misma moneda y obtener cruz (X) son eventos que no son mutuamente excluyentes (puede obtener un número impar y luego lanzar una cruz), pero aún podrían ser independientes si se cumplen ciertas condiciones.\n",
    "\n",
    "* En resumen, los conceptos de eventos mutuamente excluyentes y eventos independientes son distintos y no deben ser confundidos. La mutua exclusión se refiere a la posibilidad de que dos eventos ocurran simultáneamente, mientras que la independencia se refiere a la influencia de un evento en otro."
   ]
  }
 ],
 "metadata": {
  "kernelspec": {
   "display_name": "Python 3",
   "language": "python",
   "name": "python3"
  },
  "language_info": {
   "codemirror_mode": {
    "name": "ipython",
    "version": 3
   },
   "file_extension": ".py",
   "mimetype": "text/x-python",
   "name": "python",
   "nbconvert_exporter": "python",
   "pygments_lexer": "ipython3",
   "version": "3.10.11"
  },
  "orig_nbformat": 4
 },
 "nbformat": 4,
 "nbformat_minor": 2
}
