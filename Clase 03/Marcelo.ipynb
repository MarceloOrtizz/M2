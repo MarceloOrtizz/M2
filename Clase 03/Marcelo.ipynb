{
 "cells": [
  {
   "cell_type": "markdown",
   "metadata": {},
   "source": [
    "1. Suponga dos eventos, A y B, y que P(A) = 0.50, P(B) = 0.60 y P(A ∩ B) = 0.40.<br>\n",
    "- a. Halle P(A | B).\n",
    "- b. Halle P(B | A).\n",
    "- c. ¿A y B son independientes? ¿Por qué sí o por qué no?"
   ]
  },
  {
   "cell_type": "markdown",
   "metadata": {},
   "source": [
    "![aca que va???](../_src/assets/marcelo03.PNG)<br>"
   ]
  },
  {
   "cell_type": "code",
   "execution_count": 10,
   "metadata": {},
   "outputs": [
    {
     "name": "stdout",
     "output_type": "stream",
     "text": [
      "P(A | B) 0.6666666666666666\n",
      "P(B | A) 0.8\n",
      "P(A) * P(B):  0.3\n",
      "¿A y B son independientes?:  False\n"
     ]
    }
   ],
   "source": [
    "# a. Halle P(A | B).\n",
    "print(\"P(A | B)\", 40 / 60)\n",
    "# b. Halle P(B | A).\n",
    "print(\"P(B | A)\", 40 / 50)\n",
    "# c. ¿A y B son independientes? ¿Por qué sí o por qué no?\n",
    "pa, pb, paipb = 0.5, 0.6, 0.4\n",
    "print(\"P(A) * P(B): \", pa * pb)\n",
    "print(\"¿A y B son independientes?: \", pa * pb == paipb)"
   ]
  },
  {
   "cell_type": "markdown",
   "metadata": {},
   "source": [
    "2. Suponga dos eventos, A y B, que son mutuamente excluyentes. Admita, además, que P(A) = 0.30 y P(B) = 0.40.<br>\n",
    "- a. Obtenga P(A ∩ B). ¿Existe intersección entre los dos conjuntos?.\n",
    "- b. Calcule P(A | B).\n",
    "- c. Un estudiante de estadística argumenta que los conceptos de eventos mutuamente excluyentes y eventos independientes son en realidad lo mismo y que si los eventos son mutuamente excluyentes deben ser también independientes. ¿Está usted de acuerdo? Use la información sobre las probabilidades para justificar su respuesta."
   ]
  },
  {
   "cell_type": "code",
   "execution_count": 11,
   "metadata": {},
   "outputs": [
    {
     "name": "stdout",
     "output_type": "stream",
     "text": [
      "P(A | B) 0.0\n"
     ]
    }
   ],
   "source": [
    "# a. Obtenga P(A ∩ B). ¿Existe intersección entre los dos conjuntos?.\n",
    "# P(A ∩ B)=0   no tiene intersección\n",
    "\n",
    "# b. Calcule P(A | B).\n",
    "print(\"P(A | B)\", 0 / 0.4)\n",
    "\n",
    "# c:"
   ]
  },
  {
   "cell_type": "markdown",
   "metadata": {},
   "source": [
    "### ChatGPT\n",
    "* Eventos Mutuamente Excluyentes:\n",
    "Dos eventos son mutuamente excluyentes si no pueden ocurrir simultáneamente. Esto significa que si uno de los eventos ocurre, el otro no puede ocurrir al mismo tiempo. Por ejemplo, lanzar una moneda y obtener cara (C) y lanzar la misma moneda y obtener cruz (X) son eventos mutuamente excluyentes. No es posible obtener cara y cruz al mismo tiempo en un solo lanzamiento.\n",
    "\n",
    "* Eventos Independientes:\n",
    "Dos eventos son independientes si la ocurrencia (o no ocurrencia) de uno no afecta la probabilidad de ocurrencia del otro. En otras palabras, la probabilidad de que ocurra uno de los eventos no se ve afectada por la ocurrencia o no ocurrencia del otro. Por ejemplo, lanzar un dado y obtener un número par (P) y lanzar una moneda y obtener cara (C) son eventos independientes, ya que la ocurrencia de obtener un número par en el dado no afecta la probabilidad de obtener cara en la moneda.\n",
    "\n",
    "La relación entre eventos mutuamente excluyentes y eventos independientes es la siguiente:\n",
    "\n",
    "* Si dos eventos son mutuamente excluyentes, no pueden ser independientes. Esto se debe a que si uno de los eventos ocurre, el otro no puede ocurrir, lo que significa que hay una relación entre ellos, lo que va en contra de la independencia.\n",
    "\n",
    "* Dos eventos pueden ser independientes sin ser mutuamente excluyentes. La independencia se refiere a la influencia de un evento en otro, mientras que la mutua exclusión se refiere a la posibilidad de que ambos eventos ocurran juntos. Por ejemplo, lanzar un dado y obtener un número impar (I) y lanzar la misma moneda y obtener cruz (X) son eventos que no son mutuamente excluyentes (puede obtener un número impar y luego lanzar una cruz), pero aún podrían ser independientes si se cumplen ciertas condiciones.\n",
    "\n",
    "* En resumen, los conceptos de eventos mutuamente excluyentes y eventos independientes son distintos y no deben ser confundidos. La mutua exclusión se refiere a la posibilidad de que dos eventos ocurran simultáneamente, mientras que la independencia se refiere a la influencia de un evento en otro."
   ]
  },
  {
   "cell_type": "markdown",
   "metadata": {},
   "source": [
    "3. Si en la concesionaria se seleccionan dos ventas con reposición (Los sucesos son independientes.). Hallar la probabilidad de que las ventas sean:<br>\n",
    " \n",
    "  - a. La primera de un comprador de “menos de 40 años” y la segunda de uno de \"entre 40 y 50 años\". \n",
    "  "
   ]
  },
  {
   "cell_type": "code",
   "execution_count": 2,
   "metadata": {},
   "outputs": [
    {
     "data": {
      "text/plain": [
       "0.159375"
      ]
     },
     "execution_count": 2,
     "metadata": {},
     "output_type": "execute_result"
    }
   ],
   "source": [
    "(30 / 80) * (34 / 80)"
   ]
  },
  {
   "cell_type": "markdown",
   "metadata": {},
   "source": [
    "  - b. las dos sean de autos \"nacionales\"."
   ]
  },
  {
   "cell_type": "code",
   "execution_count": 4,
   "metadata": {},
   "outputs": [
    {
     "data": {
      "text/plain": [
       "0.390625"
      ]
     },
     "execution_count": 4,
     "metadata": {},
     "output_type": "execute_result"
    }
   ],
   "source": [
    "(50 / 80) * (50 / 80)"
   ]
  },
  {
   "cell_type": "markdown",
   "metadata": {},
   "source": [
    "4. Si la selección de las dos ventas se realiza sin reposición. Hallar la probabilidad de que las ventas sean:<br>\n",
    "  Los sucesos son condicionales.\n",
    "\n",
    " - a. la primera de un comprador de “menos de 40 años” y la segunda de uno de \"entre 40 y 50 años\".\n"
   ]
  },
  {
   "cell_type": "code",
   "execution_count": 5,
   "metadata": {},
   "outputs": [
    {
     "data": {
      "text/plain": [
       "0.16139240506329114"
      ]
     },
     "execution_count": 5,
     "metadata": {},
     "output_type": "execute_result"
    }
   ],
   "source": [
    "(30 / 80) * (34 / 79)"
   ]
  },
  {
   "cell_type": "markdown",
   "metadata": {},
   "source": [
    " - b. las dos sean de autos \"nacionales\"."
   ]
  },
  {
   "cell_type": "code",
   "execution_count": 6,
   "metadata": {},
   "outputs": [
    {
     "data": {
      "text/plain": [
       "0.3876582278481012"
      ]
     },
     "execution_count": 6,
     "metadata": {},
     "output_type": "execute_result"
    }
   ],
   "source": [
    "(50 / 80) * (49 / 79)"
   ]
  },
  {
   "cell_type": "markdown",
   "metadata": {},
   "source": [
    "5. Si la selección de las dos ventas se realiza sin reposición. Hallar la probabilidad de que las ventas sean:<br>\n",
    "  Los sucesos son condicionales.\n",
    "  \n",
    " - a. De un comprador de “menos de 40 años” y de uno de \"entre 40 y 50 años\". Sin importar el orden."
   ]
  },
  {
   "cell_type": "code",
   "execution_count": 7,
   "metadata": {},
   "outputs": [
    {
     "data": {
      "text/plain": [
       "0.3227848101265823"
      ]
     },
     "execution_count": 7,
     "metadata": {},
     "output_type": "execute_result"
    }
   ],
   "source": [
    "(30 / 80) * (34 / 79) + (34 / 80) * (30 / 79)"
   ]
  },
  {
   "cell_type": "markdown",
   "metadata": {},
   "source": [
    " 6. Debido al aumento de los costos de los seguros, en un país 43 millones de personas, hay personas que no cuentan con un seguro médico. En la tabla siguiente se muestran datos muestrales representativos de la cantidad de personas que cuentan con seguro médico:<br>\n",
    " ![Seguro](../_src/assets/seguro.PNG)\n",
    "\n",
    "- a. Con estos datos elabore una tabla de probabilidad conjunta y úsela para responder las preguntas restantes."
   ]
  },
  {
   "cell_type": "code",
   "execution_count": 33,
   "metadata": {},
   "outputs": [
    {
     "data": {
      "text/html": [
       "<div>\n",
       "<style scoped>\n",
       "    .dataframe tbody tr th:only-of-type {\n",
       "        vertical-align: middle;\n",
       "    }\n",
       "\n",
       "    .dataframe tbody tr th {\n",
       "        vertical-align: top;\n",
       "    }\n",
       "\n",
       "    .dataframe thead th {\n",
       "        text-align: right;\n",
       "    }\n",
       "</style>\n",
       "<table border=\"1\" class=\"dataframe\">\n",
       "  <thead>\n",
       "    <tr style=\"text-align: right;\">\n",
       "      <th></th>\n",
       "      <th>si</th>\n",
       "      <th>no</th>\n",
       "    </tr>\n",
       "  </thead>\n",
       "  <tbody>\n",
       "    <tr>\n",
       "      <th>18-34</th>\n",
       "      <td>750</td>\n",
       "      <td>170</td>\n",
       "    </tr>\n",
       "    <tr>\n",
       "      <th>35+</th>\n",
       "      <td>950</td>\n",
       "      <td>130</td>\n",
       "    </tr>\n",
       "  </tbody>\n",
       "</table>\n",
       "</div>"
      ],
      "text/plain": [
       "        si   no\n",
       "18-34  750  170\n",
       "35+    950  130"
      ]
     },
     "metadata": {},
     "output_type": "display_data"
    },
    {
     "data": {
      "text/html": [
       "<div>\n",
       "<style scoped>\n",
       "    .dataframe tbody tr th:only-of-type {\n",
       "        vertical-align: middle;\n",
       "    }\n",
       "\n",
       "    .dataframe tbody tr th {\n",
       "        vertical-align: top;\n",
       "    }\n",
       "\n",
       "    .dataframe thead th {\n",
       "        text-align: right;\n",
       "    }\n",
       "</style>\n",
       "<table border=\"1\" class=\"dataframe\">\n",
       "  <thead>\n",
       "    <tr style=\"text-align: right;\">\n",
       "      <th></th>\n",
       "      <th>si</th>\n",
       "      <th>no</th>\n",
       "      <th>por si</th>\n",
       "      <th>por no</th>\n",
       "      <th>total %</th>\n",
       "    </tr>\n",
       "  </thead>\n",
       "  <tbody>\n",
       "    <tr>\n",
       "      <th>18-34</th>\n",
       "      <td>750</td>\n",
       "      <td>170</td>\n",
       "      <td>0.375</td>\n",
       "      <td>0.085</td>\n",
       "      <td>0.46</td>\n",
       "    </tr>\n",
       "    <tr>\n",
       "      <th>35+</th>\n",
       "      <td>950</td>\n",
       "      <td>130</td>\n",
       "      <td>0.475</td>\n",
       "      <td>0.065</td>\n",
       "      <td>0.54</td>\n",
       "    </tr>\n",
       "  </tbody>\n",
       "</table>\n",
       "</div>"
      ],
      "text/plain": [
       "        si   no  por si  por no  total %\n",
       "18-34  750  170   0.375   0.085     0.46\n",
       "35+    950  130   0.475   0.065     0.54"
      ]
     },
     "execution_count": 33,
     "metadata": {},
     "output_type": "execute_result"
    }
   ],
   "source": [
    "import pandas as pd\n",
    "\n",
    "datos = {\"si\": [750, 950], \"no\": [170, 130]}\n",
    "df = pd.DataFrame(datos, index=[\"18-34\", \"35+\"])\n",
    "display(df)\n",
    "df[\"por si\"], df[\"por no\"] = df[\"si\"] / (sum(df.sum())), df[\"no\"] / (sum(df.sum()))\n",
    "df['total %']=df[\"por si\"] + df[\"por no\"]\n",
    "#df.loc['total']=df.sum()\n",
    "df"
   ]
  },
  {
   "cell_type": "markdown",
   "metadata": {},
   "source": [
    "- b. ¿Qué indican las probabilidades marginales acerca de la edad de la población?"
   ]
  },
  {
   "cell_type": "code",
   "execution_count": null,
   "metadata": {},
   "outputs": [],
   "source": [
    "#Indica que es mas probable tener 35 años o mas (54% > 46%)"
   ]
  },
  {
   "cell_type": "markdown",
   "metadata": {},
   "source": [
    "- c. ¿Cuál es la probabilidad de que una persona tomada en forma aleatoria no tenga seguro médico?"
   ]
  },
  {
   "cell_type": "code",
   "execution_count": 35,
   "metadata": {},
   "outputs": [
    {
     "data": {
      "text/plain": [
       "0.15"
      ]
     },
     "execution_count": 35,
     "metadata": {},
     "output_type": "execute_result"
    }
   ],
   "source": [
    "df['por no'].sum().round(4)"
   ]
  },
  {
   "cell_type": "markdown",
   "metadata": {},
   "source": [
    "- d. Si la persona tiene entre 18 y 34 años, ¿cuál es la probabilidad de que no tenga seguro médico?"
   ]
  },
  {
   "cell_type": "code",
   "execution_count": 46,
   "metadata": {},
   "outputs": [
    {
     "data": {
      "text/plain": [
       "0.1848"
      ]
     },
     "execution_count": 46,
     "metadata": {},
     "output_type": "execute_result"
    }
   ],
   "source": [
    "round(df.loc['18-34']['por no']/df.loc['18-34']['total %'],4)"
   ]
  },
  {
   "cell_type": "markdown",
   "metadata": {},
   "source": [
    "- e. Si la persona tiene 35 años o más ¿cuál es la probabilidad de que no tenga seguro médico?"
   ]
  },
  {
   "cell_type": "code",
   "execution_count": 47,
   "metadata": {},
   "outputs": [
    {
     "data": {
      "text/plain": [
       "0.1204"
      ]
     },
     "execution_count": 47,
     "metadata": {},
     "output_type": "execute_result"
    }
   ],
   "source": [
    "round(df.loc['35+']['por no']/df.loc['35+']['total %'],4)"
   ]
  },
  {
   "cell_type": "markdown",
   "metadata": {},
   "source": [
    "- f. Si la persona no tiene seguro médico, ¿cuál es la probabilidad de que tenga entre 18 y 34 años?"
   ]
  },
  {
   "cell_type": "code",
   "execution_count": 51,
   "metadata": {},
   "outputs": [
    {
     "data": {
      "text/plain": [
       "0.5667"
      ]
     },
     "execution_count": 51,
     "metadata": {},
     "output_type": "execute_result"
    }
   ],
   "source": [
    "round(df.loc['18-34']['no']/df['no'].sum(),4)\n"
   ]
  },
  {
   "cell_type": "markdown",
   "metadata": {},
   "source": [
    "### Puedes complementar con los ejercicios del 33 al 40 del Capitula 4 del libro \"ESTADÍSTICA PARA ADMINISTRACIÓN Y ECONOMÍA\""
   ]
  },
  {
   "cell_type": "markdown",
   "metadata": {},
   "source": [
    "33. Una muestra de estudiantes de la maestría en administración de negocios, arrojó la siguiente información sobre la principal razón que tuvieron los estudiantes para elegir la escuela en donde\n",
    "hacen sus estudios.<br><br>\n",
    " ![aca que va????](../_src/assets/ejrepaso_33.PNG)<br><br>\n",
    "a. Con estos datos elabore una tabla de probabilidad conjunta.<br>"
   ]
  },
  {
   "cell_type": "code",
   "execution_count": 78,
   "metadata": {},
   "outputs": [
    {
     "data": {
      "text/html": [
       "<div>\n",
       "<style scoped>\n",
       "    .dataframe tbody tr th:only-of-type {\n",
       "        vertical-align: middle;\n",
       "    }\n",
       "\n",
       "    .dataframe tbody tr th {\n",
       "        vertical-align: top;\n",
       "    }\n",
       "\n",
       "    .dataframe thead th {\n",
       "        text-align: right;\n",
       "    }\n",
       "</style>\n",
       "<table border=\"1\" class=\"dataframe\">\n",
       "  <thead>\n",
       "    <tr style=\"text-align: right;\">\n",
       "      <th></th>\n",
       "      <th>calidad</th>\n",
       "      <th>costo</th>\n",
       "      <th>otras</th>\n",
       "      <th>totales</th>\n",
       "    </tr>\n",
       "  </thead>\n",
       "  <tbody>\n",
       "    <tr>\n",
       "      <th>tiempo completo</th>\n",
       "      <td>421</td>\n",
       "      <td>393</td>\n",
       "      <td>76</td>\n",
       "      <td>890</td>\n",
       "    </tr>\n",
       "    <tr>\n",
       "      <th>medio tiempo</th>\n",
       "      <td>400</td>\n",
       "      <td>593</td>\n",
       "      <td>46</td>\n",
       "      <td>1039</td>\n",
       "    </tr>\n",
       "    <tr>\n",
       "      <th>totales</th>\n",
       "      <td>821</td>\n",
       "      <td>986</td>\n",
       "      <td>122</td>\n",
       "      <td>1929</td>\n",
       "    </tr>\n",
       "  </tbody>\n",
       "</table>\n",
       "</div>"
      ],
      "text/plain": [
       "                 calidad  costo  otras  totales\n",
       "tiempo completo      421    393     76      890\n",
       "medio tiempo         400    593     46     1039\n",
       "totales              821    986    122     1929"
      ]
     },
     "metadata": {},
     "output_type": "display_data"
    },
    {
     "data": {
      "text/html": [
       "<div>\n",
       "<style scoped>\n",
       "    .dataframe tbody tr th:only-of-type {\n",
       "        vertical-align: middle;\n",
       "    }\n",
       "\n",
       "    .dataframe tbody tr th {\n",
       "        vertical-align: top;\n",
       "    }\n",
       "\n",
       "    .dataframe thead th {\n",
       "        text-align: right;\n",
       "    }\n",
       "</style>\n",
       "<table border=\"1\" class=\"dataframe\">\n",
       "  <thead>\n",
       "    <tr style=\"text-align: right;\">\n",
       "      <th></th>\n",
       "      <th>calidad</th>\n",
       "      <th>costo</th>\n",
       "      <th>otras</th>\n",
       "      <th>totales</th>\n",
       "    </tr>\n",
       "  </thead>\n",
       "  <tbody>\n",
       "    <tr>\n",
       "      <th>tiempo completo</th>\n",
       "      <td>0.218248</td>\n",
       "      <td>0.203733</td>\n",
       "      <td>0.039399</td>\n",
       "      <td>0.461379</td>\n",
       "    </tr>\n",
       "    <tr>\n",
       "      <th>medio tiempo</th>\n",
       "      <td>0.207361</td>\n",
       "      <td>0.307413</td>\n",
       "      <td>0.023847</td>\n",
       "      <td>0.538621</td>\n",
       "    </tr>\n",
       "  </tbody>\n",
       "</table>\n",
       "</div>"
      ],
      "text/plain": [
       "                  calidad     costo     otras   totales\n",
       "tiempo completo  0.218248  0.203733  0.039399  0.461379\n",
       "medio tiempo     0.207361  0.307413  0.023847  0.538621"
      ]
     },
     "metadata": {},
     "output_type": "display_data"
    }
   ],
   "source": [
    "indices=['tiempo completo','medio tiempo']\n",
    "calidad=[421,400]\n",
    "costo=[393,593]\n",
    "otras=[76,46]\n",
    "data={'calidad':calidad, 'costo':costo, 'otras':otras}\n",
    "df=pd.DataFrame(data, index=indices)\n",
    "df_por=df.copy()\n",
    "df['totales']=df.sum(axis=1)\n",
    "df.loc['totales']=df.sum(axis=0)\n",
    "display(df)\n",
    "df_por=df_por/sum(df_por.sum())\n",
    "df_por['totales']=df_por.sum(axis=1)\n",
    "display(df_por)"
   ]
  },
  {
   "cell_type": "markdown",
   "metadata": {},
   "source": [
    "b. Use las probabilidades marginales: calidad de la escuela, costo de la escuela y otras para comentar cuál es la principal razón por la que eligen una escuela."
   ]
  },
  {
   "cell_type": "code",
   "execution_count": 87,
   "metadata": {},
   "outputs": [
    {
     "name": "stdout",
     "output_type": "stream",
     "text": [
      "El 57.07% elige medio tiempo por cuestiones de costo \n",
      "Mientras que el 38.5% elige por calidad\n",
      "El resto (4.43%) es por otras razones\n"
     ]
    }
   ],
   "source": [
    "pa=df_por.loc['medio tiempo']['costo']/df_por.loc['medio tiempo']['totales']\n",
    "pb=df_por.loc['medio tiempo']['calidad']/df_por.loc['medio tiempo']['totales']\n",
    "# La mayoria que elige medio tiempo es principalmente por el costo\n",
    "print(f\"El {round(pa*100,2)}% elige medio tiempo por cuestiones de costo \")\n",
    "print(f\"Mientras que el {round(pb*100,2)}% elige por calidad\")\n",
    "print(f\"El resto ({round((1-pb-pa)*100,2)}%) es por otras razones\")"
   ]
  },
  {
   "cell_type": "code",
   "execution_count": 93,
   "metadata": {},
   "outputs": [
    {
     "name": "stdout",
     "output_type": "stream",
     "text": [
      "La eleccion de tiempo completo esta mas balanceado:\n",
      "el 47.3% es por calidad y el 44.16% es por costo\n",
      "8.54% es por otras razones\n"
     ]
    }
   ],
   "source": [
    "pa=df_por.loc['tiempo completo']['calidad']/df_por.loc['tiempo completo']['totales']\n",
    "pb=df_por.loc['tiempo completo']['costo']/df_por.loc['tiempo completo']['totales']\n",
    "# La mayoria que elige medio tiempo es principalmente por el costo\n",
    "print(f\"La eleccion de tiempo completo esta mas balanceado:\")\n",
    "print(f\"el {round(pa*100,2)}% es por calidad y el {round(pb*100,2)}% es por costo\")\n",
    "print(f\"{round((1-pa-pb)*100,2)}% es por otras razones\")"
   ]
  },
  {
   "cell_type": "markdown",
   "metadata": {},
   "source": [
    "c. Si es un estudiante de tiempo completo, ¿cuál es la probabilidad de que la principal razón\n",
    "para su elección de la escuela haya sido la calidad de la escuela?"
   ]
  },
  {
   "cell_type": "code",
   "execution_count": 94,
   "metadata": {},
   "outputs": [
    {
     "data": {
      "text/plain": [
       "0.4730337078651685"
      ]
     },
     "execution_count": 94,
     "metadata": {},
     "output_type": "execute_result"
    }
   ],
   "source": [
    "df.loc['tiempo completo']['calidad']/df.loc['tiempo completo']['totales']"
   ]
  },
  {
   "cell_type": "markdown",
   "metadata": {},
   "source": [
    "d. Si es un estudiante de medio tiempo, ¿cuál es la probabilidad de que la principal razón para\n",
    "su elección de la escuela haya sido la calidad de la escuela?\n"
   ]
  },
  {
   "cell_type": "code",
   "execution_count": 95,
   "metadata": {},
   "outputs": [
    {
     "data": {
      "text/plain": [
       "0.3849855630413859"
      ]
     },
     "execution_count": 95,
     "metadata": {},
     "output_type": "execute_result"
    }
   ],
   "source": [
    "df.loc['medio tiempo']['calidad']/df.loc['medio tiempo']['totales']"
   ]
  },
  {
   "cell_type": "markdown",
   "metadata": {},
   "source": [
    "e. Si A denota el evento es estudiante de tiempo completo y B denota el evento la calidad de\n",
    "la escuela fue la primera razón para su elección, ¿son independientes los eventos A y B? Justifique su respuesta"
   ]
  },
  {
   "cell_type": "markdown",
   "metadata": {},
   "source": [
    "Si:  P(A ∩ B) = P(A) * P(B)    =>  son independientes"
   ]
  },
  {
   "cell_type": "code",
   "execution_count": 104,
   "metadata": {},
   "outputs": [
    {
     "name": "stdout",
     "output_type": "stream",
     "text": [
      "0.21824779678589942\n",
      "0.19636709189713308\n",
      "False\n"
     ]
    }
   ],
   "source": [
    "pa=890/1929\n",
    "pb=821/1929\n",
    "paib=421/1929\n",
    "print(paib)\n",
    "print(pa*pb)\n",
    "print(paib==pa*pb)"
   ]
  }
 ],
 "metadata": {
  "kernelspec": {
   "display_name": "Python 3",
   "language": "python",
   "name": "python3"
  },
  "language_info": {
   "codemirror_mode": {
    "name": "ipython",
    "version": 3
   },
   "file_extension": ".py",
   "mimetype": "text/x-python",
   "name": "python",
   "nbconvert_exporter": "python",
   "pygments_lexer": "ipython3",
   "version": "3.10.11"
  },
  "orig_nbformat": 4
 },
 "nbformat": 4,
 "nbformat_minor": 2
}
