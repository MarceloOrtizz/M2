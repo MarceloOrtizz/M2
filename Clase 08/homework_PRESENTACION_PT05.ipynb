{
 "cells": [
  {
   "cell_type": "code",
   "execution_count": 4,
   "id": "98f20f59",
   "metadata": {},
   "outputs": [],
   "source": [
    "import pymysql\n",
    "import pandas as pd"
   ]
  },
  {
   "cell_type": "markdown",
   "id": "4668a00a",
   "metadata": {},
   "source": [
    "https://data.buenosaires.gob.ar/dataset/oferta-establecimientos-gastronomicos"
   ]
  },
  {
   "cell_type": "code",
   "execution_count": 5,
   "id": "c80003a0",
   "metadata": {},
   "outputs": [],
   "source": [
    "url = 'https://cdn.buenosaires.gob.ar/datosabiertos/datasets/ente-de-turismo/oferta-establecimientos-gastronomicos/oferta_gastronomica.csv'"
   ]
  },
  {
   "cell_type": "code",
   "execution_count": 22,
   "id": "639f284f",
   "metadata": {},
   "outputs": [],
   "source": [
    "oferta_gastronomica = pd.read_csv(url)"
   ]
  },
  {
   "cell_type": "code",
   "execution_count": 23,
   "id": "682dddd8",
   "metadata": {},
   "outputs": [
    {
     "data": {
      "text/html": [
       "<div>\n",
       "<style scoped>\n",
       "    .dataframe tbody tr th:only-of-type {\n",
       "        vertical-align: middle;\n",
       "    }\n",
       "\n",
       "    .dataframe tbody tr th {\n",
       "        vertical-align: top;\n",
       "    }\n",
       "\n",
       "    .dataframe thead th {\n",
       "        text-align: right;\n",
       "    }\n",
       "</style>\n",
       "<table border=\"1\" class=\"dataframe\">\n",
       "  <thead>\n",
       "    <tr style=\"text-align: right;\">\n",
       "      <th></th>\n",
       "      <th>long</th>\n",
       "      <th>lat</th>\n",
       "      <th>id</th>\n",
       "      <th>nombre</th>\n",
       "      <th>categoria</th>\n",
       "      <th>cocina</th>\n",
       "      <th>ambientacion</th>\n",
       "      <th>telefono</th>\n",
       "      <th>mail</th>\n",
       "      <th>horario</th>\n",
       "      <th>calle_nombre</th>\n",
       "      <th>calle_altura</th>\n",
       "      <th>calle_cruce</th>\n",
       "      <th>direccion_completa</th>\n",
       "      <th>barrio</th>\n",
       "      <th>comuna</th>\n",
       "      <th>codigo_postal</th>\n",
       "      <th>codigo_postal_argentino</th>\n",
       "    </tr>\n",
       "  </thead>\n",
       "  <tbody>\n",
       "    <tr>\n",
       "      <th>0</th>\n",
       "      <td>-58.363307</td>\n",
       "      <td>-34.622963</td>\n",
       "      <td>1602</td>\n",
       "      <td>GUANTANAMERA</td>\n",
       "      <td>RESTAURANTE</td>\n",
       "      <td>CUBANA</td>\n",
       "      <td>MODERNO</td>\n",
       "      <td>4314 0770</td>\n",
       "      <td>NaN</td>\n",
       "      <td>NaN</td>\n",
       "      <td>MOREAU DE JUSTO ALICIA</td>\n",
       "      <td>2092</td>\n",
       "      <td>NaN</td>\n",
       "      <td>MOREAU DE JUSTO, ALICIA AV. 2092</td>\n",
       "      <td>Puerto Madero</td>\n",
       "      <td>Comuna 1</td>\n",
       "      <td>1107.0</td>\n",
       "      <td>C1107AFP</td>\n",
       "    </tr>\n",
       "    <tr>\n",
       "      <th>1</th>\n",
       "      <td>-58.392330</td>\n",
       "      <td>-34.621554</td>\n",
       "      <td>676</td>\n",
       "      <td>1843 VINACOTECA</td>\n",
       "      <td>VINERIA</td>\n",
       "      <td>NaN</td>\n",
       "      <td>NaN</td>\n",
       "      <td>4779 0806</td>\n",
       "      <td>NaN</td>\n",
       "      <td>lunes a domingo de 8 a 00</td>\n",
       "      <td>HUMBERTO 1º</td>\n",
       "      <td>1843</td>\n",
       "      <td>NaN</td>\n",
       "      <td>HUMBERTO 1º 1843</td>\n",
       "      <td>San Cristobal</td>\n",
       "      <td>Comuna 3</td>\n",
       "      <td>NaN</td>\n",
       "      <td>NaN</td>\n",
       "    </tr>\n",
       "    <tr>\n",
       "      <th>2</th>\n",
       "      <td>-58.453542</td>\n",
       "      <td>-34.560311</td>\n",
       "      <td>487</td>\n",
       "      <td>2080 EXPRESS</td>\n",
       "      <td>RESTAURANTE</td>\n",
       "      <td>TRADICIONAL</td>\n",
       "      <td>CLASICO PORTEÑO</td>\n",
       "      <td>4788 4500</td>\n",
       "      <td>NaN</td>\n",
       "      <td>lunes a domingo de 8 a 00</td>\n",
       "      <td>JURAMENTO</td>\n",
       "      <td>2080</td>\n",
       "      <td>NaN</td>\n",
       "      <td>JURAMENTO AV. 2080</td>\n",
       "      <td>Belgrano</td>\n",
       "      <td>Comuna 13</td>\n",
       "      <td>1428.0</td>\n",
       "      <td>C1428DNH</td>\n",
       "    </tr>\n",
       "    <tr>\n",
       "      <th>3</th>\n",
       "      <td>-58.475491</td>\n",
       "      <td>-34.677051</td>\n",
       "      <td>2737</td>\n",
       "      <td>22</td>\n",
       "      <td>CAFE</td>\n",
       "      <td>MINUTAS</td>\n",
       "      <td>MODERNO</td>\n",
       "      <td>NaN</td>\n",
       "      <td>NaN</td>\n",
       "      <td>NaN</td>\n",
       "      <td>MURGUIONDO</td>\n",
       "      <td>4188</td>\n",
       "      <td>NaN</td>\n",
       "      <td>MURGUIONDO 4188</td>\n",
       "      <td>Villa Lugano</td>\n",
       "      <td>Comuna 8</td>\n",
       "      <td>1439.0</td>\n",
       "      <td>C1439FTB</td>\n",
       "    </tr>\n",
       "    <tr>\n",
       "      <th>4</th>\n",
       "      <td>-58.425437</td>\n",
       "      <td>-34.585695</td>\n",
       "      <td>2</td>\n",
       "      <td>4 EN 2 I</td>\n",
       "      <td>RESTAURANTE</td>\n",
       "      <td>NaN</td>\n",
       "      <td>NaN</td>\n",
       "      <td>4832 9510</td>\n",
       "      <td>NaN</td>\n",
       "      <td>NaN</td>\n",
       "      <td>BORGES JORGE LUIS</td>\n",
       "      <td>2095</td>\n",
       "      <td>NaN</td>\n",
       "      <td>BORGES, JORGE LUIS 2095</td>\n",
       "      <td>Palermo</td>\n",
       "      <td>Comuna 14</td>\n",
       "      <td>1425.0</td>\n",
       "      <td>C1425FFA</td>\n",
       "    </tr>\n",
       "  </tbody>\n",
       "</table>\n",
       "</div>"
      ],
      "text/plain": [
       "        long        lat    id           nombre    categoria       cocina  \\\n",
       "0 -58.363307 -34.622963  1602     GUANTANAMERA  RESTAURANTE       CUBANA   \n",
       "1 -58.392330 -34.621554   676  1843 VINACOTECA      VINERIA          NaN   \n",
       "2 -58.453542 -34.560311   487     2080 EXPRESS  RESTAURANTE  TRADICIONAL   \n",
       "3 -58.475491 -34.677051  2737               22         CAFE      MINUTAS   \n",
       "4 -58.425437 -34.585695     2         4 EN 2 I  RESTAURANTE          NaN   \n",
       "\n",
       "      ambientacion   telefono mail                    horario  \\\n",
       "0          MODERNO  4314 0770  NaN                        NaN   \n",
       "1              NaN  4779 0806  NaN  lunes a domingo de 8 a 00   \n",
       "2  CLASICO PORTEÑO  4788 4500  NaN  lunes a domingo de 8 a 00   \n",
       "3          MODERNO        NaN  NaN                        NaN   \n",
       "4              NaN  4832 9510  NaN                        NaN   \n",
       "\n",
       "             calle_nombre  calle_altura calle_cruce  \\\n",
       "0  MOREAU DE JUSTO ALICIA          2092         NaN   \n",
       "1             HUMBERTO 1º          1843         NaN   \n",
       "2               JURAMENTO          2080         NaN   \n",
       "3              MURGUIONDO          4188         NaN   \n",
       "4       BORGES JORGE LUIS          2095         NaN   \n",
       "\n",
       "                 direccion_completa         barrio     comuna  codigo_postal  \\\n",
       "0  MOREAU DE JUSTO, ALICIA AV. 2092  Puerto Madero   Comuna 1         1107.0   \n",
       "1                  HUMBERTO 1º 1843  San Cristobal   Comuna 3            NaN   \n",
       "2                JURAMENTO AV. 2080       Belgrano  Comuna 13         1428.0   \n",
       "3                   MURGUIONDO 4188   Villa Lugano   Comuna 8         1439.0   \n",
       "4           BORGES, JORGE LUIS 2095        Palermo  Comuna 14         1425.0   \n",
       "\n",
       "  codigo_postal_argentino  \n",
       "0                C1107AFP  \n",
       "1                     NaN  \n",
       "2                C1428DNH  \n",
       "3                C1439FTB  \n",
       "4                C1425FFA  "
      ]
     },
     "execution_count": 23,
     "metadata": {},
     "output_type": "execute_result"
    }
   ],
   "source": [
    "oferta_gastronomica.head()"
   ]
  },
  {
   "cell_type": "code",
   "execution_count": 24,
   "id": "201f6cc0",
   "metadata": {},
   "outputs": [
    {
     "data": {
      "text/plain": [
       "(2823, 18)"
      ]
     },
     "execution_count": 24,
     "metadata": {},
     "output_type": "execute_result"
    }
   ],
   "source": [
    "oferta_gastronomica.shape"
   ]
  },
  {
   "cell_type": "markdown",
   "id": "ace45568",
   "metadata": {},
   "source": [
    "Crear una tabla con los siguientes campos: \n",
    "\n",
    "- id_local, \n",
    "- nombre, \n",
    "- categoria, \n",
    "- direccion, \n",
    "- barrio, \n",
    "- comuna\n",
    "\n",
    "para posteriormente poblarla con los datos bajados, utilzando el conector desde el script de Python."
   ]
  },
  {
   "cell_type": "code",
   "execution_count": 26,
   "id": "4d7fe4c5",
   "metadata": {},
   "outputs": [
    {
     "data": {
      "text/plain": [
       "Index(['long', 'lat', 'id', 'nombre', 'categoria', 'cocina', 'ambientacion',\n",
       "       'telefono', 'mail', 'horario', 'calle_nombre', 'calle_altura',\n",
       "       'calle_cruce', 'direccion_completa', 'barrio', 'comuna',\n",
       "       'codigo_postal', 'codigo_postal_argentino'],\n",
       "      dtype='object')"
      ]
     },
     "execution_count": 26,
     "metadata": {},
     "output_type": "execute_result"
    }
   ],
   "source": [
    "oferta_gastronomica.columns"
   ]
  },
  {
   "cell_type": "code",
   "execution_count": 27,
   "id": "958a6728",
   "metadata": {},
   "outputs": [],
   "source": [
    "columnas = ['id', 'nombre', 'categoria', 'direccion_completa', 'barrio', 'comuna']"
   ]
  },
  {
   "cell_type": "code",
   "execution_count": 28,
   "id": "1d8e7cce",
   "metadata": {},
   "outputs": [],
   "source": [
    "oferta_gastronomica = oferta_gastronomica[columnas]"
   ]
  },
  {
   "cell_type": "code",
   "execution_count": 29,
   "id": "272ef7c7",
   "metadata": {},
   "outputs": [
    {
     "name": "stdout",
     "output_type": "stream",
     "text": [
      "<class 'pandas.core.frame.DataFrame'>\n",
      "RangeIndex: 2823 entries, 0 to 2822\n",
      "Data columns (total 6 columns):\n",
      " #   Column              Non-Null Count  Dtype \n",
      "---  ------              --------------  ----- \n",
      " 0   id                  2823 non-null   int64 \n",
      " 1   nombre              2823 non-null   object\n",
      " 2   categoria           2707 non-null   object\n",
      " 3   direccion_completa  2822 non-null   object\n",
      " 4   barrio              2823 non-null   object\n",
      " 5   comuna              2823 non-null   object\n",
      "dtypes: int64(1), object(5)\n",
      "memory usage: 132.5+ KB\n"
     ]
    }
   ],
   "source": [
    "oferta_gastronomica.info()"
   ]
  },
  {
   "cell_type": "code",
   "execution_count": 30,
   "id": "3590a0fa",
   "metadata": {},
   "outputs": [
    {
     "data": {
      "text/html": [
       "<div>\n",
       "<style scoped>\n",
       "    .dataframe tbody tr th:only-of-type {\n",
       "        vertical-align: middle;\n",
       "    }\n",
       "\n",
       "    .dataframe tbody tr th {\n",
       "        vertical-align: top;\n",
       "    }\n",
       "\n",
       "    .dataframe thead th {\n",
       "        text-align: right;\n",
       "    }\n",
       "</style>\n",
       "<table border=\"1\" class=\"dataframe\">\n",
       "  <thead>\n",
       "    <tr style=\"text-align: right;\">\n",
       "      <th></th>\n",
       "      <th>id</th>\n",
       "      <th>nombre</th>\n",
       "      <th>categoria</th>\n",
       "      <th>direccion_completa</th>\n",
       "      <th>barrio</th>\n",
       "      <th>comuna</th>\n",
       "    </tr>\n",
       "  </thead>\n",
       "  <tbody>\n",
       "    <tr>\n",
       "      <th>0</th>\n",
       "      <td>1602</td>\n",
       "      <td>GUANTANAMERA</td>\n",
       "      <td>RESTAURANTE</td>\n",
       "      <td>MOREAU DE JUSTO, ALICIA AV. 2092</td>\n",
       "      <td>Puerto Madero</td>\n",
       "      <td>Comuna 1</td>\n",
       "    </tr>\n",
       "    <tr>\n",
       "      <th>1</th>\n",
       "      <td>676</td>\n",
       "      <td>1843 VINACOTECA</td>\n",
       "      <td>VINERIA</td>\n",
       "      <td>HUMBERTO 1º 1843</td>\n",
       "      <td>San Cristobal</td>\n",
       "      <td>Comuna 3</td>\n",
       "    </tr>\n",
       "    <tr>\n",
       "      <th>2</th>\n",
       "      <td>487</td>\n",
       "      <td>2080 EXPRESS</td>\n",
       "      <td>RESTAURANTE</td>\n",
       "      <td>JURAMENTO AV. 2080</td>\n",
       "      <td>Belgrano</td>\n",
       "      <td>Comuna 13</td>\n",
       "    </tr>\n",
       "    <tr>\n",
       "      <th>3</th>\n",
       "      <td>2737</td>\n",
       "      <td>22</td>\n",
       "      <td>CAFE</td>\n",
       "      <td>MURGUIONDO 4188</td>\n",
       "      <td>Villa Lugano</td>\n",
       "      <td>Comuna 8</td>\n",
       "    </tr>\n",
       "    <tr>\n",
       "      <th>4</th>\n",
       "      <td>2</td>\n",
       "      <td>4 EN 2 I</td>\n",
       "      <td>RESTAURANTE</td>\n",
       "      <td>BORGES, JORGE LUIS 2095</td>\n",
       "      <td>Palermo</td>\n",
       "      <td>Comuna 14</td>\n",
       "    </tr>\n",
       "    <tr>\n",
       "      <th>...</th>\n",
       "      <td>...</td>\n",
       "      <td>...</td>\n",
       "      <td>...</td>\n",
       "      <td>...</td>\n",
       "      <td>...</td>\n",
       "      <td>...</td>\n",
       "    </tr>\n",
       "    <tr>\n",
       "      <th>2818</th>\n",
       "      <td>893</td>\n",
       "      <td>ZOE PIZZA &amp; CAFE</td>\n",
       "      <td>RESTAURANTE</td>\n",
       "      <td>AZCUENAGA 796</td>\n",
       "      <td>Balvanera</td>\n",
       "      <td>Comuna 3</td>\n",
       "    </tr>\n",
       "    <tr>\n",
       "      <th>2819</th>\n",
       "      <td>2546</td>\n",
       "      <td>ZOMBI</td>\n",
       "      <td>RESTAURANTE</td>\n",
       "      <td>URUGUAY 142</td>\n",
       "      <td>San Nicolas</td>\n",
       "      <td>Comuna 1</td>\n",
       "    </tr>\n",
       "    <tr>\n",
       "      <th>2820</th>\n",
       "      <td>1521</td>\n",
       "      <td>ZONA</td>\n",
       "      <td>RESTAURANTE</td>\n",
       "      <td>11 DE SEPTIEMBRE DE 1888 3900</td>\n",
       "      <td>NuÃƒÂ±ez</td>\n",
       "      <td>Comuna 13</td>\n",
       "    </tr>\n",
       "    <tr>\n",
       "      <th>2821</th>\n",
       "      <td>894</td>\n",
       "      <td>ZOO BAR</td>\n",
       "      <td>RESTAURANTE</td>\n",
       "      <td>TUCUMAN 2002</td>\n",
       "      <td>Balvanera</td>\n",
       "      <td>Comuna 3</td>\n",
       "    </tr>\n",
       "    <tr>\n",
       "      <th>2822</th>\n",
       "      <td>2854</td>\n",
       "      <td>Angelito</td>\n",
       "      <td>BAR</td>\n",
       "      <td>NaN</td>\n",
       "      <td>Villa Crespo</td>\n",
       "      <td>Comuna 15</td>\n",
       "    </tr>\n",
       "  </tbody>\n",
       "</table>\n",
       "<p>2823 rows × 6 columns</p>\n",
       "</div>"
      ],
      "text/plain": [
       "        id            nombre    categoria                direccion_completa  \\\n",
       "0     1602      GUANTANAMERA  RESTAURANTE  MOREAU DE JUSTO, ALICIA AV. 2092   \n",
       "1      676   1843 VINACOTECA      VINERIA                  HUMBERTO 1º 1843   \n",
       "2      487      2080 EXPRESS  RESTAURANTE                JURAMENTO AV. 2080   \n",
       "3     2737                22         CAFE                   MURGUIONDO 4188   \n",
       "4        2          4 EN 2 I  RESTAURANTE           BORGES, JORGE LUIS 2095   \n",
       "...    ...               ...          ...                               ...   \n",
       "2818   893  ZOE PIZZA & CAFE  RESTAURANTE                     AZCUENAGA 796   \n",
       "2819  2546             ZOMBI  RESTAURANTE                       URUGUAY 142   \n",
       "2820  1521              ZONA  RESTAURANTE     11 DE SEPTIEMBRE DE 1888 3900   \n",
       "2821   894           ZOO BAR  RESTAURANTE                      TUCUMAN 2002   \n",
       "2822  2854          Angelito          BAR                               NaN   \n",
       "\n",
       "             barrio     comuna  \n",
       "0     Puerto Madero   Comuna 1  \n",
       "1     San Cristobal   Comuna 3  \n",
       "2          Belgrano  Comuna 13  \n",
       "3      Villa Lugano   Comuna 8  \n",
       "4           Palermo  Comuna 14  \n",
       "...             ...        ...  \n",
       "2818      Balvanera   Comuna 3  \n",
       "2819    San Nicolas   Comuna 1  \n",
       "2820       NuÃƒÂ±ez  Comuna 13  \n",
       "2821      Balvanera   Comuna 3  \n",
       "2822   Villa Crespo  Comuna 15  \n",
       "\n",
       "[2823 rows x 6 columns]"
      ]
     },
     "execution_count": 30,
     "metadata": {},
     "output_type": "execute_result"
    }
   ],
   "source": [
    "oferta_gastronomica"
   ]
  },
  {
   "cell_type": "code",
   "execution_count": 35,
   "id": "1cde27a9",
   "metadata": {},
   "outputs": [
    {
     "data": {
      "text/plain": [
       "float"
      ]
     },
     "execution_count": 35,
     "metadata": {},
     "output_type": "execute_result"
    }
   ],
   "source": [
    "type(oferta_gastronomica.loc[oferta_gastronomica['categoria'].isna()]['categoria'][8])"
   ]
  },
  {
   "cell_type": "code",
   "execution_count": 37,
   "id": "46244298",
   "metadata": {},
   "outputs": [],
   "source": [
    "oferta_gastronomica.fillna('', inplace=True)"
   ]
  },
  {
   "cell_type": "code",
   "execution_count": 38,
   "id": "c81c7a70",
   "metadata": {},
   "outputs": [
    {
     "name": "stdout",
     "output_type": "stream",
     "text": [
      "<class 'pandas.core.frame.DataFrame'>\n",
      "RangeIndex: 2823 entries, 0 to 2822\n",
      "Data columns (total 6 columns):\n",
      " #   Column              Non-Null Count  Dtype \n",
      "---  ------              --------------  ----- \n",
      " 0   id                  2823 non-null   int64 \n",
      " 1   nombre              2823 non-null   object\n",
      " 2   categoria           2823 non-null   object\n",
      " 3   direccion_completa  2823 non-null   object\n",
      " 4   barrio              2823 non-null   object\n",
      " 5   comuna              2823 non-null   object\n",
      "dtypes: int64(1), object(5)\n",
      "memory usage: 132.5+ KB\n"
     ]
    }
   ],
   "source": [
    "oferta_gastronomica.info()"
   ]
  },
  {
   "cell_type": "markdown",
   "id": "245921c8",
   "metadata": {},
   "source": [
    "# Conexión a la base de datos"
   ]
  },
  {
   "cell_type": "code",
   "execution_count": 39,
   "id": "d9febabc",
   "metadata": {},
   "outputs": [],
   "source": [
    "conexion = pymysql.connect(\n",
    "    host='localhost',\n",
    "    user='mariano',\n",
    "    password='1234'\n",
    ")"
   ]
  },
  {
   "cell_type": "code",
   "execution_count": 41,
   "id": "6fcfdefc",
   "metadata": {},
   "outputs": [],
   "source": [
    "cursor = conexion.cursor()"
   ]
  },
  {
   "cell_type": "code",
   "execution_count": 42,
   "id": "5d5dbc97",
   "metadata": {},
   "outputs": [
    {
     "data": {
      "text/plain": [
       "<pymysql.cursors.Cursor at 0x26c86d2cf70>"
      ]
     },
     "execution_count": 42,
     "metadata": {},
     "output_type": "execute_result"
    }
   ],
   "source": [
    "cursor"
   ]
  },
  {
   "cell_type": "code",
   "execution_count": 43,
   "id": "f97b43b2",
   "metadata": {},
   "outputs": [],
   "source": [
    "crear_bd = 'create database if not exists locales'"
   ]
  },
  {
   "cell_type": "code",
   "execution_count": 44,
   "id": "9113ec03",
   "metadata": {},
   "outputs": [
    {
     "data": {
      "text/plain": [
       "1"
      ]
     },
     "execution_count": 44,
     "metadata": {},
     "output_type": "execute_result"
    }
   ],
   "source": [
    "cursor.execute(crear_bd)"
   ]
  },
  {
   "cell_type": "code",
   "execution_count": 46,
   "id": "38ea45ca",
   "metadata": {},
   "outputs": [
    {
     "data": {
      "text/plain": [
       "0"
      ]
     },
     "execution_count": 46,
     "metadata": {},
     "output_type": "execute_result"
    }
   ],
   "source": [
    "cursor.execute('use locales')"
   ]
  },
  {
   "cell_type": "code",
   "execution_count": 47,
   "id": "966b0496",
   "metadata": {},
   "outputs": [],
   "source": [
    "crear_tabla = \"\"\"\n",
    "create table if not exists oferta_gastronomica\n",
    "(\n",
    "id int not null,\n",
    "nombre varchar(50),\n",
    "categoria varchar(50),\n",
    "direccion varchar(50),\n",
    "barrio varchar(50),\n",
    "comuna varchar(50),\n",
    "primary key (id)\n",
    ")\n",
    "\"\"\""
   ]
  },
  {
   "cell_type": "code",
   "execution_count": 48,
   "id": "c0b42415",
   "metadata": {},
   "outputs": [
    {
     "data": {
      "text/plain": [
       "0"
      ]
     },
     "execution_count": 48,
     "metadata": {},
     "output_type": "execute_result"
    }
   ],
   "source": [
    "cursor.execute(crear_tabla)"
   ]
  },
  {
   "cell_type": "code",
   "execution_count": 49,
   "id": "8e71d1cd",
   "metadata": {},
   "outputs": [],
   "source": [
    "conexion.commit()"
   ]
  },
  {
   "cell_type": "code",
   "execution_count": 55,
   "id": "34b313a3",
   "metadata": {},
   "outputs": [],
   "source": [
    "insertar_datos = \"\"\"\n",
    "INSERT INTO oferta_gastronomica (id, nombre, categoria, direccion, barrio, comuna)\n",
    "VALUES (%s, %s, %s, %s, %s, %s)\n",
    "\"\"\""
   ]
  },
  {
   "cell_type": "code",
   "execution_count": 68,
   "id": "e8115d7f",
   "metadata": {},
   "outputs": [],
   "source": [
    "tuplas = oferta_gastronomica.values.tolist()"
   ]
  },
  {
   "cell_type": "code",
   "execution_count": 72,
   "id": "9400d897",
   "metadata": {},
   "outputs": [
    {
     "data": {
      "text/plain": [
       "list"
      ]
     },
     "execution_count": 72,
     "metadata": {},
     "output_type": "execute_result"
    }
   ],
   "source": [
    "type(oferta_gastronomica.values.tolist())"
   ]
  },
  {
   "cell_type": "code",
   "execution_count": null,
   "id": "a038d10f",
   "metadata": {},
   "outputs": [],
   "source": [
    "cursor.executemany(insertar_datos, tuplas)"
   ]
  },
  {
   "cell_type": "code",
   "execution_count": 67,
   "id": "3ec4eb25",
   "metadata": {},
   "outputs": [],
   "source": [
    "conexion.commit()"
   ]
  },
  {
   "cell_type": "code",
   "execution_count": null,
   "id": "4817fa85",
   "metadata": {},
   "outputs": [],
   "source": []
  },
  {
   "cell_type": "code",
   "execution_count": null,
   "id": "6764a4c3",
   "metadata": {},
   "outputs": [],
   "source": []
  },
  {
   "cell_type": "code",
   "execution_count": null,
   "id": "06543dff",
   "metadata": {},
   "outputs": [],
   "source": []
  },
  {
   "cell_type": "code",
   "execution_count": null,
   "id": "eaeaf9c7",
   "metadata": {},
   "outputs": [],
   "source": []
  },
  {
   "cell_type": "code",
   "execution_count": null,
   "id": "5db7f4e4",
   "metadata": {},
   "outputs": [],
   "source": []
  },
  {
   "cell_type": "code",
   "execution_count": null,
   "id": "99580d3e",
   "metadata": {},
   "outputs": [],
   "source": []
  },
  {
   "cell_type": "code",
   "execution_count": null,
   "id": "02920cb0",
   "metadata": {},
   "outputs": [],
   "source": []
  },
  {
   "cell_type": "code",
   "execution_count": null,
   "id": "c5290ef0",
   "metadata": {},
   "outputs": [],
   "source": []
  },
  {
   "cell_type": "code",
   "execution_count": null,
   "id": "f87dd68f",
   "metadata": {},
   "outputs": [],
   "source": []
  },
  {
   "cell_type": "code",
   "execution_count": null,
   "id": "89d0c200",
   "metadata": {},
   "outputs": [],
   "source": []
  },
  {
   "cell_type": "code",
   "execution_count": null,
   "id": "bb1a67ea",
   "metadata": {},
   "outputs": [],
   "source": []
  },
  {
   "cell_type": "markdown",
   "id": "9af71d85",
   "metadata": {},
   "source": [
    "A partir de tener los datos disponibles, responder a las siguientes preguntas: \n",
    "\n",
    "a) ¿Cuál es el barrio con mayor cantidad de Pubs?"
   ]
  },
  {
   "cell_type": "code",
   "execution_count": 73,
   "id": "2ec52bbd",
   "metadata": {},
   "outputs": [],
   "source": [
    "cantidad_pubs = \"\"\"\n",
    "select \n",
    "barrio,\n",
    "count(categoria)\n",
    "from oferta_gastronomica\n",
    "where categoria = 'PUB'\n",
    "group by barrio\n",
    "order by count(categoria) desc\n",
    "limit 1;\n",
    "\"\"\""
   ]
  },
  {
   "cell_type": "code",
   "execution_count": 92,
   "id": "08507bc2",
   "metadata": {},
   "outputs": [
    {
     "data": {
      "text/plain": [
       "1"
      ]
     },
     "execution_count": 92,
     "metadata": {},
     "output_type": "execute_result"
    }
   ],
   "source": [
    "cursor.execute(cantidad_pubs)"
   ]
  },
  {
   "cell_type": "code",
   "execution_count": 93,
   "id": "1fafc664",
   "metadata": {},
   "outputs": [],
   "source": [
    "cantidad = cursor.fetchone()"
   ]
  },
  {
   "cell_type": "code",
   "execution_count": 94,
   "id": "50b1cda8",
   "metadata": {},
   "outputs": [
    {
     "data": {
      "text/plain": [
       "('Recoleta', 8)"
      ]
     },
     "execution_count": 94,
     "metadata": {},
     "output_type": "execute_result"
    }
   ],
   "source": [
    "cantidad"
   ]
  },
  {
   "cell_type": "code",
   "execution_count": null,
   "id": "ac671081",
   "metadata": {},
   "outputs": [],
   "source": []
  },
  {
   "cell_type": "code",
   "execution_count": null,
   "id": "c2b070d2",
   "metadata": {},
   "outputs": [],
   "source": []
  },
  {
   "cell_type": "code",
   "execution_count": null,
   "id": "c4af67a8",
   "metadata": {},
   "outputs": [],
   "source": []
  },
  {
   "cell_type": "markdown",
   "id": "d1440812",
   "metadata": {},
   "source": [
    "b) Obtener la cantidad de locales por categoría "
   ]
  },
  {
   "cell_type": "code",
   "execution_count": 95,
   "id": "3c3c14a2",
   "metadata": {},
   "outputs": [],
   "source": [
    "cantidad_categoria = \"\"\"\n",
    "select \n",
    "categoria,\n",
    "count(categoria)\n",
    "from oferta_gastronomica\n",
    "group by categoria\n",
    "order by count(categoria) desc;\n",
    "\"\"\""
   ]
  },
  {
   "cell_type": "code",
   "execution_count": 96,
   "id": "8714c193",
   "metadata": {},
   "outputs": [
    {
     "data": {
      "text/plain": [
       "9"
      ]
     },
     "execution_count": 96,
     "metadata": {},
     "output_type": "execute_result"
    }
   ],
   "source": [
    "cursor.execute(cantidad_categoria)"
   ]
  },
  {
   "cell_type": "code",
   "execution_count": 97,
   "id": "9ce9fe02",
   "metadata": {},
   "outputs": [
    {
     "data": {
      "text/plain": [
       "(('RESTAURANTE', 1990),\n",
       " ('CAFE', 334),\n",
       " ('BAR', 247),\n",
       " ('', 116),\n",
       " ('CONFITERIA', 55),\n",
       " ('PUB', 53),\n",
       " ('VINERIA', 22),\n",
       " ('SANDWICHERIA', 4),\n",
       " ('DELIVERY & TAKE AWAY', 2))"
      ]
     },
     "execution_count": 97,
     "metadata": {},
     "output_type": "execute_result"
    }
   ],
   "source": [
    "cursor.fetchall()"
   ]
  },
  {
   "cell_type": "code",
   "execution_count": null,
   "id": "6c618270",
   "metadata": {},
   "outputs": [],
   "source": []
  },
  {
   "cell_type": "code",
   "execution_count": null,
   "id": "40a727b8",
   "metadata": {},
   "outputs": [],
   "source": []
  },
  {
   "cell_type": "markdown",
   "id": "a442170c",
   "metadata": {},
   "source": [
    "c) Obtener la cantidad de restaurantes por comuna"
   ]
  },
  {
   "cell_type": "code",
   "execution_count": 98,
   "id": "28fb6191",
   "metadata": {},
   "outputs": [],
   "source": [
    "restaurantes_por_comuna = \"\"\"\n",
    "select\n",
    "comuna,\n",
    "count(categoria)\n",
    "from oferta_gastronomica\n",
    "where categoria = 'RESTAURANTE'\n",
    "group by comuna\n",
    "order by count(categoria) desc;\n",
    "\"\"\""
   ]
  },
  {
   "cell_type": "code",
   "execution_count": 99,
   "id": "09191d28",
   "metadata": {},
   "outputs": [
    {
     "data": {
      "text/plain": [
       "15"
      ]
     },
     "execution_count": 99,
     "metadata": {},
     "output_type": "execute_result"
    }
   ],
   "source": [
    "cursor.execute(restaurantes_por_comuna)"
   ]
  },
  {
   "cell_type": "code",
   "execution_count": 100,
   "id": "b495f24f",
   "metadata": {},
   "outputs": [
    {
     "data": {
      "text/plain": [
       "(('Comuna 1', 609),\n",
       " ('Comuna 14', 366),\n",
       " ('Comuna 2', 227),\n",
       " ('Comuna 3', 145),\n",
       " ('Comuna 13', 108),\n",
       " ('Comuna 4', 95),\n",
       " ('Comuna 6', 87),\n",
       " ('Comuna 7', 64),\n",
       " ('Comuna 15', 57),\n",
       " ('Comuna 5', 56),\n",
       " ('Comuna 9', 52),\n",
       " ('Comuna 10', 43),\n",
       " ('Comuna 12', 42),\n",
       " ('Comuna 11', 33),\n",
       " ('Comuna 8', 6))"
      ]
     },
     "execution_count": 100,
     "metadata": {},
     "output_type": "execute_result"
    }
   ],
   "source": [
    "cursor.fetchall()"
   ]
  },
  {
   "cell_type": "code",
   "execution_count": null,
   "id": "7fb47705",
   "metadata": {},
   "outputs": [],
   "source": [
    "oferta_gastronomica.to_sql()"
   ]
  }
 ],
 "metadata": {
  "kernelspec": {
   "display_name": "Python 3 (ipykernel)",
   "language": "python",
   "name": "python3"
  },
  "language_info": {
   "codemirror_mode": {
    "name": "ipython",
    "version": 3
   },
   "file_extension": ".py",
   "mimetype": "text/x-python",
   "name": "python",
   "nbconvert_exporter": "python",
   "pygments_lexer": "ipython3",
   "version": "3.9.15"
  }
 },
 "nbformat": 4,
 "nbformat_minor": 5
}
