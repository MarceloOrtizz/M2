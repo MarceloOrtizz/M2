{
 "cells": [
  {
   "cell_type": "code",
   "execution_count": 70,
   "metadata": {},
   "outputs": [],
   "source": [
    "import pandas as pd\n",
    "import numpy as np"
   ]
  },
  {
   "cell_type": "code",
   "execution_count": 71,
   "metadata": {},
   "outputs": [],
   "source": [
    "muestra = np.array( [[1.85, 1.8, 1.8 , 1.8],\n",
    "                    [1.73,  1.7, 1.75, 1.76],\n",
    "                    [ 1.65, 1.69,  1.67 ,  1.6],\n",
    "                    [1.54,  1.57, 1.58, 1.59],\n",
    "                    [ 1.4 , 1.42,  1.45, 1.48]]) "
   ]
  },
  {
   "cell_type": "code",
   "execution_count": 72,
   "metadata": {},
   "outputs": [],
   "source": [
    "muestra=muestra.flatten()"
   ]
  },
  {
   "cell_type": "code",
   "execution_count": 73,
   "metadata": {},
   "outputs": [
    {
     "data": {
      "text/plain": [
       "(20,)"
      ]
     },
     "execution_count": 73,
     "metadata": {},
     "output_type": "execute_result"
    }
   ],
   "source": [
    "muestra.shape"
   ]
  },
  {
   "cell_type": "code",
   "execution_count": 74,
   "metadata": {},
   "outputs": [
    {
     "data": {
      "text/plain": [
       "array([1.85, 1.8 , 1.8 , 1.8 , 1.73, 1.7 , 1.75, 1.76, 1.65, 1.69, 1.67,\n",
       "       1.6 , 1.54, 1.57, 1.58, 1.59, 1.4 , 1.42, 1.45, 1.48])"
      ]
     },
     "execution_count": 74,
     "metadata": {},
     "output_type": "execute_result"
    }
   ],
   "source": [
    "muestra"
   ]
  },
  {
   "cell_type": "code",
   "execution_count": 75,
   "metadata": {},
   "outputs": [],
   "source": [
    "#muestra=np.array([1.8 , 1.8 , 1.8 , 1.73, 1.7 , 1.75, 1.76, 1.65, 1.69, 1.67, 1.6 , 1.54, 1.57, 1.58, 1.59, 1.4 , 1.42, 1.45, 1.48])"
   ]
  },
  {
   "cell_type": "code",
   "execution_count": 76,
   "metadata": {},
   "outputs": [
    {
     "name": "stdout",
     "output_type": "stream",
     "text": [
      "1.85\n",
      "1.8\n",
      "1.8\n",
      "1.8\n",
      "1.73\n",
      "1.7\n",
      "1.75\n",
      "1.76\n",
      "1.65\n",
      "1.69\n",
      "1.67\n",
      "1.6\n",
      "1.54\n",
      "1.57\n",
      "1.58\n",
      "1.59\n",
      "1.4\n",
      "1.42\n",
      "1.45\n",
      "1.48\n"
     ]
    }
   ],
   "source": [
    "for e in muestra:\n",
    "    print(e)"
   ]
  },
  {
   "cell_type": "markdown",
   "metadata": {},
   "source": [
    "* Media.\n",
    "* Mediana.\n",
    "* Moda\n",
    "* Varianza\n",
    "* Desvío estándar."
   ]
  },
  {
   "cell_type": "code",
   "execution_count": 77,
   "metadata": {},
   "outputs": [
    {
     "name": "stdout",
     "output_type": "stream",
     "text": [
      "[1.4  1.42 1.45 1.48 1.54 1.57 1.58 1.59 1.6  1.65 1.67 1.69 1.7  1.73\n",
      " 1.75 1.76 1.8  1.8  1.8  1.85]\n",
      "1.6415000000000002\n",
      "1.66\n",
      "1.8 3\n",
      "0.017642750000000006\n",
      "0.13282601401833907\n"
     ]
    }
   ],
   "source": [
    "arreglo=muestra\n",
    "\n",
    "arreglo=np.sort(arreglo)\n",
    "print(arreglo)\n",
    "# print(len(arreglo))\n",
    "\n",
    "#calcular la media\n",
    "suma=0\n",
    "cantidad=0\n",
    "for e in arreglo:\n",
    "    suma+=e\n",
    "    cantidad+=1\n",
    "media=suma/cantidad\n",
    "print(media)\n",
    "\n",
    "#calcular la mediana\n",
    "\n",
    "if ((len(arreglo)+1)/2)%2==0:\n",
    "    # print(\"igual a 0\")\n",
    "    mediana=arreglo[int((len(arreglo)+1)/2)-1]\n",
    "else:\n",
    "    # print(\"NO a 0\")\n",
    "    # print(len(arreglo)/2)\n",
    "    # print(arreglo[int(len(arreglo)/2)-1])\n",
    "    # print(arreglo[int(len(arreglo)/2)])\n",
    "    mediana=(arreglo[int(len(arreglo)/2)-1]+arreglo[int(len(arreglo)/2)])/2\n",
    "print(mediana)\n",
    "\n",
    "#calcular el modo\n",
    "fre_max=0\n",
    "f=1\n",
    "for i,e in enumerate(arreglo):\n",
    "    if i>0:\n",
    "        if arreglo[i]==arreglo[i-1]:\n",
    "            f+=1\n",
    "            if f>fre_max:\n",
    "                fre_max=f\n",
    "                moda=arreglo[i]\n",
    "        else:\n",
    "            f=1\n",
    "print(moda, fre_max)\n",
    "\n",
    "#calcular la varianza\n",
    "suma_cuadrados=0\n",
    "for e in arreglo:\n",
    "    suma_cuadrados+=(e-media)**2\n",
    "varianza=suma_cuadrados/cantidad\n",
    "print(varianza)\n",
    "desv_std=varianza**0.5\n",
    "print(desv_std)\n",
    "\n",
    "\n",
    "\n",
    "\n"
   ]
  },
  {
   "cell_type": "code",
   "execution_count": 78,
   "metadata": {},
   "outputs": [],
   "source": [
    "def tendencias(arreglo):\n",
    "    arreglo=arreglo.flatten()\n",
    "    arreglo=np.sort(arreglo)\n",
    "    #print(arreglo)\n",
    "\n",
    "    suma=0\n",
    "    cantidad=0\n",
    "    for e in arreglo:\n",
    "        suma+=e\n",
    "        cantidad+=1\n",
    "    media=suma/cantidad\n",
    "\n",
    "    #calcular la mediana\n",
    "    if ((len(arreglo)+1)/2)%2==0:\n",
    "        mediana=arreglo[int((len(arreglo)+1)/2)-1]\n",
    "    else:\n",
    "        mediana=(arreglo[int(len(arreglo)/2)-1]+arreglo[int(len(arreglo)/2)])/2\n",
    "\n",
    "    #calcular el modo\n",
    "    fre_max=0\n",
    "    f=1\n",
    "    for i,e in enumerate(arreglo):\n",
    "        if i>0:\n",
    "            if arreglo[i]==arreglo[i-1]:\n",
    "                f+=1\n",
    "                if f>fre_max:\n",
    "                    fre_max=f\n",
    "                    moda=arreglo[i]\n",
    "            else:\n",
    "                f=1\n",
    "\n",
    "    #calcular la varianza\n",
    "    suma_cuadrados=0\n",
    "    for e in arreglo:\n",
    "        suma_cuadrados+=(e-media)**2\n",
    "    varianza=suma_cuadrados/cantidad\n",
    "    #varianza=suma_cuadrados/(cantidad-1)\n",
    "    desv_std=varianza**0.5\n",
    "        \n",
    "    #Resultados\n",
    "    print(\"Resultados:\")\n",
    "    print(\"La media es:\", round(media,4))\n",
    "    print(\"La mediana es:\", round(mediana,4))\n",
    "    print(\"La moda es: \", moda, \" y se repite: \", fre_max, \" veces\")\n",
    "    print(\"La Varianza es:\", round(varianza,4))\n",
    "    print(\"El desvio estandar es:\", round(desv_std,4))\n"
   ]
  },
  {
   "cell_type": "code",
   "execution_count": 79,
   "metadata": {},
   "outputs": [
    {
     "name": "stdout",
     "output_type": "stream",
     "text": [
      "Resultados:\n",
      "La media es: 1.6415\n",
      "La mediana es: 1.66\n",
      "La moda es:  1.8  y se repite:  3  veces\n",
      "La Varianza es: 0.0186\n",
      "El desvio estandar es: 0.1363\n"
     ]
    }
   ],
   "source": [
    "tendencias(muestra)"
   ]
  },
  {
   "cell_type": "code",
   "execution_count": 80,
   "metadata": {},
   "outputs": [],
   "source": [
    "muestra = np.array( [[1.85, 1.8, 1.8 , 1.8],\n",
    "                    [1.73,  1.7, 1.75, 1.76],\n",
    "                    [ 1.65, 1.69,  1.67 ,  1.6],\n",
    "                    [1.54,  1.57, 1.58, 1.59],\n",
    "                    [ 1.4 , 1.42,  1.45, 1.48]]) "
   ]
  },
  {
   "cell_type": "markdown",
   "metadata": {},
   "source": [
    "2. Convierta el arreglo en una lista y realice un Histograma de 5 intervalos. ¿Tiene distribución normal?."
   ]
  },
  {
   "cell_type": "code",
   "execution_count": 81,
   "metadata": {},
   "outputs": [
    {
     "name": "stdout",
     "output_type": "stream",
     "text": [
      "<class 'list'>\n",
      "[1.85, 1.8, 1.8, 1.8, 1.73, 1.7, 1.75, 1.76, 1.65, 1.69, 1.67, 1.6, 1.54, 1.57, 1.58, 1.59, 1.4, 1.42, 1.45, 1.48]\n"
     ]
    }
   ],
   "source": [
    "lista=muestra.flatten().tolist()\n",
    "print(type(lista))\n",
    "print(lista)"
   ]
  },
  {
   "cell_type": "code",
   "execution_count": 82,
   "metadata": {},
   "outputs": [],
   "source": [
    "import matplotlib.pyplot as plt"
   ]
  },
  {
   "cell_type": "code",
   "execution_count": 83,
   "metadata": {},
   "outputs": [],
   "source": [
    "lista.sort()"
   ]
  },
  {
   "cell_type": "code",
   "execution_count": 84,
   "metadata": {},
   "outputs": [
    {
     "name": "stdout",
     "output_type": "stream",
     "text": [
      "[1.4, 1.42, 1.45, 1.48, 1.54, 1.57, 1.58, 1.59, 1.6, 1.65, 1.67, 1.69, 1.7, 1.73, 1.75, 1.76, 1.8, 1.8, 1.8, 1.85]\n"
     ]
    }
   ],
   "source": [
    "print(lista)"
   ]
  },
  {
   "cell_type": "code",
   "execution_count": 85,
   "metadata": {},
   "outputs": [
    {
     "data": {
      "image/png": "[encoded data removed]",
      "text/plain": [
       "<Figure size 640x480 with 1 Axes>"
      ]
     },
     "metadata": {},
     "output_type": "display_data"
    }
   ],
   "source": [
    "#plt.hist(lista, bins = 5, color = 'gray', rwidth = 0.9)\n",
    "plt.hist(lista, bins=5, color='gray', rwidth=0.9)\n",
    "plt.title(\"Histograma de alturas\")\n",
    "plt.xlabel(\"Alturas\")\n",
    "plt.ylabel(\"Frecuecia\")\n",
    "plt.show()"
   ]
  },
  {
   "cell_type": "markdown",
   "metadata": {},
   "source": [
    "3. Utilizando pandas describa el dataframe."
   ]
  },
  {
   "cell_type": "code",
   "execution_count": 86,
   "metadata": {},
   "outputs": [
    {
     "data": {
      "text/html": [
       "<div>\n",
       "<style scoped>\n",
       "    .dataframe tbody tr th:only-of-type {\n",
       "        vertical-align: middle;\n",
       "    }\n",
       "\n",
       "    .dataframe tbody tr th {\n",
       "        vertical-align: top;\n",
       "    }\n",
       "\n",
       "    .dataframe thead th {\n",
       "        text-align: right;\n",
       "    }\n",
       "</style>\n",
       "<table border=\"1\" class=\"dataframe\">\n",
       "  <thead>\n",
       "    <tr style=\"text-align: right;\">\n",
       "      <th></th>\n",
       "      <th>0</th>\n",
       "    </tr>\n",
       "  </thead>\n",
       "  <tbody>\n",
       "    <tr>\n",
       "      <th>0</th>\n",
       "      <td>1.40</td>\n",
       "    </tr>\n",
       "    <tr>\n",
       "      <th>1</th>\n",
       "      <td>1.42</td>\n",
       "    </tr>\n",
       "    <tr>\n",
       "      <th>2</th>\n",
       "      <td>1.45</td>\n",
       "    </tr>\n",
       "    <tr>\n",
       "      <th>3</th>\n",
       "      <td>1.48</td>\n",
       "    </tr>\n",
       "    <tr>\n",
       "      <th>4</th>\n",
       "      <td>1.54</td>\n",
       "    </tr>\n",
       "    <tr>\n",
       "      <th>5</th>\n",
       "      <td>1.57</td>\n",
       "    </tr>\n",
       "    <tr>\n",
       "      <th>6</th>\n",
       "      <td>1.58</td>\n",
       "    </tr>\n",
       "    <tr>\n",
       "      <th>7</th>\n",
       "      <td>1.59</td>\n",
       "    </tr>\n",
       "    <tr>\n",
       "      <th>8</th>\n",
       "      <td>1.60</td>\n",
       "    </tr>\n",
       "    <tr>\n",
       "      <th>9</th>\n",
       "      <td>1.65</td>\n",
       "    </tr>\n",
       "    <tr>\n",
       "      <th>10</th>\n",
       "      <td>1.67</td>\n",
       "    </tr>\n",
       "    <tr>\n",
       "      <th>11</th>\n",
       "      <td>1.69</td>\n",
       "    </tr>\n",
       "    <tr>\n",
       "      <th>12</th>\n",
       "      <td>1.70</td>\n",
       "    </tr>\n",
       "    <tr>\n",
       "      <th>13</th>\n",
       "      <td>1.73</td>\n",
       "    </tr>\n",
       "    <tr>\n",
       "      <th>14</th>\n",
       "      <td>1.75</td>\n",
       "    </tr>\n",
       "    <tr>\n",
       "      <th>15</th>\n",
       "      <td>1.76</td>\n",
       "    </tr>\n",
       "    <tr>\n",
       "      <th>16</th>\n",
       "      <td>1.80</td>\n",
       "    </tr>\n",
       "    <tr>\n",
       "      <th>17</th>\n",
       "      <td>1.80</td>\n",
       "    </tr>\n",
       "    <tr>\n",
       "      <th>18</th>\n",
       "      <td>1.80</td>\n",
       "    </tr>\n",
       "    <tr>\n",
       "      <th>19</th>\n",
       "      <td>1.85</td>\n",
       "    </tr>\n",
       "  </tbody>\n",
       "</table>\n",
       "</div>"
      ],
      "text/plain": [
       "       0\n",
       "0   1.40\n",
       "1   1.42\n",
       "2   1.45\n",
       "3   1.48\n",
       "4   1.54\n",
       "5   1.57\n",
       "6   1.58\n",
       "7   1.59\n",
       "8   1.60\n",
       "9   1.65\n",
       "10  1.67\n",
       "11  1.69\n",
       "12  1.70\n",
       "13  1.73\n",
       "14  1.75\n",
       "15  1.76\n",
       "16  1.80\n",
       "17  1.80\n",
       "18  1.80\n",
       "19  1.85"
      ]
     },
     "execution_count": 86,
     "metadata": {},
     "output_type": "execute_result"
    }
   ],
   "source": [
    "df=pd.DataFrame(lista)\n",
    "df"
   ]
  },
  {
   "cell_type": "code",
   "execution_count": 87,
   "metadata": {},
   "outputs": [
    {
     "data": {
      "text/html": [
       "<div>\n",
       "<style scoped>\n",
       "    .dataframe tbody tr th:only-of-type {\n",
       "        vertical-align: middle;\n",
       "    }\n",
       "\n",
       "    .dataframe tbody tr th {\n",
       "        vertical-align: top;\n",
       "    }\n",
       "\n",
       "    .dataframe thead th {\n",
       "        text-align: right;\n",
       "    }\n",
       "</style>\n",
       "<table border=\"1\" class=\"dataframe\">\n",
       "  <thead>\n",
       "    <tr style=\"text-align: right;\">\n",
       "      <th></th>\n",
       "      <th>0</th>\n",
       "    </tr>\n",
       "  </thead>\n",
       "  <tbody>\n",
       "    <tr>\n",
       "      <th>count</th>\n",
       "      <td>20.000000</td>\n",
       "    </tr>\n",
       "    <tr>\n",
       "      <th>mean</th>\n",
       "      <td>1.641500</td>\n",
       "    </tr>\n",
       "    <tr>\n",
       "      <th>std</th>\n",
       "      <td>0.136277</td>\n",
       "    </tr>\n",
       "    <tr>\n",
       "      <th>min</th>\n",
       "      <td>1.400000</td>\n",
       "    </tr>\n",
       "    <tr>\n",
       "      <th>25%</th>\n",
       "      <td>1.562500</td>\n",
       "    </tr>\n",
       "    <tr>\n",
       "      <th>50%</th>\n",
       "      <td>1.660000</td>\n",
       "    </tr>\n",
       "    <tr>\n",
       "      <th>75%</th>\n",
       "      <td>1.752500</td>\n",
       "    </tr>\n",
       "    <tr>\n",
       "      <th>max</th>\n",
       "      <td>1.850000</td>\n",
       "    </tr>\n",
       "  </tbody>\n",
       "</table>\n",
       "</div>"
      ],
      "text/plain": [
       "               0\n",
       "count  20.000000\n",
       "mean    1.641500\n",
       "std     0.136277\n",
       "min     1.400000\n",
       "25%     1.562500\n",
       "50%     1.660000\n",
       "75%     1.752500\n",
       "max     1.850000"
      ]
     },
     "execution_count": 87,
     "metadata": {},
     "output_type": "execute_result"
    }
   ],
   "source": [
    "#\n",
    "df.describe()"
   ]
  }
 ],
 "metadata": {
  "kernelspec": {
   "display_name": "Python 3",
   "language": "python",
   "name": "python3"
  },
  "language_info": {
   "codemirror_mode": {
    "name": "ipython",
    "version": 3
   },
   "file_extension": ".py",
   "mimetype": "text/x-python",
   "name": "python",
   "nbconvert_exporter": "python",
   "pygments_lexer": "ipython3",
   "version": "3.10.11"
  },
  "orig_nbformat": 4
 },
 "nbformat": 4,
 "nbformat_minor": 2
}
