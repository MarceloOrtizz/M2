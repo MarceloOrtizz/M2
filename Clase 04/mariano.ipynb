{
 "cells": [
  {
   "cell_type": "code",
   "execution_count": 1,
   "metadata": {},
   "outputs": [],
   "source": [
    "import matplotlib.pyplot as plt\n",
    "import numpy as np \n",
    "from scipy import stats \n",
    "import seaborn as sns \n",
    "from math import e,factorial\n",
    "from scipy import stats \n",
    "\n",
    "\n",
    "def probabilidad_poisson(lamba_np,x):\n",
    "     probabilidad = (pow(e,-lamba_np) * pow(lamba_np,x))/factorial(x)\n",
    "     return probabilidad\n",
    "\n",
    "def probabilidad_hipergeometrica(N,X,n,x):\n",
    "  Xx = factorial(X)/(factorial(x)*factorial(X-x))\n",
    "  NX_nx= factorial(N-X)/(factorial(n-x)*factorial((N-X)-(n-x)))\n",
    "  Nn = factorial(N)/(factorial(n)*factorial(N-n))\n",
    "  hipergeometrica = (Xx * NX_nx)/Nn\n",
    "  return hipergeometrica\n",
    "\n",
    "def funcion_binomial(k,n,p):#\n",
    "  num_exitos = factorial(n) #Factorial de la cantidad de casos de éxito buscados.\n",
    "  num_eventos = factorial (k) * factorial(n-k) #Factorial del espacio muestral.\n",
    "  exitos_fracaso=pow(p,k) * pow(1-p,(n-k)) # Probabilidad de exitos y fracasos.\n",
    "  binomial = (num_exitos / num_eventos) * exitos_fracaso #Aplicación de la función binomial.\n",
    "  return binomial"
   ]
  },
  {
   "cell_type": "code",
   "execution_count": 2,
   "metadata": {},
   "outputs": [
    {
     "data": {
      "text/plain": [
       "'1.\\na x=(0,10)\\nb valores reales mayores a 0 \\nc continua'"
      ]
     },
     "execution_count": 2,
     "metadata": {},
     "output_type": "execute_result"
    }
   ],
   "source": [
    "'''1.\n",
    "a x=(0,10)\n",
    "b valores reales mayores a 0 \n",
    "c continua'''"
   ]
  },
  {
   "cell_type": "code",
   "execution_count": 3,
   "metadata": {},
   "outputs": [
    {
     "data": {
      "text/plain": [
       "'2.\\na. resultados experimentales:\\n\\n[(CC),(CX),(XC),(XX)]\\n\\nb. \\nx = 0,1,2\\n\\nc. \\n\\n1. CC: En este caso, X = 2, ya que obtuviste dos caras en ambos lanzamientos.\\n2. CX: Aquí, X = 1, porque solo obtuviste una cara en los dos lanzamientos.\\n3. XC: De manera similar, X = 1, porque obtuviste una cara en los dos lanzamientos.\\n4. XX: En este caso, X = 0, ya que no obtuviste ninguna cara en ninguno de los lanzamientos.\\n\\nd. ¿Es una variable aleatoria discreta o continua?\\nvariable aleatoria discreta. Esto se debe a que solo puede tomar valores enteros específicos (0, 1, 2) \\ny no puede tomar valores fraccionarios o continuos en este contexto.'"
      ]
     },
     "execution_count": 3,
     "metadata": {},
     "output_type": "execute_result"
    }
   ],
   "source": [
    "'''2.\n",
    "a. resultados experimentales:\n",
    "\n",
    "[(CC),(CX),(XC),(XX)]\n",
    "\n",
    "b. \n",
    "x = 0,1,2\n",
    "\n",
    "c. \n",
    "\n",
    "1. CC: En este caso, X = 2, ya que obtuviste dos caras en ambos lanzamientos.\n",
    "2. CX: Aquí, X = 1, porque solo obtuviste una cara en los dos lanzamientos.\n",
    "3. XC: De manera similar, X = 1, porque obtuviste una cara en los dos lanzamientos.\n",
    "4. XX: En este caso, X = 0, ya que no obtuviste ninguna cara en ninguno de los lanzamientos.\n",
    "\n",
    "d. ¿Es una variable aleatoria discreta o continua?\n",
    "variable aleatoria discreta. Esto se debe a que solo puede tomar valores enteros específicos (0, 1, 2) \n",
    "y no puede tomar valores fraccionarios o continuos en este contexto.'''"
   ]
  },
  {
   "cell_type": "markdown",
   "metadata": {},
   "source": [
    "3. Considera las decisiones de compra de los próximos tres clientes que lleguen a la tienda de ropa Martin Clothing Store. De acuerdo con la experiencia, el gerente de la tienda estima que la probabilidad de que un cliente realice una compra es 0.30. \n",
    "  - a. Describa si cumple con las reglas para clasificarlo como un experimiento binomial.\n",
    "  - b. ¿Cuál es la probabilidad de que dos de los próximos tres clientes realicen una compra?\n",
    "  - c. ¿Cuál es la probabilidad de que cuatro de los próximos diez clientes realicen una compra?"
   ]
  },
  {
   "cell_type": "code",
   "execution_count": 4,
   "metadata": {},
   "outputs": [
    {
     "data": {
      "text/plain": [
       "'- El experimento consta de un número fijo de ensayos o intentos.\\n- Cada ensayo tiene solo dos resultados posibles: éxito (S) o fracaso (F).\\n- La probabilidad de éxito (P(S)) es constante en cada ensayo.\\n- Los ensayos son independientes, lo que significa que el resultado de un ensayo no afecta el resultado de los otros ensayos.'"
      ]
     },
     "execution_count": 4,
     "metadata": {},
     "output_type": "execute_result"
    }
   ],
   "source": [
    "''' - El experimento consta de un número fijo de ensayos o intentos.\n",
    "    - Cada ensayo tiene solo dos resultados posibles: éxito (S) o fracaso (F).\n",
    "    - La probabilidad de éxito (P(S)) es constante en cada ensayo.\n",
    "    - Los ensayos son independientes, lo que significa que el resultado de un ensayo no afecta el resultado de los otros ensayos.'''"
   ]
  },
  {
   "cell_type": "code",
   "execution_count": 5,
   "metadata": {},
   "outputs": [
    {
     "name": "stdout",
     "output_type": "stream",
     "text": [
      "A:  0.189\n",
      "B:  0.20012094899999994\n"
     ]
    }
   ],
   "source": [
    "#   - b. ¿Cuál es la probabilidad de que dos de los próximos tres clientes realicen una compra?\n",
    "print(\"A: \",funcion_binomial(2,3,0.3))\n",
    "\n",
    "#   - c. ¿Cuál es la probabilidad de que cuatro de los próximos diez clientes realicen una compra?\n",
    "print(\"B: \",funcion_binomial(4,10,0.3))"
   ]
  },
  {
   "cell_type": "code",
   "execution_count": 7,
   "metadata": {},
   "outputs": [
    {
     "name": "stdout",
     "output_type": "stream",
     "text": [
      "0.15629345185053173\n",
      "0.1048372558836594\n",
      "0.018315638888734186\n",
      "0.09071795328941253\n"
     ]
    }
   ],
   "source": [
    "# 4\n",
    "\n",
    "def probabilidad_poisson(lambda_np,x):\n",
    "    probabilidad = (pow(e,-lambda_np) * pow(lambda_np,x))/factorial(x)\n",
    "    return probabilidad\n",
    "\n",
    "#a\n",
    "#48 llamadas por hora, por hora lambda es 48\n",
    "#si yo te pregunto por minuto: 48/60 = 0.8\n",
    "#si te pregunto cada 5 minutos: 0.8*5 = 4\n",
    "print(probabilidad_poisson(4,5)) #a primer argumento 48 llamadas en 60 min, 5*48/60\n",
    "\n",
    "#b 15*48/60\n",
    "print(probabilidad_poisson(12,10)) \n",
    "\n",
    "#c tendrían que haber entrado 4 llamadas (1 cada 48 segundos)\n",
    "print(probabilidad_poisson(4,0))\n",
    "\n",
    "#d 3 minutos -> 3*0.8\n",
    "print(probabilidad_poisson(2.4,0)) "
   ]
  },
  {
   "cell_type": "code",
   "execution_count": 8,
   "metadata": {},
   "outputs": [
    {
     "name": "stdout",
     "output_type": "stream",
     "text": [
      "0.525\n",
      "0.8166666666666667\n"
     ]
    }
   ],
   "source": [
    "# 5\n",
    "\n",
    "def combinacion(N,n):\n",
    "    return factorial(N)/(factorial(n)*factorial(N-n))\n",
    "\n",
    "def hipergeometrica(x,r,n,N):\n",
    "    c1 = combinacion(r,x)\n",
    "    c2 = combinacion(N-r,n-x)\n",
    "    c3 = combinacion(N,n)\n",
    "    return (c1*c2)/c3\n",
    "\n",
    "#a  \n",
    "print(hipergeometrica(2,3,7,10))\n",
    "\n",
    "#b\n",
    "prob_0 = hipergeometrica(0,3,7,10) #de 10 personas, 7 les gusta, tomo 3, 0 les gusta\n",
    "prob_1 = hipergeometrica(1,3,7,10) #de 10 personas, 7 les gusta, tomo 3, 1 les gusta\n",
    "print(1-prob_1-prob_0)"
   ]
  },
  {
   "cell_type": "code",
   "execution_count": 23,
   "metadata": {},
   "outputs": [
    {
     "data": {
      "text/plain": [
       "0.525"
      ]
     },
     "execution_count": 23,
     "metadata": {},
     "output_type": "execute_result"
    }
   ],
   "source": [
    "probabilidad = stats.hypergeom(M=10, n=3 , N=7).pmf(2)\n",
    "probabilidad"
   ]
  },
  {
   "cell_type": "code",
   "execution_count": 9,
   "metadata": {},
   "outputs": [],
   "source": [
    "#6\n",
    "def funcion_binomial(n,x,p): #n: num experimentos x:num exitos p: prob exito\n",
    "    return (factorial(n)*(p**x)*((1-p)**(n-x)))/(factorial(x)*factorial(n-x))"
   ]
  },
  {
   "cell_type": "code",
   "execution_count": 10,
   "metadata": {},
   "outputs": [
    {
     "name": "stdout",
     "output_type": "stream",
     "text": [
      "0.26682793200000005\n"
     ]
    }
   ],
   "source": [
    "print(funcion_binomial(10,7,0.7))"
   ]
  },
  {
   "cell_type": "code",
   "execution_count": 11,
   "metadata": {},
   "outputs": [
    {
     "name": "stdout",
     "output_type": "stream",
     "text": [
      "0.17218688399999996\n"
     ]
    }
   ],
   "source": [
    "#7\n",
    "print(funcion_binomial(9,7,0.9))"
   ]
  },
  {
   "cell_type": "code",
   "execution_count": 13,
   "metadata": {},
   "outputs": [
    {
     "name": "stdout",
     "output_type": "stream",
     "text": [
      "0.9470278620000001\n"
     ]
    }
   ],
   "source": [
    "#8\n",
    "print( funcion_binomial(9,7,0.9)+ funcion_binomial(9,8,0.9) + funcion_binomial(9,9,0.9))"
   ]
  },
  {
   "cell_type": "markdown",
   "metadata": {},
   "source": [
    "9. La cantidad de alumnos promedio que se ausentan en un día de clases en la carrera de Data Science es de 10. Calcular cual es la probabilidad de que se ausenten 7 alumnos.<br>\n"
   ]
  },
  {
   "cell_type": "code",
   "execution_count": 14,
   "metadata": {},
   "outputs": [
    {
     "name": "stdout",
     "output_type": "stream",
     "text": [
      "0.09007922571921602\n"
     ]
    }
   ],
   "source": [
    "print(probabilidad_poisson(10,7))"
   ]
  },
  {
   "cell_type": "markdown",
   "metadata": {},
   "source": [
    "10. Cuando inicia una clase, los estudiantes ingresan a un ritmo de 5 estudiantes por minuto. Calcular cual es la probabilidad de que ingresen 7 estudiantes por minuto.<br>\n",
    "\n"
   ]
  },
  {
   "cell_type": "code",
   "execution_count": 15,
   "metadata": {},
   "outputs": [
    {
     "name": "stdout",
     "output_type": "stream",
     "text": [
      "0.10444486295705402\n"
     ]
    }
   ],
   "source": [
    "print(probabilidad_poisson(5,7))"
   ]
  },
  {
   "cell_type": "markdown",
   "metadata": {},
   "source": [
    "## Ejercicios complementarios <br>"
   ]
  },
  {
   "cell_type": "markdown",
   "metadata": {},
   "source": [
    "11. Cada 3 días ingresan 10 estudiantes nuevos al Prep Course de Henry, calcule la probabilidad de que ingresen 15 nuevos estudiantes en un período de 6 días.<br>"
   ]
  },
  {
   "cell_type": "code",
   "execution_count": 16,
   "metadata": {},
   "outputs": [
    {
     "name": "stdout",
     "output_type": "stream",
     "text": [
      "0.0516488535317584\n"
     ]
    }
   ],
   "source": [
    "#Se aplica funcion Poisson\n",
    "#El intervalo dado es de 3 dias, para llevarlo a un intervalo de 6 dias aplicamos regla de 3 y nos da 20 alumnos\n",
    "\n",
    "print(probabilidad_poisson(20,15))"
   ]
  },
  {
   "cell_type": "markdown",
   "metadata": {},
   "source": [
    "12. En una distribución de Poisson de lamba_np=3, cual es la probabilidad de x>=1.<br>\n",
    "Distribución Normal:<br>"
   ]
  },
  {
   "cell_type": "code",
   "execution_count": 17,
   "metadata": {},
   "outputs": [
    {
     "name": "stdout",
     "output_type": "stream",
     "text": [
      "0.950212931632136\n"
     ]
    }
   ],
   "source": [
    "print(1-probabilidad_poisson(3,0))"
   ]
  },
  {
   "cell_type": "markdown",
   "metadata": {},
   "source": [
    "13. La calificación promedio de los estudiantes de Henry es de 78 con una desviación estandar de 25. Cual es la probabilidad de tener estudiantes con calificaciones mayores o iguales 90."
   ]
  },
  {
   "cell_type": "code",
   "execution_count": 18,
   "metadata": {},
   "outputs": [
    {
     "data": {
      "text/plain": [
       "0.3156136965162226"
      ]
     },
     "execution_count": 18,
     "metadata": {},
     "output_type": "execute_result"
    }
   ],
   "source": [
    "#hay que estandarizar\n",
    "\n",
    "\n",
    "X=90\n",
    "mu=78\n",
    "sigma=25\n",
    "z=(X-mu)/sigma #da 0.48, por tabla se resuelve: se busca en la tabla y se obtiene 0.3156\n",
    "\n",
    "normal = stats.norm(0,1)\n",
    "1 - normal.cdf(0.48)"
   ]
  }
 ],
 "metadata": {
  "kernelspec": {
   "display_name": "Python 3",
   "language": "python",
   "name": "python3"
  },
  "language_info": {
   "codemirror_mode": {
    "name": "ipython",
    "version": 3
   },
   "file_extension": ".py",
   "mimetype": "text/x-python",
   "name": "python",
   "nbconvert_exporter": "python",
   "pygments_lexer": "ipython3",
   "version": "3.11.1"
  },
  "orig_nbformat": 4
 },
 "nbformat": 4,
 "nbformat_minor": 2
}
