{
 "cells": [
  {
   "cell_type": "code",
   "execution_count": 2,
   "metadata": {},
   "outputs": [],
   "source": [
    "import matplotlib.pyplot as plt\n",
    "import numpy as np \n",
    "from scipy import stats \n",
    "import seaborn as sns \n",
    "from math import e,factorial\n",
    "\n",
    "\n",
    "def probabilidad_poisson(lamba_np,x):\n",
    "     probabilidad = (pow(e,-lamba_np) * pow(lamba_np,x))/factorial(x)\n",
    "     return probabilidad\n",
    "\n",
    "def probabilidad_hipergeometrica(N,X,n,x):\n",
    "  Xx = factorial(X)/(factorial(x)*factorial(X-x))\n",
    "  NX_nx= factorial(N-X)/(factorial(n-x)*factorial((N-X)-(n-x)))\n",
    "  Nn = factorial(N)/(factorial(n)*factorial(N-n))\n",
    "  hipergeometrica = (Xx * NX_nx)/Nn\n",
    "  return hipergeometrica\n",
    "\n",
    "def funcion_binomial(k,n,p):#\n",
    "  num_exitos = factorial(n) #Factorial de la cantidad de casos de éxito buscados.\n",
    "  num_eventos = factorial (k) * factorial(n-k) #Factorial del espacio muestral.\n",
    "  exitos_fracaso=pow(p,k) * pow(1-p,(n-k)) # Probabilidad de exitos y fracasos.\n",
    "  binomial = (num_exitos / num_eventos) * exitos_fracaso #Aplicación de la función binomial.\n",
    "  return binomial"
   ]
  },
  {
   "cell_type": "code",
   "execution_count": 6,
   "metadata": {},
   "outputs": [
    {
     "data": {
      "text/plain": [
       "'1.\\na x=0\\nb valores reales mayores a 0 \\nc continua'"
      ]
     },
     "execution_count": 6,
     "metadata": {},
     "output_type": "execute_result"
    }
   ],
   "source": [
    "'''1.\n",
    "a x=0\n",
    "b valores reales mayores a 0 \n",
    "c continua'''"
   ]
  },
  {
   "cell_type": "code",
   "execution_count": 5,
   "metadata": {},
   "outputs": [
    {
     "data": {
      "text/plain": [
       "'2.\\na. resultados experimentales:\\n\\n[(CC),(CX),(XC),(XX)]\\n\\nb. \\nx = 0,1,2\\n\\nc. \\n\\n1. CC: En este caso, X = 2, ya que obtuviste dos caras en ambos lanzamientos.\\n2. CX: Aquí, X = 1, porque solo obtuviste una cara en los dos lanzamientos.\\n3. XC: De manera similar, X = 1, porque obtuviste una cara en los dos lanzamientos.\\n4. XX: En este caso, X = 0, ya que no obtuviste ninguna cara en ninguno de los lanzamientos.\\n\\nd. ¿Es una variable aleatoria discreta o continua?\\nvariable aleatoria discreta. Esto se debe a que solo puede tomar valores enteros específicos (0, 1, 2) \\ny no puede tomar valores fraccionarios o continuos en este contexto.'"
      ]
     },
     "execution_count": 5,
     "metadata": {},
     "output_type": "execute_result"
    }
   ],
   "source": [
    "'''2.\n",
    "a. resultados experimentales:\n",
    "\n",
    "[(CC),(CX),(XC),(XX)]\n",
    "\n",
    "b. \n",
    "x = 0,1,2\n",
    "\n",
    "c. \n",
    "\n",
    "1. CC: En este caso, X = 2, ya que obtuviste dos caras en ambos lanzamientos.\n",
    "2. CX: Aquí, X = 1, porque solo obtuviste una cara en los dos lanzamientos.\n",
    "3. XC: De manera similar, X = 1, porque obtuviste una cara en los dos lanzamientos.\n",
    "4. XX: En este caso, X = 0, ya que no obtuviste ninguna cara en ninguno de los lanzamientos.\n",
    "\n",
    "d. ¿Es una variable aleatoria discreta o continua?\n",
    "variable aleatoria discreta. Esto se debe a que solo puede tomar valores enteros específicos (0, 1, 2) \n",
    "y no puede tomar valores fraccionarios o continuos en este contexto.'''"
   ]
  },
  {
   "cell_type": "markdown",
   "metadata": {},
   "source": [
    "3. Considera las decisiones de compra de los próximos tres clientes que lleguen a la tienda de ropa Martin Clothing Store. De acuerdo con la experiencia, el gerente de la tienda estima que la probabilidad de que un cliente realice una compra es 0.30. \n",
    "  - a. Describa si cumple con las reglas para clasificarlo como un experimiento binomial.\n",
    "  - b. ¿Cuál es la probabilidad de que dos de los próximos tres clientes realicen una compra?\n",
    "  - c. ¿Cuál es la probabilidad de que cuatro de los próximos diez clientes realicen una compra?"
   ]
  },
  {
   "cell_type": "code",
   "execution_count": null,
   "metadata": {},
   "outputs": [],
   "source": [
    "'''- El experimento consta de un número fijo de ensayos o intentos.\n",
    "- Cada ensayo tiene solo dos resultados posibles: éxito (S) o fracaso (F).\n",
    "- La probabilidad de éxito (P(S)) es constante en cada ensayo.\n",
    "- Los ensayos son independientes, lo que significa que el resultado de un ensayo no afecta el resultado de los otros ensayos.'''"
   ]
  },
  {
   "cell_type": "code",
   "execution_count": 4,
   "metadata": {},
   "outputs": [
    {
     "name": "stdout",
     "output_type": "stream",
     "text": [
      "A:  0.189\n",
      "B:  0.20012094899999994\n"
     ]
    }
   ],
   "source": [
    "#   - b. ¿Cuál es la probabilidad de que dos de los próximos tres clientes realicen una compra?\n",
    "print(\"A: \",funcion_binomial(2,3,0.3))\n",
    "\n",
    "#   - c. ¿Cuál es la probabilidad de que cuatro de los próximos diez clientes realicen una compra?\n",
    "print(\"B: \",funcion_binomial(4,10,0.3))"
   ]
  },
  {
   "cell_type": "code",
   "execution_count": null,
   "metadata": {},
   "outputs": [],
   "source": [
    "# 4\n",
    "l\n"
   ]
  }
 ],
 "metadata": {
  "kernelspec": {
   "display_name": "Python 3",
   "language": "python",
   "name": "python3"
  },
  "language_info": {
   "codemirror_mode": {
    "name": "ipython",
    "version": 3
   },
   "file_extension": ".py",
   "mimetype": "text/x-python",
   "name": "python",
   "nbconvert_exporter": "python",
   "pygments_lexer": "ipython3",
   "version": "3.11.2"
  },
  "orig_nbformat": 4
 },
 "nbformat": 4,
 "nbformat_minor": 2
}
