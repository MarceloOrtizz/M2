{
 "cells": [
  {
   "cell_type": "code",
   "execution_count": 1,
   "metadata": {},
   "outputs": [],
   "source": [
    "from math import e, factorial\n"
   ]
  },
  {
   "cell_type": "markdown",
   "metadata": {},
   "source": [
    "1. Considera el experimento que consiste en un empleado que arma un producto.\n",
    "  - a. Defina la variable aleatoria que represente el tiempo en minutos requerido para armar el producto.<br>\n",
    "  - b. ¿Qué valores toma la variable aleatoria?<br>\n",
    "  - c. ¿Es una variable aleatoria discreta o continua?<br>\n",
    "\n",
    "  a) La variable aleatoria es el tiempo en minutos que tarda en armar el producto\n",
    "  b) El valor es x ≥ 0\n",
    "  c)Es una variable aleatoria continua\n"
   ]
  },
  {
   "cell_type": "markdown",
   "metadata": {},
   "source": [
    "2. Considera el experimento que consiste en lanzar una moneda dos veces.\n",
    "  - a. Enumere los resultados experimentales.\n",
    "  - b. Defina una variable aleatoria que represente el número de caras en los dos lanzamientos.\n",
    "  - c. Dé el valor que la variable aleatoria tomará en cada uno de los resultados experimentales.\n",
    "  - d. ¿Es una variable aleatoria discreta o continua?\n"
   ]
  },
  {
   "cell_type": "code",
   "execution_count": 2,
   "metadata": {},
   "outputs": [
    {
     "name": "stdout",
     "output_type": "stream",
     "text": [
      "4\n"
     ]
    }
   ],
   "source": [
    "#a)\n",
    "Resultados_Experimentales= 2**2 \n",
    "\n",
    "  #1. Cara - Seca\n",
    "  #2. Cara - Cara \n",
    "  #3. Seca - Cara\n",
    "  #4. Seca - Seca \n",
    "\n",
    "print(Resultados_Experimentales)\n",
    "\n",
    "#b) \n",
    "cara=0 #números de caras\n",
    "\n",
    "#c)\n",
    "  #1. Cara - Seca (1)\n",
    "  #2. Cara - Cara (2)\n",
    "  #3. Seca - Cara (1)\n",
    "  #4. Seca - Seca (0)\n",
    "\n",
    "#d)Es discreta\n"
   ]
  },
  {
   "cell_type": "markdown",
   "metadata": {},
   "source": [
    "3. Considera las decisiones de compra de los próximos tres clientes que lleguen a la tienda de ropa Martin Clothing Store. De acuerdo con la experiencia, el gerente de la tienda estima que la probabilidad de que un cliente realice una compra es 0.30. \n",
    "  - a. Describa si cumple con las reglas para clasificarlo como un experimiento binomial.\n",
    "  - b. ¿Cuál es la probabilidad de que dos de los próximos tres clientes realicen una compra?\n",
    "  - c. ¿Cuál es la probabilidad de que cuatro de los próximos diez clientes realicen una compra?\n"
   ]
  },
  {
   "cell_type": "code",
   "execution_count": 3,
   "metadata": {},
   "outputs": [
    {
     "name": "stdout",
     "output_type": "stream",
     "text": [
      "0.189\n",
      "0.20012094899999994\n"
     ]
    }
   ],
   "source": [
    "#a) Si, cumple con las reglas de un experimento binomial: \n",
    "#1)El experimento consiste en una serie de n ensayos idénticos.\n",
    "#2)En cada ensayo hay dos resultados posibles. A uno de estos resultados se le llama éxito y al otro se le llama fracaso.\n",
    "#3)La probabilidad de éxito, que se denota p, no cambia de un ensayo a otro. Por ende, la probabilidad de fracaso, que \n",
    "#se denota 1 - p, tampoco cambia de un ensayo a otro.\n",
    "#4)Los ensayos son independientes.\n",
    "\n",
    "#b) \n",
    "def funcion_binomial(k,n,p):\n",
    "  num_exitos = factorial(n) #Factorial de la cantidad de casos de éxito buscados.\n",
    "  num_eventos = factorial (k) * factorial(n-k) #Factorial del espacio muestral.\n",
    "  exitos_fracaso=pow(p,k) * pow(1-p,(n-k)) # Probabilidad de exitos y fracasos.\n",
    "\n",
    "  binomial = (num_exitos / num_eventos) * exitos_fracaso #Aplicación de la función binomial.\n",
    "\n",
    "  return binomial\n",
    "\n",
    "print(funcion_binomial(2,3,0.3))\n",
    "\n",
    "\n",
    "#c)\n",
    "print(funcion_binomial(4,10,0.3))\n"
   ]
  },
  {
   "cell_type": "markdown",
   "metadata": {},
   "source": [
    "4.  A la oficina de reservaciones de una aerolínea regional llegan 48 llamadas por hora.\n",
    "- a. Calcule la probabilidad de recibir cinco llamadas en un lapso de 5 minutos.\n",
    "- b. Estime la probabilidad de recibir exactamente 10 llamadas en un lapso de 15 minutos.\n",
    "- c. Suponga que no hay ninguna llamada en espera. Si el agente de viajes necesitará 5 minutos para la llamada que está atendiendo, ¿cuántas llamadas habrá en espera para cuando él termine? ¿Cuál es la probabilidad de que no haya ninguna llamada en espera?\n",
    "- d. Si en este momento no hay ninguna llamada, ¿cuál es la probabilidad de que el agente de viajes pueda tomar 3 minutos de descanso sin ser interrumpido por una llamada?\n"
   ]
  },
  {
   "cell_type": "code",
   "execution_count": 4,
   "metadata": {},
   "outputs": [
    {
     "name": "stdout",
     "output_type": "stream",
     "text": [
      "0.15629345185053173\n",
      "0.1048372558836594\n",
      "0.018315638888734186\n",
      "0.09071795328941248\n"
     ]
    }
   ],
   "source": [
    "#a)\n",
    "def probabilidad_poisson(lamba_np,x):\n",
    "     probabilidad = (pow(e,-lamba_np) * pow(lamba_np,x))/factorial(x)\n",
    "     return probabilidad\n",
    "\n",
    "#Probabilidad de recibir cinco llamadas en un lapso de 5 minutos\n",
    "print(probabilidad_poisson(((48/60)*5),5))\n",
    "\n",
    "#b) Probabilidad de recibir exactamente 10 llamadas en un lapso de 15 minutos\n",
    "print(probabilidad_poisson(((48/60)*15),10))\n",
    "\n",
    "#c) Probabilidad de llamadas en espera \n",
    "print(probabilidad_poisson(((48/60)*5),0))\n",
    "\n",
    "#d) Probabilidad de que el agente de viajes pueda tomar 3 minutos de descanso sin ser interrumpido por una llamada\n",
    "print(probabilidad_poisson(((48/60)*3),0))\n"
   ]
  },
  {
   "cell_type": "markdown",
   "metadata": {},
   "source": [
    "5. En una encuesta realizada por Gallup Organization, se les preguntó a los interrogados, “Cuál es el deporte que prefieres ver”. Futbol y básquetbol ocuparon el primero y segundo lugar de preferencia (www.gallup.com, 3 de enero de 2004). Si en un grupo de 10 individuos, siete prefieren futbol y tres prefieren básquetbol. Se toma una muestra aleatoria de tres de estas personas.\n",
    "- a. ¿Cuál es la probabilidad de que exactamente dos prefieren el futbol?\n",
    "- b. ¿De que la mayoría (ya sean dos o tres) prefiere el futbol?\n"
   ]
  },
  {
   "cell_type": "code",
   "execution_count": 5,
   "metadata": {},
   "outputs": [
    {
     "name": "stdout",
     "output_type": "stream",
     "text": [
      "0.525\n",
      "0.8166666666666667\n"
     ]
    }
   ],
   "source": [
    "#a)\n",
    "def probabilidad_hipergeometrica(N,X,n,x):\n",
    "  Xx = factorial(X)/(factorial(x)*factorial(X-x))\n",
    "  NX_nx= factorial(N-X)/(factorial(n-x)*factorial((N-X)-(n-x)))\n",
    "  Nn = factorial(N)/(factorial(n)*factorial(N-n))\n",
    "  hipergeometrica = (Xx * NX_nx)/Nn\n",
    "\n",
    "  return hipergeometrica\n",
    "\n",
    "print(probabilidad_hipergeometrica(10,7,3,2))\n",
    "\n",
    "#b)\n",
    "prob1=probabilidad_hipergeometrica(10,7,3,3)\n",
    "prob2=probabilidad_hipergeometrica(10,7,3,2)\n",
    "print(prob1+prob2)\n",
    "\n",
    "##VER\n"
   ]
  },
  {
   "cell_type": "markdown",
   "metadata": {},
   "source": [
    "6. La probabilidad de que a un estudiante le guste este modulo es de 0.7 (en Henry somos optimistas), cual es la probabilidad de que les guste este módulo a 6 de los 10 estudiantes"
   ]
  },
  {
   "cell_type": "code",
   "execution_count": 6,
   "metadata": {},
   "outputs": [
    {
     "name": "stdout",
     "output_type": "stream",
     "text": [
      "0.20012094900000005\n"
     ]
    }
   ],
   "source": [
    "print(funcion_binomial(6,10,0.7))\n"
   ]
  },
  {
   "cell_type": "markdown",
   "metadata": {},
   "source": [
    "7. De todos los push a Git en un Henry Challenge, el 90% lo envía a término. Si se envían 9 ¿cuál es la probabilidad de que 7 lleguen a término?."
   ]
  },
  {
   "cell_type": "code",
   "execution_count": 7,
   "metadata": {},
   "outputs": [
    {
     "name": "stdout",
     "output_type": "stream",
     "text": [
      "0.17218688399999993\n"
     ]
    }
   ],
   "source": [
    "print(funcion_binomial(7,9,0.9))\n"
   ]
  },
  {
   "cell_type": "markdown",
   "metadata": {},
   "source": [
    "8. En relación con el enunciado anterior cálcule la probabilidad de que 7 o más lleguen a término"
   ]
  },
  {
   "cell_type": "code",
   "execution_count": 9,
   "metadata": {},
   "outputs": [
    {
     "name": "stdout",
     "output_type": "stream",
     "text": [
      "0.9470278620000001\n"
     ]
    }
   ],
   "source": [
    "prob7=(funcion_binomial(7,9,0.9))\n",
    "prob8=(funcion_binomial(8,9,0.9))\n",
    "prob9=(funcion_binomial(9,9,0.9))\n",
    "\n",
    "print(prob7+prob8+prob9)\n",
    "\n",
    "\n",
    "\n",
    "#VER\n"
   ]
  },
  {
   "cell_type": "markdown",
   "metadata": {},
   "source": [
    "9. La cantidad de alumnos promedio que se ausentan en un día de clases en la carrera de Data Science es de 10. Calcular cual es la probabilidad de que se ausenten 7 alumnos\n",
    "\n"
   ]
  },
  {
   "cell_type": "code",
   "execution_count": 8,
   "metadata": {},
   "outputs": [
    {
     "name": "stdout",
     "output_type": "stream",
     "text": [
      "0.09007922571921602\n"
     ]
    }
   ],
   "source": [
    "print(probabilidad_poisson(10,7))"
   ]
  },
  {
   "cell_type": "markdown",
   "metadata": {},
   "source": [
    "10. Cuando inicia una clase, los estudiantes ingresan a un ritmo de 5 estudiantes por minuto. Calcular cual es la probabilidad de que ingresen 7 estudiantes por minuto.\n"
   ]
  },
  {
   "cell_type": "code",
   "execution_count": 10,
   "metadata": {},
   "outputs": [
    {
     "name": "stdout",
     "output_type": "stream",
     "text": [
      "0.10444486295705402\n"
     ]
    }
   ],
   "source": [
    "print(probabilidad_poisson(((5/60)*60),7))\n"
   ]
  },
  {
   "cell_type": "markdown",
   "metadata": {},
   "source": [
    "11. Cada 3 días ingresan 10 estudiantes nuevos al Prep Course de Henry, calcule la probabilidad de que ingresen 15 nuevos estudiantes en un período de 6 días.\n",
    "\n"
   ]
  },
  {
   "cell_type": "code",
   "execution_count": 11,
   "metadata": {},
   "outputs": [
    {
     "name": "stdout",
     "output_type": "stream",
     "text": [
      "0.0516488535317584\n"
     ]
    }
   ],
   "source": [
    "#1(Número de estudiantes cada 3 días = 10) + 2(Número de estudiantes cada 3 días = 10) \n",
    "#3(Número de estudiantes cada 6 días = 20)\n",
    "\n",
    "print(probabilidad_poisson(20,15))\n"
   ]
  },
  {
   "cell_type": "markdown",
   "metadata": {},
   "source": [
    "12. En una distribución de Poisson de lamba_np=3, cual es la probabilidad de x>=1.\n",
    "\n"
   ]
  },
  {
   "cell_type": "code",
   "execution_count": null,
   "metadata": {},
   "outputs": [],
   "source": [
    "#VER"
   ]
  },
  {
   "cell_type": "markdown",
   "metadata": {},
   "source": [
    "13. La calificación promedio de los estudiantes de Henry es de 78 con una desviación estandar de 25. Cual es la probabilidad de tener estudiantes con calificaciones mayores o iguales 90.\n"
   ]
  },
  {
   "cell_type": "code",
   "execution_count": 13,
   "metadata": {},
   "outputs": [
    {
     "name": "stdout",
     "output_type": "stream",
     "text": [
      "0.48\n",
      "0.3156\n"
     ]
    }
   ],
   "source": [
    "media=78\n",
    "DE=25\n",
    "x=90\n",
    "\n",
    "z=(x-media)/DE\n",
    "print(z)\n",
    "\n",
    "probabilidad=0.3156\n",
    "print(probabilidad)"
   ]
  },
  {
   "cell_type": "code",
   "execution_count": 1,
   "metadata": {},
   "outputs": [
    {
     "data": {
      "text/plain": [
       "0.8646647167633873"
      ]
     },
     "execution_count": 1,
     "metadata": {},
     "output_type": "execute_result"
    }
   ],
   "source": [
    "from scipy import stats \n",
    "mu=2\n",
    "stats.poisson.sf(0,mu)"
   ]
  }
 ],
 "metadata": {
  "kernelspec": {
   "display_name": "Python 3",
   "language": "python",
   "name": "python3"
  },
  "language_info": {
   "codemirror_mode": {
    "name": "ipython",
    "version": 3
   },
   "file_extension": ".py",
   "mimetype": "text/x-python",
   "name": "python",
   "nbconvert_exporter": "python",
   "pygments_lexer": "ipython3",
   "version": "3.11.1"
  },
  "orig_nbformat": 4
 },
 "nbformat": 4,
 "nbformat_minor": 2
}
