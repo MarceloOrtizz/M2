{
 "cells": [
  {
   "cell_type": "code",
   "execution_count": 5,
   "metadata": {},
   "outputs": [],
   "source": [
    "import matplotlib.pyplot as plt\n",
    "import pandas as pd\n",
    "import numpy as np \n",
    "from scipy import stats \n",
    "import seaborn as sns \n",
    "from math import e,factorial\n",
    "\n",
    "\n",
    "def probabilidad_poisson(lamba_np,x):\n",
    "     probabilidad = (pow(e,-lamba_np) * pow(lamba_np,x))/factorial(x)\n",
    "     return probabilidad\n",
    "\n",
    "def probabilidad_hipergeometrica(N,X,n,x):\n",
    "  Xx = factorial(X)/(factorial(x)*factorial(X-x))\n",
    "  NX_nx= factorial(N-X)/(factorial(n-x)*factorial((N-X)-(n-x)))\n",
    "  Nn = factorial(N)/(factorial(n)*factorial(N-n))\n",
    "  hipergeometrica = (Xx * NX_nx)/Nn\n",
    "  return hipergeometrica\n",
    "\n",
    "def funcion_binomial(k,n,p):#\n",
    "  num_exitos = factorial(n) #Factorial de la cantidad de casos de éxito buscados.\n",
    "  num_eventos = factorial (k) * factorial(n-k) #Factorial del espacio muestral.\n",
    "  exitos_fracaso=pow(p,k) * pow(1-p,(n-k)) # Probabilidad de exitos y fracasos.\n",
    "  binomial = (num_exitos / num_eventos) * exitos_fracaso #Aplicación de la función binomial.\n",
    "  return binomial"
   ]
  },
  {
   "cell_type": "markdown",
   "metadata": {},
   "source": [
    "1. Considera el experimento que consiste en un empleado que arma un producto.\n",
    "  - a. Defina la variable aleatoria que represente el tiempo en minutos requerido para armar el producto.<br>\n",
    "  - b. ¿Qué valores toma la variable aleatoria?<br>\n",
    "  - c. ¿Es una variable aleatoria discreta o continua?<br>"
   ]
  },
  {
   "cell_type": "code",
   "execution_count": 6,
   "metadata": {},
   "outputs": [],
   "source": [
    "\n",
    "# a. Defina la variable aleatoria que represente el tiempo en minutos requerido para armar el producto\n",
    "# t = tiempo en minutos \n",
    "\n",
    "# b. ¿Qué valores toma la variable aleatoria?\n",
    "# mayores a 0\n",
    "\n",
    "# c. ¿Es una variable aleatoria discreta o continua?\n",
    "# continua"
   ]
  },
  {
   "cell_type": "markdown",
   "metadata": {},
   "source": [
    "2. Considera el experimento que consiste en lanzar una moneda dos veces.\n",
    "  - a. Enumere los resultados experimentales.\n",
    "  - b. Defina una variable aleatoria que represente el número de caras en los dos lanzamientos.\n",
    "  - c. Dé el valor que la variable aleatoria tomará en cada uno de los resultados experimentales.\n",
    "  - d. ¿Es una variable aleatoria discreta o continua?"
   ]
  },
  {
   "cell_type": "code",
   "execution_count": 7,
   "metadata": {},
   "outputs": [],
   "source": [
    "\n",
    "# a. Enumere los resultados experimentales.\n",
    "# 4 : 0 0 - 0 1 - 1 0 - 1 1\n",
    "\n",
    "# b. Defina una variable aleatoria que represente el número de caras en los dos lanzamientos.\n",
    "# p : cantidad de caras  (0,1,2)\n",
    "\n",
    "# c. Dé el valor que la variable aleatoria tomará en cada uno de los resultados experimentales.\n",
    "# p(0)=1/4=0.25\n",
    "# p(1)=2/4=0.50\n",
    "# p(2)=1/4=0.25\n",
    "\n",
    "# d. ¿Es una variable aleatoria discreta o continua?\n",
    "# discreta"
   ]
  },
  {
   "cell_type": "markdown",
   "metadata": {},
   "source": [
    "3. Considera las decisiones de compra de los próximos tres clientes que lleguen a la tienda de ropa Martin Clothing Store. De acuerdo con la experiencia, el gerente de la tienda estima que la probabilidad de que un cliente realice una compra es 0.30. \n",
    "  - a. Describa si cumple con las reglas para clasificarlo como un experimiento binomial.\n",
    "  - b. ¿Cuál es la probabilidad de que dos de los próximos tres clientes realicen una compra?\n",
    "  - c. ¿Cuál es la probabilidad de que cuatro de los próximos diez clientes realicen una compra?"
   ]
  },
  {
   "cell_type": "code",
   "execution_count": 8,
   "metadata": {},
   "outputs": [
    {
     "name": "stdout",
     "output_type": "stream",
     "text": [
      "¿Cuál es la probabilidad de que dos de los próximos tres clientes realicen una compra?:  0.189\n",
      "¿Cuál es la probabilidad de que cuatro de los próximos diez clientes realicen una compra?:  0.20012094899999994\n"
     ]
    }
   ],
   "source": [
    "#   - a. Describa si cumple con las reglas para clasificarlo como un experimiento binomial.\n",
    "\n",
    "# El experimento consiste en una serie de n ensayos idénticos.\n",
    "# En cada ensayo hay dos resultados posibles (éxito y fracaso).\n",
    "# La probabilidad de éxito (P) y de fracaso (1-P) son siempre iguales\n",
    "# Los ensayos son independientes.\n",
    "\n",
    "#   - b. ¿Cuál es la probabilidad de que dos de los próximos tres clientes realicen una compra?\n",
    "print(\"¿Cuál es la probabilidad de que dos de los próximos tres clientes realicen una compra?: \",funcion_binomial(2,3,0.3))\n",
    "\n",
    "#   - c. ¿Cuál es la probabilidad de que cuatro de los próximos diez clientes realicen una compra?\n",
    "print(\"¿Cuál es la probabilidad de que cuatro de los próximos diez clientes realicen una compra?: \",funcion_binomial(4,10,0.3))"
   ]
  },
  {
   "cell_type": "code",
   "execution_count": 9,
   "metadata": {},
   "outputs": [
    {
     "name": "stdout",
     "output_type": "stream",
     "text": [
      "0 0.02824752490000002 0.028247524900000005 0.9717524751\n",
      "1 0.12106082099999992 0.1493083458999999 0.8506916541000001\n",
      "2 0.23347444050000013 0.38278278639999974 0.6172172136000003\n",
      "3 0.2668279319999998 0.6496107184000001 0.35038928159999994\n",
      "4 0.2001209489999999 0.8497316674000001 0.15026833259999997\n",
      "5 0.10291934519999989 0.9526510126 0.0473489874\n",
      "6 0.03675690899999995 0.9894079216 0.0105920784\n",
      "7 0.009001691999999993 0.9984096136 0.0015903864\n",
      "8 0.0014467004999999984 0.9998563141 0.00014368589999999999\n",
      "9 0.00013778099999999985 0.9999940951 5.904899999999999e-06\n",
      "10 5.904899999999999e-06 1.0 0.0\n"
     ]
    }
   ],
   "source": [
    "#Tabla de las probabilidades de los proximos 10 clientes\n",
    "n=10\n",
    "p=0.3\n",
    "bin=stats.binom(n,p)\n",
    "for k in range(n+1):\n",
    "    print(k,bin.pmf(k),bin.cdf(k),bin.sf(k))"
   ]
  },
  {
   "cell_type": "code",
   "execution_count": 10,
   "metadata": {},
   "outputs": [
    {
     "name": "stdout",
     "output_type": "stream",
     "text": [
      "0 0.02824752490000002 0.028247524900000005\n",
      "1 0.12106082099999992 0.1493083458999999\n",
      "2 0.23347444050000013 0.38278278639999974\n",
      "3 0.2668279319999998 0.6496107184000001\n",
      "4 0.2001209489999999 0.8497316674000001\n",
      "5 0.10291934519999989 0.9526510126\n",
      "6 0.03675690899999995 0.9894079216\n",
      "7 0.009001691999999993 0.9984096136\n",
      "8 0.0014467004999999984 0.9998563141\n",
      "9 0.00013778099999999985 0.9999940951\n",
      "10 5.904899999999999e-06 1.0\n"
     ]
    }
   ],
   "source": [
    "n=10\n",
    "p=0.3\n",
    "for k in range(n+1):\n",
    "    print(k,stats.binom.pmf(k,n,p),stats.binom.cdf(k,n,p))"
   ]
  },
  {
   "cell_type": "markdown",
   "metadata": {},
   "source": [
    "4.  A la oficina de reservaciones de una aerolínea regional llegan 48 llamadas por hora.\n",
    "- a. Calcule la probabilidad de recibir cinco llamadas en un lapso de 5 minutos.\n",
    "- b. Estime la probabilidad de recibir exactamente 10 llamadas en un lapso de 15 minutos.\n",
    "- c. Suponga que no hay ninguna llamada en espera. Si el agente de viajes necesitará 5 minutos para la llamada que está atendiendo, ¿cuántas llamadas habrá en espera para cuando él termine? ¿Cuál es la probabilidad de que no haya ninguna llamada en espera?\n",
    "- d. Si en este momento no hay ninguna llamada, ¿cuál es la probabilidad de que el agente de viajes pueda tomar 3 minutos de descanso sin ser interrumpido por una llamada?"
   ]
  },
  {
   "cell_type": "code",
   "execution_count": 11,
   "metadata": {},
   "outputs": [
    {
     "name": "stdout",
     "output_type": "stream",
     "text": [
      "probabilidad de recibir cinco llamadas en un lapso de 5 minutos: \n",
      "0.15629345185053173 \n",
      "\n",
      "probabilidad de recibir exactamente 10 llamadas en un lapso de 15 minutos: \n",
      "0.1048372558836594 \n",
      "\n",
      "¿cuántas llamadas habrá en espera para cuando él termine?: \n",
      "4.0\n",
      "¿Cuál es la probabilidad de que no haya ninguna llamada en espera?:\n",
      "0.018315638888734186 \n",
      "\n",
      "3 minutos de descanso sin recibir llamadas:\n",
      "0.09071795328941248\n"
     ]
    }
   ],
   "source": [
    "# - a. Calcule la probabilidad de recibir cinco llamadas en un lapso de 5 minutos.\n",
    "lam=48/60*5\n",
    "print(\"probabilidad de recibir cinco llamadas en un lapso de 5 minutos: \")\n",
    "print(probabilidad_poisson(lam,5),'\\n')\n",
    "\n",
    "# - b. Estime la probabilidad de recibir exactamente 10 llamadas en un lapso de 15 minutos.\n",
    "lam=48/60*15\n",
    "print(\"probabilidad de recibir exactamente 10 llamadas en un lapso de 15 minutos: \")\n",
    "print(probabilidad_poisson(lam,10),'\\n')\n",
    "\n",
    "# - c. Suponga que no hay ninguna llamada en espera.\n",
    "# Si el agente de viajes necesitará 5 minutos para la llamada que está atendiendo, \n",
    "# ¿cuántas llamadas habrá en espera para cuando él termine? \n",
    "# ¿Cuál es la probabilidad de que no haya ninguna llamada en espera?\n",
    "lam=48/60*5\n",
    "print(\"¿cuántas llamadas habrá en espera para cuando él termine?: \")\n",
    "print(lam)\n",
    "print(\"¿Cuál es la probabilidad de que no haya ninguna llamada en espera?:\")\n",
    "print(probabilidad_poisson(lam,0),'\\n')\n",
    "\n",
    "# - d. Si en este momento no hay ninguna llamada, \n",
    "# ¿cuál es la probabilidad de que el agente de viajes pueda tomar 3 minutos de descanso \n",
    "# sin ser interrumpido por una llamada?\n",
    "lam=48/60*3\n",
    "print(\"3 minutos de descanso sin recibir llamadas:\")\n",
    "print(probabilidad_poisson(lam,0))"
   ]
  },
  {
   "cell_type": "markdown",
   "metadata": {},
   "source": [
    "5. En una encuesta realizada por Gallup Organization, se les preguntó a los interrogados, “Cuál es el deporte que prefieres ver”. Futbol y básquetbol ocuparon el primero y segundo lugar de preferencia (www.gallup.com, 3 de enero de 2004). Si en un grupo de 10 individuos, siete prefieren futbol y tres prefieren básquetbol. Se toma una muestra aleatoria de tres de estas personas.\n",
    "- a. ¿Cuál es la probabilidad de que exactamente dos prefieren el futbol?\n",
    "- b. ¿De que la mayoría (ya sean dos o tres) prefiere el futbol?"
   ]
  },
  {
   "cell_type": "code",
   "execution_count": 12,
   "metadata": {},
   "outputs": [
    {
     "name": "stdout",
     "output_type": "stream",
     "text": [
      "¿Cuál es la probabilidad de que exactamente dos prefieren el futbol?:  0.525\n",
      "¿De que la mayoría (ya sean dos o tres) prefiere el futbol?:  0.8166666666666667\n",
      "0.5249999999999999 0.8166666666666667\n"
     ]
    }
   ],
   "source": [
    "# - a. ¿Cuál es la probabilidad de que exactamente dos prefieren el futbol?\n",
    "# N=elemntos de la poblacion  (10)\n",
    "# X=exito   (preferir el futbol)   \n",
    "# n= muestra aleatoria (3 personas)\n",
    "N=10\n",
    "X=7\n",
    "n=3\n",
    "x=2\n",
    "p2=probabilidad_hipergeometrica(N,X,n,x)\n",
    "print('¿Cuál es la probabilidad de que exactamente dos prefieren el futbol?: ',p2)\n",
    "# - b. ¿De que la mayoría (ya sean dos o tres) prefiere el futbol?\n",
    "p23=probabilidad_hipergeometrica(N,X,n,2)+probabilidad_hipergeometrica(N,X,n,3)\n",
    "print('¿De que la mayoría (ya sean dos o tres) prefiere el futbol?: ',p23)\n",
    "print(stats.hypergeom.pmf(2,10,7,3),stats.hypergeom.sf(1,10,7,3))"
   ]
  },
  {
   "cell_type": "code",
   "execution_count": 13,
   "metadata": {},
   "outputs": [
    {
     "name": "stdout",
     "output_type": "stream",
     "text": [
      "la probabilidad que 0 elija futbol es: 0.008333333333333333\n",
      "la probabilidad que 1 elija futbol es: 0.175\n",
      "la probabilidad que 2 elija futbol es: 0.5249999999999999\n",
      "la probabilidad que 3 elija futbol es: 0.2916666666666667\n"
     ]
    },
    {
     "data": {
      "text/html": [
       "<div>\n",
       "<style scoped>\n",
       "    .dataframe tbody tr th:only-of-type {\n",
       "        vertical-align: middle;\n",
       "    }\n",
       "\n",
       "    .dataframe tbody tr th {\n",
       "        vertical-align: top;\n",
       "    }\n",
       "\n",
       "    .dataframe thead th {\n",
       "        text-align: right;\n",
       "    }\n",
       "</style>\n",
       "<table border=\"1\" class=\"dataframe\">\n",
       "  <thead>\n",
       "    <tr style=\"text-align: right;\">\n",
       "      <th></th>\n",
       "      <th>futbol</th>\n",
       "      <th>acu</th>\n",
       "      <th>P(&gt;x)</th>\n",
       "    </tr>\n",
       "  </thead>\n",
       "  <tbody>\n",
       "    <tr>\n",
       "      <th>0</th>\n",
       "      <td>0.008333</td>\n",
       "      <td>0.008333</td>\n",
       "      <td>0.991667</td>\n",
       "    </tr>\n",
       "    <tr>\n",
       "      <th>1</th>\n",
       "      <td>0.175000</td>\n",
       "      <td>0.183333</td>\n",
       "      <td>0.816667</td>\n",
       "    </tr>\n",
       "    <tr>\n",
       "      <th>2</th>\n",
       "      <td>0.525000</td>\n",
       "      <td>0.708333</td>\n",
       "      <td>0.291667</td>\n",
       "    </tr>\n",
       "    <tr>\n",
       "      <th>3</th>\n",
       "      <td>0.291667</td>\n",
       "      <td>1.000000</td>\n",
       "      <td>0.000000</td>\n",
       "    </tr>\n",
       "  </tbody>\n",
       "</table>\n",
       "</div>"
      ],
      "text/plain": [
       "     futbol       acu     P(>x)\n",
       "0  0.008333  0.008333  0.991667\n",
       "1  0.175000  0.183333  0.816667\n",
       "2  0.525000  0.708333  0.291667\n",
       "3  0.291667  1.000000  0.000000"
      ]
     },
     "execution_count": 13,
     "metadata": {},
     "output_type": "execute_result"
    }
   ],
   "source": [
    "hg=stats.hypergeom(N,X,n)\n",
    "lishg=[]\n",
    "lisx=[]\n",
    "acu=0\n",
    "lisacu=[]\n",
    "for x in range(n+1):\n",
    "    acu+=hg.pmf(x)\n",
    "    lisacu.append(acu)\n",
    "    lishg.append(hg.pmf(x))\n",
    "    lisx.append(x)\n",
    "    print(f\"la probabilidad que {x} elija futbol es: {hg.pmf(x)}\")\n",
    "\n",
    "datos={'futbol':lishg, 'acu':lisacu}\n",
    "df=pd.DataFrame(datos, index=lisx)\n",
    "df['P(>x)']=1-df['acu']\n",
    "df"
   ]
  },
  {
   "cell_type": "code",
   "execution_count": 14,
   "metadata": {},
   "outputs": [
    {
     "data": {
      "text/html": [
       "<div>\n",
       "<style scoped>\n",
       "    .dataframe tbody tr th:only-of-type {\n",
       "        vertical-align: middle;\n",
       "    }\n",
       "\n",
       "    .dataframe tbody tr th {\n",
       "        vertical-align: top;\n",
       "    }\n",
       "\n",
       "    .dataframe thead th {\n",
       "        text-align: right;\n",
       "    }\n",
       "</style>\n",
       "<table border=\"1\" class=\"dataframe\">\n",
       "  <thead>\n",
       "    <tr style=\"text-align: right;\">\n",
       "      <th></th>\n",
       "      <th>futbol</th>\n",
       "      <th>acu</th>\n",
       "      <th>surv</th>\n",
       "    </tr>\n",
       "  </thead>\n",
       "  <tbody>\n",
       "    <tr>\n",
       "      <th>0</th>\n",
       "      <td>0.008333</td>\n",
       "      <td>0.008333</td>\n",
       "      <td>0.991667</td>\n",
       "    </tr>\n",
       "    <tr>\n",
       "      <th>1</th>\n",
       "      <td>0.175000</td>\n",
       "      <td>0.183333</td>\n",
       "      <td>0.816667</td>\n",
       "    </tr>\n",
       "    <tr>\n",
       "      <th>2</th>\n",
       "      <td>0.525000</td>\n",
       "      <td>0.708333</td>\n",
       "      <td>0.291667</td>\n",
       "    </tr>\n",
       "    <tr>\n",
       "      <th>3</th>\n",
       "      <td>0.291667</td>\n",
       "      <td>1.000000</td>\n",
       "      <td>0.000000</td>\n",
       "    </tr>\n",
       "  </tbody>\n",
       "</table>\n",
       "</div>"
      ],
      "text/plain": [
       "     futbol       acu      surv\n",
       "0  0.008333  0.008333  0.991667\n",
       "1  0.175000  0.183333  0.816667\n",
       "2  0.525000  0.708333  0.291667\n",
       "3  0.291667  1.000000  0.000000"
      ]
     },
     "execution_count": 14,
     "metadata": {},
     "output_type": "execute_result"
    }
   ],
   "source": [
    "hg=stats.hypergeom(N,X,n)\n",
    "lishg=[]\n",
    "lisx=[]\n",
    "liscdf=[]\n",
    "lissf=[]\n",
    "for x in range(n+1):\n",
    "    liscdf.append(hg.cdf(x))\n",
    "    lissf.append(hg.sf(x))\n",
    "    lishg.append(hg.pmf(x))\n",
    "    lisx.append(x)\n",
    "\n",
    "datos={'futbol':lishg, 'acu':liscdf, 'surv':lissf}\n",
    "df=pd.DataFrame(datos, index=lisx)\n",
    "df"
   ]
  },
  {
   "cell_type": "markdown",
   "metadata": {},
   "source": [
    "6. La probabilidad de que a un estudiante le guste este modulo es de 0.7 (en Henry somos optimistas), cual es la probabilidad de que les guste este módulo a 6 de los 10 estudiantes.<br>"
   ]
  },
  {
   "cell_type": "code",
   "execution_count": 15,
   "metadata": {},
   "outputs": [
    {
     "name": "stdout",
     "output_type": "stream",
     "text": [
      "que le guste exactamente a 6 es:  0.200120949\n"
     ]
    }
   ],
   "source": [
    "p=0.7\n",
    "k=6\n",
    "n=10\n",
    "print(\"que le guste exactamente a 6 es: \",stats.binom.pmf(k,n,p))"
   ]
  },
  {
   "cell_type": "markdown",
   "metadata": {},
   "source": [
    "7. De todos los push a Git en un Henry Challenge, el 90% lo envía a término. Si se envían 9 ¿cuál es la probabilidad de que 7 lleguen a término?."
   ]
  },
  {
   "cell_type": "code",
   "execution_count": 16,
   "metadata": {},
   "outputs": [
    {
     "name": "stdout",
     "output_type": "stream",
     "text": [
      "¿cuál es la probabilidad de que 7 lleguen a término?:  0.17218688399999987\n"
     ]
    }
   ],
   "source": [
    "p=0.9\n",
    "k=7\n",
    "n=9\n",
    "print(\"¿cuál es la probabilidad de que 7 lleguen a término?: \",stats.binom.pmf(k,n,p))"
   ]
  },
  {
   "cell_type": "markdown",
   "metadata": {},
   "source": [
    "8. En relación con el enunciado anterior cálcule la probabilidad de que 7 o más lleguen a término.\n"
   ]
  },
  {
   "cell_type": "code",
   "execution_count": 17,
   "metadata": {},
   "outputs": [
    {
     "name": "stdout",
     "output_type": "stream",
     "text": [
      "probabilidad de que 7 o más lleguen a término:  0.9470278620000001\n"
     ]
    }
   ],
   "source": [
    "print('probabilidad de que 7 o más lleguen a término: ', stats.binom.sf(k-1,n,p))"
   ]
  },
  {
   "cell_type": "markdown",
   "metadata": {},
   "source": [
    "Distribución de Poisson:<br>\n",
    "9. La cantidad de alumnos promedio que se ausentan en un día de clases en la carrera de Data Science es de 10. Calcular cual es la probabilidad de que se ausenten 7 alumnos.<br>"
   ]
  },
  {
   "cell_type": "code",
   "execution_count": 18,
   "metadata": {},
   "outputs": [
    {
     "data": {
      "text/plain": [
       "0.090079225719216"
      ]
     },
     "execution_count": 18,
     "metadata": {},
     "output_type": "execute_result"
    }
   ],
   "source": [
    "stats.poisson.pmf(7,10)"
   ]
  },
  {
   "cell_type": "markdown",
   "metadata": {},
   "source": [
    "Distribución de Poisson:<br>\n",
    "10. Cuando inicia una clase, los estudiantes ingresan a un ritmo de 5 estudiantes por minuto. Calcular cual es la probabilidad de que ingresen 7 estudiantes por minuto.<br>"
   ]
  },
  {
   "cell_type": "code",
   "execution_count": 19,
   "metadata": {},
   "outputs": [
    {
     "data": {
      "text/plain": [
       "0.10444486295705395"
      ]
     },
     "execution_count": 19,
     "metadata": {},
     "output_type": "execute_result"
    }
   ],
   "source": [
    "stats.poisson.pmf(7,5)"
   ]
  },
  {
   "cell_type": "markdown",
   "metadata": {},
   "source": [
    "## Ejercicios complementarios <br>\n",
    "\n",
    "11. Cada 3 días ingresan 10 estudiantes nuevos al Prep Course de Henry, calcule la probabilidad de que ingresen 15 nuevos estudiantes en un período de 6 días.<br>"
   ]
  },
  {
   "cell_type": "code",
   "execution_count": 20,
   "metadata": {},
   "outputs": [
    {
     "data": {
      "text/plain": [
       "0.05164885353175814"
      ]
     },
     "execution_count": 20,
     "metadata": {},
     "output_type": "execute_result"
    }
   ],
   "source": [
    "#10 en 3 => 20 en 6\n",
    "mu=20\n",
    "stats.poisson.pmf(15,mu)"
   ]
  },
  {
   "cell_type": "code",
   "execution_count": 32,
   "metadata": {},
   "outputs": [
    {
     "data": {
      "image/png": "[encoded data removed]",
      "text/plain": [
       "<Figure size 640x480 with 1 Axes>"
      ]
     },
     "metadata": {},
     "output_type": "display_data"
    }
   ],
   "source": [
    "poisson = stats.poisson(mu) # Distribución\n",
    "x = np.arange(poisson.ppf(0.02),\n",
    "              poisson.ppf(0.98))\n",
    "fmp = poisson.pmf(x) # Función de Masa de Probabilidad\n",
    "plt.plot(x, fmp, '--')\n",
    "plt.vlines(x, 0, fmp, colors='b', lw=5, alpha=0.5)\n",
    "plt.title('Distribución Poisson')\n",
    "plt.ylabel('probabilidad')\n",
    "plt.xlabel('estudiantes')\n",
    "plt.show()"
   ]
  },
  {
   "cell_type": "markdown",
   "metadata": {},
   "source": [
    "12. En una distribución de Poisson de lamba_np=3, cual es la probabilidad de x>=1.<br>"
   ]
  },
  {
   "cell_type": "code",
   "execution_count": 34,
   "metadata": {},
   "outputs": [
    {
     "data": {
      "text/plain": [
       "0.950212931632136"
      ]
     },
     "execution_count": 34,
     "metadata": {},
     "output_type": "execute_result"
    }
   ],
   "source": [
    "mu=3\n",
    "stats.poisson.sf(0,mu)"
   ]
  },
  {
   "cell_type": "code",
   "execution_count": 42,
   "metadata": {},
   "outputs": [
    {
     "data": {
      "image/png": "[encoded data removed]",
      "text/plain": [
       "<Figure size 640x480 with 1 Axes>"
      ]
     },
     "metadata": {},
     "output_type": "display_data"
    }
   ],
   "source": [
    "poisson = stats.poisson(mu) # Distribución\n",
    "x = np.arange(poisson.ppf(0),\n",
    "              poisson.ppf(0.9999))\n",
    "fmp = poisson.pmf(x) # Función de Masa de Probabilidad\n",
    "plt.plot(x, fmp, '--')\n",
    "plt.vlines(x, 0, fmp, colors='b', lw=5, alpha=0.5)\n",
    "plt.title('Distribución Poisson')\n",
    "plt.ylabel('probabilidad')\n",
    "plt.xlabel('valores')\n",
    "plt.show()"
   ]
  },
  {
   "cell_type": "markdown",
   "metadata": {},
   "source": [
    "Distribución Normal:<br>\n",
    "13. La calificación promedio de los estudiantes de Henry es de 78 con una desviación estandar de 25. Cual es la probabilidad de tener estudiantes con calificaciones mayores o iguales 90."
   ]
  },
  {
   "cell_type": "code",
   "execution_count": 60,
   "metadata": {},
   "outputs": [
    {
     "name": "stdout",
     "output_type": "stream",
     "text": [
      "buscando 0.48 en la tabla  =>  0.3156\n"
     ]
    }
   ],
   "source": [
    "m=78\n",
    "ds=25\n",
    "x=90\n",
    "z=(x-m)/ds\n",
    "print(f'buscando {z} en la tabla  => ',0.3156)"
   ]
  },
  {
   "cell_type": "code",
   "execution_count": 61,
   "metadata": {},
   "outputs": [
    {
     "data": {
      "text/plain": [
       "0.3156136965162226"
      ]
     },
     "execution_count": 61,
     "metadata": {},
     "output_type": "execute_result"
    }
   ],
   "source": [
    "#1 menos el acumulado hasta 0.48\n",
    "1-stats.norm.cdf(0.48,0,1)"
   ]
  },
  {
   "cell_type": "code",
   "execution_count": 62,
   "metadata": {},
   "outputs": [
    {
     "data": {
      "text/plain": [
       "0.31561369651622256"
      ]
     },
     "execution_count": 62,
     "metadata": {},
     "output_type": "execute_result"
    }
   ],
   "source": [
    "#acumulado hasta 0.48\n",
    "stats.norm.sf(0.48,0,1)"
   ]
  },
  {
   "cell_type": "code",
   "execution_count": 63,
   "metadata": {},
   "outputs": [
    {
     "data": {
      "text/plain": [
       "0.31561369651622256"
      ]
     },
     "execution_count": 63,
     "metadata": {},
     "output_type": "execute_result"
    }
   ],
   "source": [
    "#acumulado hasta 90 con m=78 y ds=25\n",
    "stats.norm.sf(90,78,25)"
   ]
  },
  {
   "cell_type": "code",
   "execution_count": 68,
   "metadata": {},
   "outputs": [
    {
     "data": {
      "image/png": "[encoded data removed]",
      "text/plain": [
       "<Figure size 640x480 with 1 Axes>"
      ]
     },
     "metadata": {},
     "output_type": "display_data"
    }
   ],
   "source": [
    "# Graficando Normal\n",
    "mu, sigma = 78, 25 # media y desvio estandar\n",
    "normal = stats.norm(mu, sigma)\n",
    "x = np.linspace(normal.ppf(0.1),\n",
    "                normal.ppf(0.9), 100)\n",
    "fp = normal.pdf(x) # Función de Probabilidad\n",
    "plt.plot(x, fp)\n",
    "plt.title('Distribución Normal')\n",
    "plt.ylabel('probabilidad')\n",
    "plt.xlabel('calificacion')\n",
    "plt.show()"
   ]
  },
  {
   "cell_type": "code",
   "execution_count": 83,
   "metadata": {},
   "outputs": [
    {
     "data": {
      "image/png": "[encoded data removed]",
      "text/plain": [
       "<Figure size 640x480 with 1 Axes>"
      ]
     },
     "metadata": {},
     "output_type": "display_data"
    }
   ],
   "source": [
    "mu, sigma = 78, 25\n",
    "datos = np.random.normal(mu, sigma, 10000)\n",
    "cuenta, cajas, ignorar = plt.hist(datos, 100)\n",
    "plt.ylabel('frequencia')\n",
    "plt.xlabel('notas')\n",
    "plt.title('Histograma')\n",
    "plt.show()"
   ]
  }
 ],
 "metadata": {
  "kernelspec": {
   "display_name": "Python 3",
   "language": "python",
   "name": "python3"
  },
  "language_info": {
   "codemirror_mode": {
    "name": "ipython",
    "version": 3
   },
   "file_extension": ".py",
   "mimetype": "text/x-python",
   "name": "python",
   "nbconvert_exporter": "python",
   "pygments_lexer": "ipython3",
   "version": "3.10.11"
  },
  "orig_nbformat": 4
 },
 "nbformat": 4,
 "nbformat_minor": 2
}
