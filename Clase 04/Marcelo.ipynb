{
 "cells": [
  {
   "cell_type": "code",
   "execution_count": 2,
   "metadata": {},
   "outputs": [],
   "source": [
    "import matplotlib.pyplot as plt\n",
    "import numpy as np \n",
    "from scipy import stats \n",
    "import seaborn as sns \n",
    "from math import e,factorial\n",
    "\n",
    "\n",
    "def probabilidad_poisson(lamba_np,x):\n",
    "     probabilidad = (pow(e,-lamba_np) * pow(lamba_np,x))/factorial(x)\n",
    "     return probabilidad\n",
    "\n",
    "def probabilidad_hipergeometrica(N,X,n,x):\n",
    "  Xx = factorial(X)/(factorial(x)*factorial(X-x))\n",
    "  NX_nx= factorial(N-X)/(factorial(n-x)*factorial((N-X)-(n-x)))\n",
    "  Nn = factorial(N)/(factorial(n)*factorial(N-n))\n",
    "  hipergeometrica = (Xx * NX_nx)/Nn\n",
    "  return hipergeometrica\n",
    "\n",
    "def funcion_binomial(k,n,p):#\n",
    "  num_exitos = factorial(n) #Factorial de la cantidad de casos de éxito buscados.\n",
    "  num_eventos = factorial (k) * factorial(n-k) #Factorial del espacio muestral.\n",
    "  exitos_fracaso=pow(p,k) * pow(1-p,(n-k)) # Probabilidad de exitos y fracasos.\n",
    "  binomial = (num_exitos / num_eventos) * exitos_fracaso #Aplicación de la función binomial.\n",
    "  return binomial"
   ]
  },
  {
   "cell_type": "markdown",
   "metadata": {},
   "source": [
    "1. Considera el experimento que consiste en un empleado que arma un producto.\n",
    "  - a. Defina la variable aleatoria que represente el tiempo en minutos requerido para armar el producto.<br>\n",
    "  - b. ¿Qué valores toma la variable aleatoria?<br>\n",
    "  - c. ¿Es una variable aleatoria discreta o continua?<br>"
   ]
  },
  {
   "cell_type": "code",
   "execution_count": 3,
   "metadata": {},
   "outputs": [],
   "source": [
    "\n",
    "# a. Defina la variable aleatoria que represente el tiempo en minutos requerido para armar el producto\n",
    "# t = tiempo en minutos \n",
    "\n",
    "# b. ¿Qué valores toma la variable aleatoria?\n",
    "# mayores a 0\n",
    "\n",
    "# c. ¿Es una variable aleatoria discreta o continua?\n",
    "# continua"
   ]
  },
  {
   "cell_type": "markdown",
   "metadata": {},
   "source": [
    "2. Considera el experimento que consiste en lanzar una moneda dos veces.\n",
    "  - a. Enumere los resultados experimentales.\n",
    "  - b. Defina una variable aleatoria que represente el número de caras en los dos lanzamientos.\n",
    "  - c. Dé el valor que la variable aleatoria tomará en cada uno de los resultados experimentales.\n",
    "  - d. ¿Es una variable aleatoria discreta o continua?"
   ]
  },
  {
   "cell_type": "code",
   "execution_count": 4,
   "metadata": {},
   "outputs": [],
   "source": [
    "\n",
    "# a. Enumere los resultados experimentales.\n",
    "# 4 : 0 0 - 0 1 - 1 0 - 1 1\n",
    "\n",
    "# b. Defina una variable aleatoria que represente el número de caras en los dos lanzamientos.\n",
    "# p : cantidad de caras  (0,1,2)\n",
    "\n",
    "# c. Dé el valor que la variable aleatoria tomará en cada uno de los resultados experimentales.\n",
    "# p(0)=1/4=0.25\n",
    "# p(1)=2/4=0.50\n",
    "# p(2)=1/4=0.25\n",
    "\n",
    "# d. ¿Es una variable aleatoria discreta o continua?\n",
    "# discreta"
   ]
  },
  {
   "cell_type": "markdown",
   "metadata": {},
   "source": [
    "3. Considera las decisiones de compra de los próximos tres clientes que lleguen a la tienda de ropa Martin Clothing Store. De acuerdo con la experiencia, el gerente de la tienda estima que la probabilidad de que un cliente realice una compra es 0.30. \n",
    "  - a. Describa si cumple con las reglas para clasificarlo como un experimiento binomial.\n",
    "  - b. ¿Cuál es la probabilidad de que dos de los próximos tres clientes realicen una compra?\n",
    "  - c. ¿Cuál es la probabilidad de que cuatro de los próximos diez clientes realicen una compra?"
   ]
  },
  {
   "cell_type": "code",
   "execution_count": 8,
   "metadata": {},
   "outputs": [
    {
     "name": "stdout",
     "output_type": "stream",
     "text": [
      "¿Cuál es la probabilidad de que dos de los próximos tres clientes realicen una compra?:  0.189\n",
      "¿Cuál es la probabilidad de que cuatro de los próximos diez clientes realicen una compra?:  0.20012094899999994\n"
     ]
    }
   ],
   "source": [
    "#   - a. Describa si cumple con las reglas para clasificarlo como un experimiento binomial.\n",
    "\n",
    "# El experimento consiste en una serie de n ensayos idénticos.\n",
    "# En cada ensayo hay dos resultados posibles (éxito y fracaso).\n",
    "# La probabilidad de éxito (P) y de fracaso (1-P) son siempre iguales\n",
    "# Los ensayos son independientes.\n",
    "\n",
    "#   - b. ¿Cuál es la probabilidad de que dos de los próximos tres clientes realicen una compra?\n",
    "print(\"¿Cuál es la probabilidad de que dos de los próximos tres clientes realicen una compra?: \",funcion_binomial(2,3,0.3))\n",
    "\n",
    "#   - c. ¿Cuál es la probabilidad de que cuatro de los próximos diez clientes realicen una compra?\n",
    "print(\"¿Cuál es la probabilidad de que cuatro de los próximos diez clientes realicen una compra?: \",funcion_binomial(4,10,0.3))"
   ]
  },
  {
   "cell_type": "code",
   "execution_count": 7,
   "metadata": {},
   "outputs": [
    {
     "name": "stdout",
     "output_type": "stream",
     "text": [
      "0.3429999999999999\n",
      "0.4409999999999998\n",
      "0.18899999999999992\n",
      "0.027\n"
     ]
    }
   ],
   "source": [
    "distribucion = stats.binom(3,0.3)\n",
    "print(distribucion.pmf(0))\n",
    "print(distribucion.pmf(1))\n",
    "print(distribucion.pmf(2))\n",
    "print(distribucion.pmf(3))\n"
   ]
  },
  {
   "cell_type": "code",
   "execution_count": 25,
   "metadata": {},
   "outputs": [
    {
     "name": "stdout",
     "output_type": "stream",
     "text": [
      "4.8968536936504206e-05\n",
      "0.0009477781342549201\n",
      "0.007863596707646293\n",
      "0.03685564517523111\n",
      "0.10812795900674417\n",
      "0.20760568129294882\n",
      "0.26431278868315244\n",
      "0.22043074268556342\n",
      "0.11529107923356771\n",
      "0.034160319772908954\n",
      "0.004355440771045892\n"
     ]
    }
   ],
   "source": [
    "hg=stats.hypergeom(100,60,10)\n",
    "print(hg.pmf(0))\n",
    "print(hg.pmf(1))\n",
    "print(hg.pmf(2))\n",
    "print(hg.pmf(3))\n",
    "print(hg.pmf(4))\n",
    "print(hg.pmf(5))\n",
    "print(hg.pmf(6))\n",
    "print(hg.pmf(7))\n",
    "print(hg.pmf(8))\n",
    "print(hg.pmf(9))\n",
    "print(hg.pmf(10))"
   ]
  },
  {
   "cell_type": "code",
   "execution_count": 21,
   "metadata": {},
   "outputs": [
    {
     "name": "stdout",
     "output_type": "stream",
     "text": [
      "<class 'scipy.stats._distn_infrastructure.rv_discrete_frozen'>\n"
     ]
    },
    {
     "data": {
      "text/plain": [
       "5.1268373306383224e-189"
      ]
     },
     "execution_count": 21,
     "metadata": {},
     "output_type": "execute_result"
    }
   ],
   "source": [
    "algo=stats.poisson(0.5)\n",
    "print(type(algo))\n",
    "algo.pmf(100)"
   ]
  },
  {
   "cell_type": "code",
   "execution_count": 12,
   "metadata": {},
   "outputs": [
    {
     "name": "stdout",
     "output_type": "stream",
     "text": [
      "<class 'scipy.stats._distn_infrastructure.rv_discrete_frozen'>\n",
      "5.904899999999999e-06\n",
      "0.12106082099999992\n",
      "0.23347444050000013\n",
      "0.2001209489999999\n"
     ]
    }
   ],
   "source": [
    "distribucion = stats.binom(10,0.3)\n",
    "print(type(distribucion))\n",
    "print(distribucion.pmf(10))\n",
    "print(distribucion.pmf(1))\n",
    "print(distribucion.pmf(2))\n",
    "print(distribucion.pmf(4))"
   ]
  },
  {
   "cell_type": "markdown",
   "metadata": {},
   "source": [
    "4.  A la oficina de reservaciones de una aerolínea regional llegan 48 llamadas por hora.\n",
    "- a. Calcule la probabilidad de recibir cinco llamadas en un lapso de 5 minutos.\n",
    "- b. Estime la probabilidad de recibir exactamente 10 llamadas en un lapso de 15 minutos.\n",
    "- c. Suponga que no hay ninguna llamada en espera. Si el agente de viajes necesitará 5 minutos para la llamada que está atendiendo, ¿cuántas llamadas habrá en espera para cuando él termine? ¿Cuál es la probabilidad de que no haya ninguna llamada en espera?\n",
    "- d. Si en este momento no hay ninguna llamada, ¿cuál es la probabilidad de que el agente de viajes pueda tomar 3 minutos de descanso sin ser interrumpido por una llamada?"
   ]
  },
  {
   "cell_type": "code",
   "execution_count": 20,
   "metadata": {},
   "outputs": [
    {
     "name": "stdout",
     "output_type": "stream",
     "text": [
      "probabilidad de recibir cinco llamadas en un lapso de 5 minutos: \n",
      "0.15629345185053173\n",
      "probabilidad de recibir exactamente 10 llamadas en un lapso de 15 minutos: \n",
      "0.1048372558836594\n",
      "¿cuántas llamadas habrá en espera para cuando él termine?: \n",
      "4.0\n",
      "¿Cuál es la probabilidad de que no haya ninguna llamada en espera?:\n",
      "0.018315638888734186\n",
      "3 minutos de descanso sin recibir llamadas:\n",
      "0.09071795328941248\n"
     ]
    }
   ],
   "source": [
    "# - a. Calcule la probabilidad de recibir cinco llamadas en un lapso de 5 minutos.\n",
    "lam=48/60*5\n",
    "print(\"probabilidad de recibir cinco llamadas en un lapso de 5 minutos: \")\n",
    "print(probabilidad_poisson(lam,5))\n",
    "\n",
    "# - b. Estime la probabilidad de recibir exactamente 10 llamadas en un lapso de 15 minutos.\n",
    "lam=48/60*15\n",
    "print(\"probabilidad de recibir exactamente 10 llamadas en un lapso de 15 minutos: \")\n",
    "print(probabilidad_poisson(lam,10))\n",
    "\n",
    "# - c. Suponga que no hay ninguna llamada en espera.\n",
    "# Si el agente de viajes necesitará 5 minutos para la llamada que está atendiendo, \n",
    "# ¿cuántas llamadas habrá en espera para cuando él termine? \n",
    "# ¿Cuál es la probabilidad de que no haya ninguna llamada en espera?\n",
    "lam=48/60*5\n",
    "print(\"¿cuántas llamadas habrá en espera para cuando él termine?: \")\n",
    "print(lam)\n",
    "print(\"¿Cuál es la probabilidad de que no haya ninguna llamada en espera?:\")\n",
    "print(probabilidad_poisson(lam,0))\n",
    "\n",
    "# - d. Si en este momento no hay ninguna llamada, \n",
    "# ¿cuál es la probabilidad de que el agente de viajes pueda tomar 3 minutos de descanso \n",
    "# sin ser interrumpido por una llamada?\n",
    "lam=48/60*3\n",
    "print(\"3 minutos de descanso sin recibir llamadas:\")\n",
    "print(probabilidad_poisson(lam,0))"
   ]
  },
  {
   "cell_type": "markdown",
   "metadata": {},
   "source": [
    "5. En una encuesta realizada por Gallup Organization, se les preguntó a los interrogados, “Cuál es el deporte que prefieres ver”. Futbol y básquetbol ocuparon el primero y segundo lugar de preferencia (www.gallup.com, 3 de enero de 2004). Si en un grupo de 10 individuos, siete prefieren futbol y tres prefieren básquetbol. Se toma una muestra aleatoria de tres de estas personas.\n",
    "- a. ¿Cuál es la probabilidad de que exactamente dos prefieren el futbol?\n",
    "- b. ¿De que la mayoría (ya sean dos o tres) prefiere el futbol?"
   ]
  },
  {
   "cell_type": "code",
   "execution_count": null,
   "metadata": {},
   "outputs": [],
   "source": [
    "# - a. ¿Cuál es la probabilidad de que exactamente dos prefieren el futbol?\n",
    "# N=elemntos de la poblacion  (10)\n",
    "# X=exito   ()   \n",
    "# n= muestra (3)\n",
    "# N=elemntos de la poblacion\n",
    "\n",
    "probabilidad_hipergeometrica(N,X,n,x)\n",
    "\n",
    "# - b. ¿De que la mayoría (ya sean dos o tres) prefiere el futbol?"
   ]
  }
 ],
 "metadata": {
  "kernelspec": {
   "display_name": "Python 3",
   "language": "python",
   "name": "python3"
  },
  "language_info": {
   "codemirror_mode": {
    "name": "ipython",
    "version": 3
   },
   "file_extension": ".py",
   "mimetype": "text/x-python",
   "name": "python",
   "nbconvert_exporter": "python",
   "pygments_lexer": "ipython3",
   "version": "3.10.11"
  },
  "orig_nbformat": 4
 },
 "nbformat": 4,
 "nbformat_minor": 2
}
